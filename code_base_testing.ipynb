{
 "cells": [
  {
   "cell_type": "code",
   "execution_count": 510,
   "metadata": {},
   "outputs": [],
   "source": [
    "import pandas as pd\n",
    "import numpy as np\n",
    "from scipy.spatial.distance import squareform, pdist\n",
    "from scipy.cluster import hierarchy\n",
    "from matplotlib import pyplot as plt\n",
    "\n",
    "from sklearn.cluster import AgglomerativeClustering\n",
    "\n",
    "from typing import List, Union, Tuple\n",
    "from numpy.typing import ArrayLike"
   ]
  },
  {
   "cell_type": "code",
   "execution_count": 4,
   "metadata": {},
   "outputs": [],
   "source": [
    "df = pd.DataFrame({\n",
    "    'age': [44, 18, 40, 33, 33, 50, 22, 23, 39, 42, 57, 51],\n",
    "    'gender': pd.Categorical(['f', 'm', 'f', 'f', 'm', 'f', 'f', 'f', 'm', 'm', 'm', 'm']),\n",
    "    'ethnicity': pd.Categorical(['A', 'B', 'A', 'D', 'C', 'B', 'A', 'A', 'B', 'B', 'C', 'C'])\n",
    "})"
   ]
  },
  {
   "cell_type": "code",
   "execution_count": 16,
   "metadata": {},
   "outputs": [],
   "source": [
    "def create_numerical_df(df:pd.DataFrame, dummy_columns:list)->pd.DataFrame:\n",
    "    \"\"\"Creates an encoded dataframe for the use in the ASW clustering method.\n",
    "\n",
    "    Args:\n",
    "        df (pd.DataFrame): data you want to cluster\n",
    "        dummy_columns (list): columns you want encoded. All other columns will remain the same\n",
    "\n",
    "    Returns:\n",
    "        pd.DataFrame: the data frame with encodings for specified columns\n",
    "    \"\"\"\n",
    "\n",
    "    subset_df = df[dummy_columns]\n",
    "    keep_df = df.drop(columns=dummy_columns)\n",
    "    dummy_df = pd.get_dummies(subset_df,dtype=float)*1/(2**(1/2))\n",
    "    \n",
    "    return pd.concat([keep_df,dummy_df],axis=1)\n"
   ]
  },
  {
   "cell_type": "code",
   "execution_count": 496,
   "metadata": {},
   "outputs": [],
   "source": [
    "def h_clustering(data:pd.DataFrame,n_cluster:int, method:str = 'ward')->ArrayLike:\n",
    "    \"\"\"Conduct hierarchical clustering based on provided arguments\n",
    "\n",
    "    Args:\n",
    "        data (pd.DataFrame): data to be clustered\n",
    "        n_cluster (int): number of clusters\n",
    "        method (str, optional): Method to use. Defaults to 'ward'.\n",
    "\n",
    "    Returns:\n",
    "        ArrayLike: initial cluster assignments\n",
    "    \"\"\"\n",
    "    \n",
    "    linkage = hierarchy.linkage(data, method = method)\n",
    "    cluster_assignments = hierarchy.cut_tree(linkage, n_clusters=n_cluster)\n",
    "\n",
    "    return cluster_assignments.T[0]\n",
    "    "
   ]
  },
  {
   "cell_type": "code",
   "execution_count": 288,
   "metadata": {},
   "outputs": [],
   "source": [
    "def dist_matrix_e(data:Union[ArrayLike,pd.DataFrame], weights:ArrayLike=None)->ArrayLike:\n",
    "    \"\"\"Calculate n x n Euclidean distance matrix, containing the pairwise Euclidean\n",
    "    distances between the n group members\n",
    "\n",
    "    Args:\n",
    "        data (Union[ArrayLike,pd.DataFrame]): dummy encoded data\n",
    "        weights (ArrayLike, optional): Weights for features. Defaults to None.\n",
    "\n",
    "    Returns:\n",
    "        ArrayLike: n x n Euclidean distance matrix\n",
    "    \"\"\"\n",
    "    # Check if the input is a DataFrame; if so, convert to a NumPy array\n",
    "    if isinstance(data, pd.DataFrame):\n",
    "        data = data.values\n",
    "        \n",
    "    # If weights are not provided, set them to 1 for all columns\n",
    "    if weights is None:\n",
    "        weights = np.ones(data.shape[1])\n",
    "    else:\n",
    "        # Ensure weights are a NumPy array for consistency\n",
    "        weights = np.asarray(weights)\n",
    "\n",
    "    # Apply weights to data\n",
    "    weighted_data = data * weights\n",
    "\n",
    "    # Calculate pairwise distances using pdist and convert to a square matrix\n",
    "    # The 'euclidean' metric is used because we're calculating the Euclidean distance\n",
    "    dist_matrix = squareform(pdist(weighted_data, metric='euclidean'))\n",
    "\n",
    "    return dist_matrix"
   ]
  },
  {
   "cell_type": "code",
   "execution_count": 470,
   "metadata": {},
   "outputs": [],
   "source": [
    "def calculate_asw(dist_matrix:ArrayLike,assignments:ArrayLike)->float:\n",
    "    \"\"\"Calculates the average silhouette width for cluster assignments\n",
    "\n",
    "    Args:\n",
    "        dist_matrix (ArrayLike): distance matrix, n x n\n",
    "        assignments (ArrayLike): cluster assignments 1 x n\n",
    "\n",
    "    Returns:\n",
    "        float: the average silhouette width for current assignments\n",
    "    \"\"\"\n",
    "    a_i = np.zeros(len(assignments))\n",
    "    b_i = np.zeros(len(assignments))\n",
    "    classes = np.unique(assignments)\n",
    "    num_classes = len(classes)\n",
    "\n",
    "    isolates = []\n",
    "\n",
    "    for idx, c_l in enumerate(assignments):\n",
    "        \n",
    "        all_b_i = np.zeros(num_classes)\n",
    "\n",
    "        # Find neighbors in their assigned cluster\n",
    "        g = np.where(assignments == c_l)[0]\n",
    "        neighbors = g[g!=idx]\n",
    "\n",
    "        # if they are an isolate, their sil width becomes 0\n",
    "        if len(neighbors) == 0:\n",
    "            isolates.append(idx)\n",
    "            a_distances = [0]\n",
    "        # get distances for neighbors\n",
    "        else:\n",
    "            a_distances = dist_matrix[idx][neighbors]\n",
    "\n",
    "        # get distances for members of other clusters\n",
    "        for c in classes:\n",
    "            if c!=c_l:\n",
    "                \n",
    "                g = np.where(assignments == c)[0]\n",
    "\n",
    "                b_distances = dist_matrix[idx][g]\n",
    "\n",
    "                index = np.where(classes==c)[0][0]\n",
    "                all_b_i[index] = np.mean(b_distances)\n",
    "\n",
    "        # remove the 0 for the assigned group\n",
    "        c_l_index = np.where(classes==c_l)[0][0]\n",
    "        all_b_i = np.delete(all_b_i,c_l_index)\n",
    "\n",
    "        a_i[idx] = np.mean(a_distances)\n",
    "        b_i[idx] = np.min(all_b_i)\n",
    "\n",
    "    sil_width = (b_i-a_i)/np.maximum(a_i,b_i)\n",
    "\n",
    "    # if a person is by themselves, their sil width becomes 0\n",
    "    if len(isolates)>0:\n",
    "        for i in isolates:\n",
    "            sil_width[i] = 0\n",
    "\n",
    "    asw = np.mean(sil_width)\n",
    "\n",
    "    return asw"
   ]
  },
  {
   "cell_type": "code",
   "execution_count": 512,
   "metadata": {},
   "outputs": [],
   "source": [
    "def reassign_members(dist_matrix:ArrayLike, assignments:ArrayLike)->Tuple[dict,float,ArrayLike]:\n",
    "    \"\"\"Iterates through each member and then assigns them to different\n",
    "    clusters. For each iteration every member is assigned to the other cluster.\n",
    "    The optimal move is the maximum ASW calculated starting with the initial assignments.\n",
    "\n",
    "    Args:\n",
    "        dist_matrix (ArrayLike): distances\n",
    "        assignments (ArrayLike): cluster assignments\n",
    "\n",
    "    Returns:\n",
    "        Tuple(dict,float,ArrayLike): dictionary of optimal change id: group, maximum ASW, optimal cluster assignments\n",
    "    \"\"\"\n",
    "\n",
    "    classes = np.unique(assignments)\n",
    "    update_move = {}\n",
    "    optimal_assignment = assignments.copy()\n",
    "    max_asw = calculate_asw(dist_matrix,assignments)\n",
    "\n",
    "    for idx, c_l in enumerate(assignments):\n",
    "\n",
    "        for new_class in classes:\n",
    "            if c_l != new_class:\n",
    "                temp_assignment = assignments.copy()\n",
    "                temp_assignment[idx] = new_class\n",
    "\n",
    "                new_asw = calculate_asw(dist_matrix,temp_assignment)\n",
    "\n",
    "                if new_asw > max_asw:\n",
    "                    update_move = {idx:new_class}\n",
    "                    optimal_assignment = temp_assignment.copy()\n",
    "                    max_asw = new_asw\n",
    "\n",
    "    return update_move, max_asw, optimal_assignment"
   ]
  },
  {
   "cell_type": "code",
   "execution_count": 521,
   "metadata": {},
   "outputs": [],
   "source": [
    "def _fit(data,n_clusters):\n",
    "\n",
    "    if n_clusters>data.shape[0]:\n",
    "        raise ValueError(\"The number of clusters {} exceeds the number of observations {}\".format(n_clusters,data.shape[0]))\n",
    "    \n",
    "    dist_matrix = dist_matrix_e(data)\n",
    "\n",
    "    best_fit = {'optimal_assignment': [],\n",
    "                'asw':-99,\n",
    "                'method':'',\n",
    "                'number_of_groups': 0}\n",
    "\n",
    "    for n in range(2,n_clusters+1):\n",
    "\n",
    "        initial_assignments = h_clustering(data,n,'ward')\n",
    "\n",
    "        update_move, temp_max_asw, optimal_assignments = reassign_members(dist_matrix, initial_assignments)\n",
    "        \n",
    "        if temp_max_asw > best_fit['asw']:\n",
    "            best_fit['optimal_assignment'] = optimal_assignments\n",
    "            best_fit['asw'] = temp_max_asw\n",
    "            best_fit['method'] = 'ward'\n",
    "            best_fit['number_of_groups'] = n\n",
    "\n",
    "    for n in range(2,n_clusters+1):\n",
    "\n",
    "        initial_assignments = h_clustering(data,n,'average')\n",
    "\n",
    "        update_move, temp_max_asw, optimal_assignments = reassign_members(dist_matrix, initial_assignments)\n",
    "\n",
    "        if temp_max_asw > best_fit['asw']:\n",
    "            best_fit['optimal_assignment'] = optimal_assignments\n",
    "            best_fit['asw'] = temp_max_asw\n",
    "            best_fit['method'] = 'average'\n",
    "            best_fit['number_of_groups'] = n\n",
    "        elif temp_max_asw == best_fit['asw'] and best_fit['method'] == 'ward':\n",
    "            best_fit['method'] = ['ward', 'average']\n",
    "        \n",
    "    return best_fit"
   ]
  },
  {
   "cell_type": "code",
   "execution_count": 522,
   "metadata": {},
   "outputs": [
    {
     "data": {
      "text/plain": [
       "{'optimal_assignment': array([0, 1, 0, 2, 2, 3, 1, 1, 0, 0, 3, 3]),\n",
       " 'asw': np.float64(0.6527976437863343),\n",
       " 'method': ['ward', 'average'],\n",
       " 'number_of_groups': 4}"
      ]
     },
     "execution_count": 522,
     "metadata": {},
     "output_type": "execute_result"
    }
   ],
   "source": [
    "_fit(dummy_df,6)"
   ]
  },
  {
   "cell_type": "code",
   "execution_count": null,
   "metadata": {},
   "outputs": [],
   "source": [
    "1 2 1 3 3 4 2 2 1 1 4 4"
   ]
  },
  {
   "cell_type": "code",
   "execution_count": 501,
   "metadata": {},
   "outputs": [
    {
     "ename": "ValueError",
     "evalue": "The number of clusters 15 exceeds the number of observations 12",
     "output_type": "error",
     "traceback": [
      "\u001b[0;31m---------------------------------------------------------------------------\u001b[0m",
      "\u001b[0;31mValueError\u001b[0m                                Traceback (most recent call last)",
      "Cell \u001b[0;32mIn[501], line 1\u001b[0m\n\u001b[0;32m----> 1\u001b[0m \u001b[43m_fit\u001b[49m\u001b[43m(\u001b[49m\u001b[43mdummy_df\u001b[49m\u001b[43m,\u001b[49m\u001b[38;5;241;43m15\u001b[39;49m\u001b[43m)\u001b[49m\n",
      "Cell \u001b[0;32mIn[500], line 3\u001b[0m, in \u001b[0;36m_fit\u001b[0;34m(data, n_clusters)\u001b[0m\n\u001b[1;32m      1\u001b[0m \u001b[38;5;28;01mdef\u001b[39;00m \u001b[38;5;21m_fit\u001b[39m(data,n_clusters):\n\u001b[1;32m      2\u001b[0m     \u001b[38;5;28;01mif\u001b[39;00m n_clusters\u001b[38;5;241m>\u001b[39mdata\u001b[38;5;241m.\u001b[39mshape[\u001b[38;5;241m0\u001b[39m]:\n\u001b[0;32m----> 3\u001b[0m         \u001b[38;5;28;01mraise\u001b[39;00m \u001b[38;5;167;01mValueError\u001b[39;00m(\u001b[38;5;124m\"\u001b[39m\u001b[38;5;124mThe number of clusters \u001b[39m\u001b[38;5;132;01m{}\u001b[39;00m\u001b[38;5;124m exceeds the number of observations \u001b[39m\u001b[38;5;132;01m{}\u001b[39;00m\u001b[38;5;124m\"\u001b[39m\u001b[38;5;241m.\u001b[39mformat(n_clusters,data\u001b[38;5;241m.\u001b[39mshape[\u001b[38;5;241m0\u001b[39m]))\n\u001b[1;32m      5\u001b[0m     \u001b[38;5;28;01mreturn\u001b[39;00m \u001b[38;5;28;01mNone\u001b[39;00m\n",
      "\u001b[0;31mValueError\u001b[0m: The number of clusters 15 exceeds the number of observations 12"
     ]
    }
   ],
   "source": [
    "_fit(dummy_df,15)"
   ]
  },
  {
   "cell_type": "code",
   "execution_count": 491,
   "metadata": {},
   "outputs": [
    {
     "data": {
      "text/plain": [
       "array([[0, 1, 0, 0, 0, 0, 1, 1, 0, 0, 0, 0]])"
      ]
     },
     "execution_count": 491,
     "metadata": {},
     "output_type": "execute_result"
    }
   ],
   "source": [
    "ward_assignments"
   ]
  },
  {
   "cell_type": "code",
   "execution_count": null,
   "metadata": {},
   "outputs": [],
   "source": [
    "1 2 3 4 4 5 2 2 3 1 6 5"
   ]
  },
  {
   "cell_type": "code",
   "execution_count": null,
   "metadata": {},
   "outputs": [],
   "source": [
    "np.array([1, 2, 1, 3, 3, 4, 2, 2, 1, 1, 5, 4])\n",
    "np.array([1, 2, 3, 4, 4, 5, 2, 2, 3, 1, 6, 5])"
   ]
  },
  {
   "cell_type": "code",
   "execution_count": 495,
   "metadata": {},
   "outputs": [
    {
     "name": "stdout",
     "output_type": "stream",
     "text": [
      "0.5657873029390955\n",
      "0.5657873029390955\n",
      "0.5657873029390955\n",
      "0.5657873029390955\n",
      "0.5657873029390955\n",
      "0.5657873029390955\n",
      "0.5657873029390955\n",
      "0.5657873029390955\n",
      "0.5657873029390955\n",
      "0.5657873029390955\n",
      "0.5657873029390955\n",
      "0.5657873029390955\n"
     ]
    },
    {
     "data": {
      "text/plain": [
       "({},\n",
       " np.float64(0.5657873029390955),\n",
       " array([1, 2, 3, 4, 4, 5, 2, 2, 3, 1, 6, 5]))"
      ]
     },
     "execution_count": 495,
     "metadata": {},
     "output_type": "execute_result"
    }
   ],
   "source": [
    "reassign_members(dist_matrix, np.array([1, 2, 3, 4, 4, 5, 2, 2, 3, 1, 6, 5]))"
   ]
  },
  {
   "cell_type": "code",
   "execution_count": 508,
   "metadata": {},
   "outputs": [
    {
     "name": "stdout",
     "output_type": "stream",
     "text": [
      "0.6066793488028118\n",
      "0.6527976437863343\n"
     ]
    },
    {
     "data": {
      "text/plain": [
       "np.float64(0.5657873029390955)"
      ]
     },
     "execution_count": 508,
     "metadata": {},
     "output_type": "execute_result"
    }
   ],
   "source": [
    "print(calculate_asw(dist_matrix, np.array([1, 2, 1, 1, 1, 3, 2, 2, 1, 1, 3, 3])))\n",
    "print(calculate_asw(dist_matrix, np.array([1, 2, 1, 3, 3, 4, 2, 2, 1, 1, 4, 4])))\n",
    "calculate_asw(dist_matrix, np.array([1, 2, 3, 4, 4, 5, 2, 2, 3, 1, 6, 5]))"
   ]
  },
  {
   "cell_type": "code",
   "execution_count": 18,
   "metadata": {},
   "outputs": [],
   "source": [
    "dummy_df = create_numerical_df(df, ['gender','ethnicity'])"
   ]
  },
  {
   "cell_type": "code",
   "execution_count": 478,
   "metadata": {},
   "outputs": [],
   "source": [
    "ward_assignments = h_clustering(dummy_df,2,'ward')"
   ]
  },
  {
   "cell_type": "code",
   "execution_count": 289,
   "metadata": {},
   "outputs": [],
   "source": [
    "dist_matrix = dist_matrix_e(dummy_df)"
   ]
  },
  {
   "cell_type": "code",
   "execution_count": 292,
   "metadata": {},
   "outputs": [
    {
     "data": {
      "text/html": [
       "<div>\n",
       "<style scoped>\n",
       "    .dataframe tbody tr th:only-of-type {\n",
       "        vertical-align: middle;\n",
       "    }\n",
       "\n",
       "    .dataframe tbody tr th {\n",
       "        vertical-align: top;\n",
       "    }\n",
       "\n",
       "    .dataframe thead th {\n",
       "        text-align: right;\n",
       "    }\n",
       "</style>\n",
       "<table border=\"1\" class=\"dataframe\">\n",
       "  <thead>\n",
       "    <tr style=\"text-align: right;\">\n",
       "      <th></th>\n",
       "      <th>0</th>\n",
       "      <th>1</th>\n",
       "      <th>2</th>\n",
       "      <th>3</th>\n",
       "      <th>4</th>\n",
       "      <th>5</th>\n",
       "      <th>6</th>\n",
       "      <th>7</th>\n",
       "      <th>8</th>\n",
       "      <th>9</th>\n",
       "      <th>10</th>\n",
       "      <th>11</th>\n",
       "    </tr>\n",
       "  </thead>\n",
       "  <tbody>\n",
       "    <tr>\n",
       "      <th>0</th>\n",
       "      <td>0.000000</td>\n",
       "      <td>26.038433</td>\n",
       "      <td>4.000000</td>\n",
       "      <td>11.045361</td>\n",
       "      <td>11.090537</td>\n",
       "      <td>6.082763</td>\n",
       "      <td>22.000000</td>\n",
       "      <td>21.000000</td>\n",
       "      <td>5.196152</td>\n",
       "      <td>2.449490</td>\n",
       "      <td>13.076697</td>\n",
       "      <td>7.141428</td>\n",
       "    </tr>\n",
       "    <tr>\n",
       "      <th>1</th>\n",
       "      <td>26.038433</td>\n",
       "      <td>0.000000</td>\n",
       "      <td>22.045408</td>\n",
       "      <td>15.066519</td>\n",
       "      <td>15.033296</td>\n",
       "      <td>32.015621</td>\n",
       "      <td>4.242641</td>\n",
       "      <td>5.196152</td>\n",
       "      <td>21.000000</td>\n",
       "      <td>24.000000</td>\n",
       "      <td>39.012818</td>\n",
       "      <td>33.015148</td>\n",
       "    </tr>\n",
       "    <tr>\n",
       "      <th>2</th>\n",
       "      <td>4.000000</td>\n",
       "      <td>22.045408</td>\n",
       "      <td>0.000000</td>\n",
       "      <td>7.071068</td>\n",
       "      <td>7.141428</td>\n",
       "      <td>10.049876</td>\n",
       "      <td>18.000000</td>\n",
       "      <td>17.000000</td>\n",
       "      <td>1.732051</td>\n",
       "      <td>2.449490</td>\n",
       "      <td>17.058722</td>\n",
       "      <td>11.090537</td>\n",
       "    </tr>\n",
       "    <tr>\n",
       "      <th>3</th>\n",
       "      <td>11.045361</td>\n",
       "      <td>15.066519</td>\n",
       "      <td>7.071068</td>\n",
       "      <td>0.000000</td>\n",
       "      <td>1.414214</td>\n",
       "      <td>17.029386</td>\n",
       "      <td>11.045361</td>\n",
       "      <td>10.049876</td>\n",
       "      <td>6.164414</td>\n",
       "      <td>9.110434</td>\n",
       "      <td>24.041631</td>\n",
       "      <td>18.055470</td>\n",
       "    </tr>\n",
       "    <tr>\n",
       "      <th>4</th>\n",
       "      <td>11.090537</td>\n",
       "      <td>15.033296</td>\n",
       "      <td>7.141428</td>\n",
       "      <td>1.414214</td>\n",
       "      <td>0.000000</td>\n",
       "      <td>17.058722</td>\n",
       "      <td>11.090537</td>\n",
       "      <td>10.099505</td>\n",
       "      <td>6.082763</td>\n",
       "      <td>9.055385</td>\n",
       "      <td>24.000000</td>\n",
       "      <td>18.000000</td>\n",
       "    </tr>\n",
       "    <tr>\n",
       "      <th>5</th>\n",
       "      <td>6.082763</td>\n",
       "      <td>32.015621</td>\n",
       "      <td>10.049876</td>\n",
       "      <td>17.029386</td>\n",
       "      <td>17.058722</td>\n",
       "      <td>0.000000</td>\n",
       "      <td>28.017851</td>\n",
       "      <td>27.018512</td>\n",
       "      <td>11.045361</td>\n",
       "      <td>8.062258</td>\n",
       "      <td>7.141428</td>\n",
       "      <td>1.732051</td>\n",
       "    </tr>\n",
       "    <tr>\n",
       "      <th>6</th>\n",
       "      <td>22.000000</td>\n",
       "      <td>4.242641</td>\n",
       "      <td>18.000000</td>\n",
       "      <td>11.045361</td>\n",
       "      <td>11.090537</td>\n",
       "      <td>28.017851</td>\n",
       "      <td>0.000000</td>\n",
       "      <td>1.000000</td>\n",
       "      <td>17.058722</td>\n",
       "      <td>20.049938</td>\n",
       "      <td>35.028560</td>\n",
       "      <td>29.034462</td>\n",
       "    </tr>\n",
       "    <tr>\n",
       "      <th>7</th>\n",
       "      <td>21.000000</td>\n",
       "      <td>5.196152</td>\n",
       "      <td>17.000000</td>\n",
       "      <td>10.049876</td>\n",
       "      <td>10.099505</td>\n",
       "      <td>27.018512</td>\n",
       "      <td>1.000000</td>\n",
       "      <td>0.000000</td>\n",
       "      <td>16.062378</td>\n",
       "      <td>19.052559</td>\n",
       "      <td>34.029399</td>\n",
       "      <td>28.035692</td>\n",
       "    </tr>\n",
       "    <tr>\n",
       "      <th>8</th>\n",
       "      <td>5.196152</td>\n",
       "      <td>21.000000</td>\n",
       "      <td>1.732051</td>\n",
       "      <td>6.164414</td>\n",
       "      <td>6.082763</td>\n",
       "      <td>11.045361</td>\n",
       "      <td>17.058722</td>\n",
       "      <td>16.062378</td>\n",
       "      <td>0.000000</td>\n",
       "      <td>3.000000</td>\n",
       "      <td>18.027756</td>\n",
       "      <td>12.041595</td>\n",
       "    </tr>\n",
       "    <tr>\n",
       "      <th>9</th>\n",
       "      <td>2.449490</td>\n",
       "      <td>24.000000</td>\n",
       "      <td>2.449490</td>\n",
       "      <td>9.110434</td>\n",
       "      <td>9.055385</td>\n",
       "      <td>8.062258</td>\n",
       "      <td>20.049938</td>\n",
       "      <td>19.052559</td>\n",
       "      <td>3.000000</td>\n",
       "      <td>0.000000</td>\n",
       "      <td>15.033296</td>\n",
       "      <td>9.055385</td>\n",
       "    </tr>\n",
       "    <tr>\n",
       "      <th>10</th>\n",
       "      <td>13.076697</td>\n",
       "      <td>39.012818</td>\n",
       "      <td>17.058722</td>\n",
       "      <td>24.041631</td>\n",
       "      <td>24.000000</td>\n",
       "      <td>7.141428</td>\n",
       "      <td>35.028560</td>\n",
       "      <td>34.029399</td>\n",
       "      <td>18.027756</td>\n",
       "      <td>15.033296</td>\n",
       "      <td>0.000000</td>\n",
       "      <td>6.000000</td>\n",
       "    </tr>\n",
       "    <tr>\n",
       "      <th>11</th>\n",
       "      <td>7.141428</td>\n",
       "      <td>33.015148</td>\n",
       "      <td>11.090537</td>\n",
       "      <td>18.055470</td>\n",
       "      <td>18.000000</td>\n",
       "      <td>1.732051</td>\n",
       "      <td>29.034462</td>\n",
       "      <td>28.035692</td>\n",
       "      <td>12.041595</td>\n",
       "      <td>9.055385</td>\n",
       "      <td>6.000000</td>\n",
       "      <td>0.000000</td>\n",
       "    </tr>\n",
       "  </tbody>\n",
       "</table>\n",
       "</div>"
      ],
      "text/plain": [
       "           0          1          2          3          4          5   \\\n",
       "0    0.000000  26.038433   4.000000  11.045361  11.090537   6.082763   \n",
       "1   26.038433   0.000000  22.045408  15.066519  15.033296  32.015621   \n",
       "2    4.000000  22.045408   0.000000   7.071068   7.141428  10.049876   \n",
       "3   11.045361  15.066519   7.071068   0.000000   1.414214  17.029386   \n",
       "4   11.090537  15.033296   7.141428   1.414214   0.000000  17.058722   \n",
       "5    6.082763  32.015621  10.049876  17.029386  17.058722   0.000000   \n",
       "6   22.000000   4.242641  18.000000  11.045361  11.090537  28.017851   \n",
       "7   21.000000   5.196152  17.000000  10.049876  10.099505  27.018512   \n",
       "8    5.196152  21.000000   1.732051   6.164414   6.082763  11.045361   \n",
       "9    2.449490  24.000000   2.449490   9.110434   9.055385   8.062258   \n",
       "10  13.076697  39.012818  17.058722  24.041631  24.000000   7.141428   \n",
       "11   7.141428  33.015148  11.090537  18.055470  18.000000   1.732051   \n",
       "\n",
       "           6          7          8          9          10         11  \n",
       "0   22.000000  21.000000   5.196152   2.449490  13.076697   7.141428  \n",
       "1    4.242641   5.196152  21.000000  24.000000  39.012818  33.015148  \n",
       "2   18.000000  17.000000   1.732051   2.449490  17.058722  11.090537  \n",
       "3   11.045361  10.049876   6.164414   9.110434  24.041631  18.055470  \n",
       "4   11.090537  10.099505   6.082763   9.055385  24.000000  18.000000  \n",
       "5   28.017851  27.018512  11.045361   8.062258   7.141428   1.732051  \n",
       "6    0.000000   1.000000  17.058722  20.049938  35.028560  29.034462  \n",
       "7    1.000000   0.000000  16.062378  19.052559  34.029399  28.035692  \n",
       "8   17.058722  16.062378   0.000000   3.000000  18.027756  12.041595  \n",
       "9   20.049938  19.052559   3.000000   0.000000  15.033296   9.055385  \n",
       "10  35.028560  34.029399  18.027756  15.033296   0.000000   6.000000  \n",
       "11  29.034462  28.035692  12.041595   9.055385   6.000000   0.000000  "
      ]
     },
     "execution_count": 292,
     "metadata": {},
     "output_type": "execute_result"
    }
   ],
   "source": [
    "pd.DataFrame(dist_matrix)"
   ]
  },
  {
   "cell_type": "code",
   "execution_count": null,
   "metadata": {},
   "outputs": [],
   "source": [
    "[np.float64(26.038433132583073), np.float64(22.0), np.float64(21.0)]"
   ]
  },
  {
   "cell_type": "code",
   "execution_count": 370,
   "metadata": {},
   "outputs": [
    {
     "data": {
      "text/plain": [
       "np.float64(25.247471555687653)"
      ]
     },
     "execution_count": 370,
     "metadata": {},
     "output_type": "execute_result"
    }
   ],
   "source": [
    "np.mean([dist_matrix[1][0],dist_matrix[1][2],dist_matrix[1][3],dist_matrix[1][4],dist_matrix[1][5],dist_matrix[1][8],dist_matrix[1][9],dist_matrix[1][10],dist_matrix[1][11]])"
   ]
  },
  {
   "cell_type": "code",
   "execution_count": 367,
   "metadata": {},
   "outputs": [
    {
     "data": {
      "text/plain": [
       "np.float64(22.045407685048602)"
      ]
     },
     "execution_count": 367,
     "metadata": {},
     "output_type": "execute_result"
    }
   ],
   "source": [
    "dist_matrix[1][2]"
   ]
  },
  {
   "cell_type": "code",
   "execution_count": null,
   "metadata": {},
   "outputs": [],
   "source": [
    "[np.float64(26.038433132583073), np.float64(22.0), np.float64(21.0), np.float64(26.038433132583073), np.float64(22.045407685048602), np.float64(15.066519173319364), np.float64(15.033296378372908), np.float64(32.01562118716424), np.float64(21.0), np.float64(24.0), np.float64(39.01281840626232), np.float64(33.015148038438355)]"
   ]
  },
  {
   "cell_type": "code",
   "execution_count": 364,
   "metadata": {},
   "outputs": [
    {
     "data": {
      "text/plain": [
       "array([[0, 1, 0, 0, 0, 0, 1, 1, 0, 0, 0, 0]])"
      ]
     },
     "execution_count": 364,
     "metadata": {},
     "output_type": "execute_result"
    }
   ],
   "source": [
    "ward_assignments"
   ]
  },
  {
   "cell_type": "code",
   "execution_count": 307,
   "metadata": {},
   "outputs": [],
   "source": [
    "cluster_labels = np.unique(ward_assignments)"
   ]
  },
  {
   "cell_type": "code",
   "execution_count": 296,
   "metadata": {},
   "outputs": [
    {
     "data": {
      "text/plain": [
       "array([ 0.        , 26.03843313,  4.        , 11.04536102, 11.09053651,\n",
       "        6.08276253, 22.        , 21.        ,  5.19615242,  2.44948974,\n",
       "       13.07669683,  7.14142843])"
      ]
     },
     "execution_count": 296,
     "metadata": {},
     "output_type": "execute_result"
    }
   ],
   "source": [
    "dist_matrix[0]"
   ]
  },
  {
   "cell_type": "code",
   "execution_count": 308,
   "metadata": {},
   "outputs": [
    {
     "data": {
      "text/plain": [
       "array([[0, 1, 0, 0, 0, 0, 1, 1, 0, 0, 0, 0]])"
      ]
     },
     "execution_count": 308,
     "metadata": {},
     "output_type": "execute_result"
    }
   ],
   "source": [
    "ward_assignments"
   ]
  },
  {
   "cell_type": "code",
   "execution_count": 314,
   "metadata": {},
   "outputs": [
    {
     "data": {
      "text/plain": [
       "array([0., 0.])"
      ]
     },
     "execution_count": 314,
     "metadata": {},
     "output_type": "execute_result"
    }
   ],
   "source": [
    "np.zeros(2)"
   ]
  },
  {
   "cell_type": "code",
   "execution_count": 404,
   "metadata": {},
   "outputs": [
    {
     "data": {
      "text/plain": [
       "array([0, 1])"
      ]
     },
     "execution_count": 404,
     "metadata": {},
     "output_type": "execute_result"
    }
   ],
   "source": [
    "np.unique(ward_assignments[0])"
   ]
  },
  {
   "cell_type": "code",
   "execution_count": 407,
   "metadata": {},
   "outputs": [
    {
     "data": {
      "text/plain": [
       "array([ 2,  3,  4,  5,  8,  9, 10, 11])"
      ]
     },
     "execution_count": 407,
     "metadata": {},
     "output_type": "execute_result"
    }
   ],
   "source": [
    "g = np.where(ward_assignments[0] == 0)[0]\n",
    "g[g!=0]"
   ]
  },
  {
   "cell_type": "code",
   "execution_count": 408,
   "metadata": {},
   "outputs": [
    {
     "data": {
      "text/plain": [
       "array([0, 1, 0, 0, 0, 0, 1, 1, 0, 0, 0, 0])"
      ]
     },
     "execution_count": 408,
     "metadata": {},
     "output_type": "execute_result"
    }
   ],
   "source": [
    "ward_assignments[0]"
   ]
  },
  {
   "cell_type": "code",
   "execution_count": 416,
   "metadata": {},
   "outputs": [
    {
     "data": {
      "text/plain": [
       "array([0., 0.])"
      ]
     },
     "execution_count": 416,
     "metadata": {},
     "output_type": "execute_result"
    }
   ],
   "source": [
    "all_b_i"
   ]
  },
  {
   "cell_type": "code",
   "execution_count": 424,
   "metadata": {},
   "outputs": [
    {
     "data": {
      "text/plain": [
       "(array([1]),)"
      ]
     },
     "execution_count": 424,
     "metadata": {},
     "output_type": "execute_result"
    }
   ],
   "source": [
    "np.where(classes==1)"
   ]
  },
  {
   "cell_type": "code",
   "execution_count": 437,
   "metadata": {},
   "outputs": [],
   "source": [
    "a_i = np.zeros(len(ward_assignments[0]))\n",
    "b_i = np.zeros(len(ward_assignments[0]))\n",
    "classes = np.unique(ward_assignments[0])\n",
    "num_classes = len(classes)\n",
    "\n",
    "for idx, c_l in enumerate(ward_assignments[0]):\n",
    "    \n",
    "    all_b_i = np.zeros(num_classes)\n",
    "\n",
    "    a_distances = []\n",
    "    # Find neighbors in their assigned cluster\n",
    "    g = np.where(ward_assignments[0] == c_l)[0]\n",
    "    neighbors = g[g!=idx]\n",
    "\n",
    "    # append their distances\n",
    "    for i in neighbors:\n",
    "        a_distances.append(dist_matrix[idx][i])\n",
    "\n",
    "    for c in classes:\n",
    "        if c!=c_l:\n",
    "            b_distances = []\n",
    "            g = np.where(ward_assignments[0] == c)[0]\n",
    "\n",
    "            for i in g:\n",
    "                b_distances.append(dist_matrix[idx][i])\n",
    "\n",
    "            index = np.where(classes==c)[0][0]\n",
    "            all_b_i[index] = np.mean(b_distances)\n",
    "\n",
    "    # remove the 0 for the assigned group\n",
    "    c_l_index = np.where(classes==c_l)[0][0]\n",
    "    all_b_i = np.delete(all_b_i,c_l_index)\n",
    "\n",
    "    a_i[idx] = np.mean(a_distances)\n",
    "    b_i[idx] = np.min(all_b_i)\n",
    "    # print(b_distances)\n",
    "    \n",
    "sil_width = (b_i-a_i)/np.maximum(a_i,b_i)\n",
    "\n",
    "asw = np.mean(sil_width)"
   ]
  },
  {
   "cell_type": "code",
   "execution_count": 438,
   "metadata": {},
   "outputs": [
    {
     "data": {
      "text/plain": [
       "np.float64(0.5806374287702937)"
      ]
     },
     "execution_count": 438,
     "metadata": {},
     "output_type": "execute_result"
    }
   ],
   "source": [
    "asw"
   ]
  },
  {
   "cell_type": "code",
   "execution_count": 435,
   "metadata": {},
   "outputs": [],
   "source": [
    "c_l_index = np.where(classes==c_l)[0][0]\n",
    "all_b_i = np.delete(all_b_i,c_l_index)"
   ]
  },
  {
   "cell_type": "code",
   "execution_count": 436,
   "metadata": {},
   "outputs": [
    {
     "data": {
      "text/plain": [
       "array([30.02843395])"
      ]
     },
     "execution_count": 436,
     "metadata": {},
     "output_type": "execute_result"
    }
   ],
   "source": [
    "all_b_i"
   ]
  },
  {
   "cell_type": "code",
   "execution_count": 434,
   "metadata": {},
   "outputs": [
    {
     "data": {
      "text/plain": [
       "np.int64(0)"
      ]
     },
     "execution_count": 434,
     "metadata": {},
     "output_type": "execute_result"
    }
   ],
   "source": [
    "c_l_index"
   ]
  },
  {
   "cell_type": "code",
   "execution_count": null,
   "metadata": {},
   "outputs": [],
   "source": [
    "all_b_i"
   ]
  },
  {
   "cell_type": "code",
   "execution_count": 413,
   "metadata": {},
   "outputs": [
    {
     "data": {
      "text/plain": [
       "array([ 7.51030343,  4.71939655,  7.57414638, 11.74149712, 11.73038103,\n",
       "        9.77523058,  2.62132034,  3.09807621,  7.91126147,  7.27696718,\n",
       "       15.54744134, 10.38955819])"
      ]
     },
     "execution_count": 413,
     "metadata": {},
     "output_type": "execute_result"
    }
   ],
   "source": [
    "a_i"
   ]
  },
  {
   "cell_type": "code",
   "execution_count": 414,
   "metadata": {},
   "outputs": [
    {
     "data": {
      "text/plain": [
       "np.float64(0.5806374287702937)"
      ]
     },
     "execution_count": 414,
     "metadata": {},
     "output_type": "execute_result"
    }
   ],
   "source": [
    "asw"
   ]
  },
  {
   "cell_type": "code",
   "execution_count": 375,
   "metadata": {},
   "outputs": [
    {
     "data": {
      "text/plain": [
       "np.float64(0.5806374287702937)"
      ]
     },
     "execution_count": 375,
     "metadata": {},
     "output_type": "execute_result"
    }
   ],
   "source": [
    "asw"
   ]
  },
  {
   "cell_type": "code",
   "execution_count": 373,
   "metadata": {},
   "outputs": [
    {
     "data": {
      "text/plain": [
       "np.float64(22.045407685048602)"
      ]
     },
     "execution_count": 373,
     "metadata": {},
     "output_type": "execute_result"
    }
   ],
   "source": [
    "dist_matrix[1][2]"
   ]
  },
  {
   "cell_type": "code",
   "execution_count": 349,
   "metadata": {},
   "outputs": [
    {
     "data": {
      "text/plain": [
       "array([0.67364685, 0.81307449, 0.60167803, 0.02591867, 0.0284953 ,\n",
       "       0.66312438, 0.87669238, 0.84709074, 0.56146892, 0.6540406 ,\n",
       "       0.56840947, 0.65400932])"
      ]
     },
     "execution_count": 349,
     "metadata": {},
     "output_type": "execute_result"
    }
   ],
   "source": [
    "silhouette_width(dist_matrix,ward_assignments[0])"
   ]
  },
  {
   "cell_type": "code",
   "execution_count": 361,
   "metadata": {},
   "outputs": [
    {
     "data": {
      "text/plain": [
       "(array([7.51030343, 6.95212206, 7.22857731, 8.61716802, 9.34968873,\n",
       "        9.43074432, 9.12122505, 8.85934901, 8.7188916 , 8.53283684,\n",
       "        9.33450592, 9.44271641]),\n",
       " array([23.01281104, 24.68880643, 23.55407232, 21.63738004, 20.27124659,\n",
       "        21.3645068 , 21.33556346, 21.10527416, 20.900947  , 20.90927316,\n",
       "        21.79835076, 22.25557761]))"
      ]
     },
     "execution_count": 361,
     "metadata": {},
     "output_type": "execute_result"
    }
   ],
   "source": [
    "a_i,b_i"
   ]
  },
  {
   "cell_type": "code",
   "execution_count": null,
   "metadata": {},
   "outputs": [],
   "source": [
    "iteration 0 7.510303434818697 23.012811044194354\n",
    "iteration 1 4.719396554912958 25.247471555687653\n",
    "iteration 2 7.574146378440334 19.0151358950162\n",
    "iteration 3 11.74149712313449 12.053918603875838\n",
    "iteration 4 11.730381034374123 12.074445941048134\n",
    "iteration 5 9.775230578521878 29.017328270540215\n",
    "iteration 6 2.6213203435596424 21.25838119989176\n",
    "iteration 7 3.098076211353316 20.260880067917967\n",
    "iteration 8 7.911261467105277 18.040366837813664\n",
    "iteration 9 7.276967183457119 21.034165513007025\n",
    "iteration 10 15.547441335554039 36.02359241229447\n",
    "iteration 11 10.38955819308983 30.028433952702226"
   ]
  },
  {
   "cell_type": "code",
   "execution_count": 393,
   "metadata": {},
   "outputs": [
    {
     "data": {
      "text/plain": [
       "array([1, 2, 1, 1, 1, 3, 2, 2, 1, 1, 3, 3])"
      ]
     },
     "execution_count": 393,
     "metadata": {},
     "output_type": "execute_result"
    }
   ],
   "source": [
    "np.array([1, 2, 1, 1, 1, 3, 2, 2, 1, 1, 3, 3])"
   ]
  },
  {
   "cell_type": "code",
   "execution_count": 392,
   "metadata": {},
   "outputs": [
    {
     "data": {
      "text/plain": [
       "array([0, 1, 0, 0, 0, 0, 1, 1, 0, 0, 0, 0])"
      ]
     },
     "execution_count": 392,
     "metadata": {},
     "output_type": "execute_result"
    }
   ],
   "source": [
    "ward_assignments[0]"
   ]
  },
  {
   "cell_type": "code",
   "execution_count": 455,
   "metadata": {},
   "outputs": [],
   "source": [
    "groups = np.array([1, 2, 3, 4, 4, 5, 2, 2, 3, 1, 6, 5])\n",
    "distmatrix = dist_matrix\n",
    "\n",
    "n = len(groups)\n",
    "u = np.unique(groups)\n",
    "k = len(u)\n",
    "\n",
    "s = np.full(n, -99.0)  # Initialize silhouette widths to -99\n",
    "\n",
    "for i in range(n):\n",
    "    if np.sum(groups == groups[i]) > 1:  # i is not an isolate\n",
    "        a_i = 0\n",
    "        b_i = np.inf\n",
    "        h = []\n",
    "        h_i = []\n",
    "        d_i = []\n",
    "\n",
    "        for j in u:\n",
    "            g = np.where(groups == j)[0]  # All group members of group j\n",
    "            g = g[g != i]  # All group members of group j, except member i\n",
    "            g_i = np.concatenate((g, [i]))  # All group members of group j, and member i\n",
    "            n_j = len(g)\n",
    "            n_i = n_j + 1\n",
    "\n",
    "\n",
    "            d_i_j = np.mean(distmatrix[g, i]) if n_j > 0 else 0  # Average distance from i to all elements of j\n",
    "            d_i.append(d_i_j)\n",
    "\n",
    "            h_j = np.mean(distmatrix[g][:, g]) if n_j > 1 else 0  # Average distance between all elements of j, except i\n",
    "            h.append(h_j)\n",
    "\n",
    "            h_i_j = np.mean(distmatrix[g_i][:, g_i]) if n_i > 1 else 0  # Average distance between all elements of j, including i\n",
    "            h_i.append(h_i_j)\n",
    "\n",
    "        dh_i = np.array(h_i) - np.array(h)  # Change in mean distances of each cluster, when i is included\n",
    "\n",
    "        a = np.where(u == groups[i])[0][0]  # Which group does i belong to (ingroup)?\n",
    "        \n",
    "        d_i_inf = np.copy(d_i)\n",
    "        d_i_inf[a] = np.inf  # Set the distance for the in-group to infinity\n",
    "        \n",
    "        b = np.argmin(d_i_inf)  # Index of the nearest out-group\n",
    "\n",
    "        a_i = d_i[a]\n",
    "        b_i = d_i[b]\n",
    "\n",
    "        m = max(a_i, b_i)  # Silhouette width denominator\n",
    "        \n",
    "        if m != 0:\n",
    "            s[i] = (b_i - a_i) / m\n",
    "\n",
    "s[s == -99] = 0  # Set silhouettes that are still -99 to 0\n",
    "\n",
    "if k == 1:\n",
    "    s = np.full(n, -1)  # If there is only one cluster, set all silhouettes to -1\n"
   ]
  },
  {
   "cell_type": "code",
   "execution_count": 456,
   "metadata": {},
   "outputs": [
    {
     "data": {
      "text/plain": [
       "array([0.46727944, 0.68641691, 0.46288749, 0.78629965, 0.78611719,\n",
       "       0.75510098, 0.76316114, 0.69248919, 0.57735027, 0.10102051,\n",
       "       0.        , 0.71132487])"
      ]
     },
     "execution_count": 456,
     "metadata": {},
     "output_type": "execute_result"
    }
   ],
   "source": [
    "s"
   ]
  },
  {
   "cell_type": "code",
   "execution_count": 402,
   "metadata": {},
   "outputs": [
    {
     "data": {
      "text/plain": [
       "[np.float64(6.756307937817297),\n",
       " np.float64(23.012811044194354),\n",
       " np.float64(8.766962596487696)]"
      ]
     },
     "execution_count": 402,
     "metadata": {},
     "output_type": "execute_result"
    }
   ],
   "source": [
    "d_i"
   ]
  },
  {
   "cell_type": "code",
   "execution_count": 403,
   "metadata": {},
   "outputs": [
    {
     "data": {
      "text/plain": [
       "np.int64(2)"
      ]
     },
     "execution_count": 403,
     "metadata": {},
     "output_type": "execute_result"
    }
   ],
   "source": [
    "np.argmin(d_i_inf)"
   ]
  },
  {
   "cell_type": "code",
   "execution_count": 399,
   "metadata": {},
   "outputs": [
    {
     "data": {
      "text/plain": [
       "array([0, 2, 3, 4, 8, 9])"
      ]
     },
     "execution_count": 399,
     "metadata": {},
     "output_type": "execute_result"
    }
   ],
   "source": [
    "g = np.where(groups == j)[0] \n",
    "g"
   ]
  },
  {
   "cell_type": "code",
   "execution_count": 400,
   "metadata": {},
   "outputs": [
    {
     "data": {
      "text/plain": [
       "array([2, 3, 4, 8, 9])"
      ]
     },
     "execution_count": 400,
     "metadata": {},
     "output_type": "execute_result"
    }
   ],
   "source": [
    "g[g != i]"
   ]
  },
  {
   "cell_type": "code",
   "execution_count": 397,
   "metadata": {},
   "outputs": [
    {
     "data": {
      "text/plain": [
       "np.int64(1)"
      ]
     },
     "execution_count": 397,
     "metadata": {},
     "output_type": "execute_result"
    }
   ],
   "source": [
    "j"
   ]
  },
  {
   "cell_type": "code",
   "execution_count": 395,
   "metadata": {},
   "outputs": [
    {
     "data": {
      "text/plain": [
       "np.float64(0.6066793488028118)"
      ]
     },
     "execution_count": 395,
     "metadata": {},
     "output_type": "execute_result"
    }
   ],
   "source": [
    "np.mean(s)"
   ]
  },
  {
   "cell_type": "code",
   "execution_count": 359,
   "metadata": {},
   "outputs": [
    {
     "data": {
      "text/plain": [
       "([np.float64(7.510303434818697), np.float64(23.012811044194354)],\n",
       " [np.float64(9.3045224823573), np.float64(2.319731802183537)],\n",
       " [np.float64(8.83523819540699), np.float64(9.934653280301124)])"
      ]
     },
     "execution_count": 359,
     "metadata": {},
     "output_type": "execute_result"
    }
   ],
   "source": [
    "d_i, h, h_i"
   ]
  },
  {
   "cell_type": "code",
   "execution_count": 347,
   "metadata": {},
   "outputs": [
    {
     "data": {
      "text/plain": [
       "array([0.67364685, 0.71840996, 0.69310711, 0.60174624, 0.5387709 ,\n",
       "       0.55857889, 0.57248727, 0.58023056, 0.58284705, 0.59191136,\n",
       "       0.57177926, 0.57571461])"
      ]
     },
     "execution_count": 347,
     "metadata": {},
     "output_type": "execute_result"
    }
   ],
   "source": [
    "(b_i-a_i)/np.maximum(a_i,b_i)"
   ]
  },
  {
   "cell_type": "code",
   "execution_count": 343,
   "metadata": {},
   "outputs": [
    {
     "data": {
      "text/plain": [
       "np.float64(0.6049358385158499)"
      ]
     },
     "execution_count": 343,
     "metadata": {},
     "output_type": "execute_result"
    }
   ],
   "source": [
    "asw"
   ]
  },
  {
   "cell_type": "code",
   "execution_count": 338,
   "metadata": {},
   "outputs": [
    {
     "data": {
      "text/plain": [
       "array([23.01281104, 24.68880643, 23.55407232, 21.63738004, 20.27124659,\n",
       "       21.3645068 , 21.33556346, 21.10527416, 20.900947  , 20.90927316,\n",
       "       21.79835076, 22.25557761])"
      ]
     },
     "execution_count": 338,
     "metadata": {},
     "output_type": "execute_result"
    }
   ],
   "source": [
    "b_i"
   ]
  },
  {
   "cell_type": "code",
   "execution_count": 339,
   "metadata": {},
   "outputs": [
    {
     "data": {
      "text/plain": [
       "array([7.51030343, 6.95212206, 7.22857731, 8.61716802, 9.34968873,\n",
       "       9.43074432, 9.12122505, 8.85934901, 8.7188916 , 8.53283684,\n",
       "       9.33450592, 9.44271641])"
      ]
     },
     "execution_count": 339,
     "metadata": {},
     "output_type": "execute_result"
    }
   ],
   "source": [
    "a_i"
   ]
  },
  {
   "cell_type": "code",
   "execution_count": 336,
   "metadata": {},
   "outputs": [
    {
     "data": {
      "text/plain": [
       "array([15.50250761, 17.73668437, 16.32549501, 13.02021201, 10.92155786,\n",
       "       11.93376248, 12.21433841, 12.24592515, 12.18205541, 12.37643633,\n",
       "       12.46384484, 12.8128612 ])"
      ]
     },
     "execution_count": 336,
     "metadata": {},
     "output_type": "execute_result"
    }
   ],
   "source": [
    "(b_i-a_i)"
   ]
  },
  {
   "cell_type": "code",
   "execution_count": 341,
   "metadata": {},
   "outputs": [
    {
     "data": {
      "text/plain": [
       "array([0.67364685, 0.71840996, 0.69310711, 0.60174624, 0.5387709 ,\n",
       "       0.55857889, 0.57248727, 0.58023056, 0.58284705, 0.59191136,\n",
       "       0.57177926, 0.57571461])"
      ]
     },
     "execution_count": 341,
     "metadata": {},
     "output_type": "execute_result"
    }
   ],
   "source": [
    "(b_i-a_i)/np.maximum(a_i,b_i)"
   ]
  },
  {
   "cell_type": "code",
   "execution_count": 332,
   "metadata": {},
   "outputs": [
    {
     "data": {
      "text/plain": [
       "array([23.01281104, 24.68880643, 23.55407232, 21.63738004, 20.27124659,\n",
       "       21.3645068 , 21.33556346, 21.10527416, 20.900947  , 20.90927316,\n",
       "       21.79835076, 22.25557761])"
      ]
     },
     "execution_count": 332,
     "metadata": {},
     "output_type": "execute_result"
    }
   ],
   "source": [
    "b_i"
   ]
  },
  {
   "cell_type": "code",
   "execution_count": 318,
   "metadata": {},
   "outputs": [],
   "source": [
    "a_i[1] = 2"
   ]
  },
  {
   "cell_type": "code",
   "execution_count": 319,
   "metadata": {},
   "outputs": [
    {
     "data": {
      "text/plain": [
       "array([0., 2., 0., 0., 0., 0., 0., 0., 0., 0., 0., 0.])"
      ]
     },
     "execution_count": 319,
     "metadata": {},
     "output_type": "execute_result"
    }
   ],
   "source": [
    "a_i"
   ]
  },
  {
   "cell_type": "code",
   "execution_count": 303,
   "metadata": {},
   "outputs": [
    {
     "data": {
      "text/plain": [
       "[np.float64(4.0),\n",
       " np.float64(11.045361017187261),\n",
       " np.float64(11.090536506409418),\n",
       " np.float64(6.082762530298219),\n",
       " np.float64(5.196152422706632),\n",
       " np.float64(2.449489742783178),\n",
       " np.float64(13.076696830622021),\n",
       " np.float64(7.14142842854285)]"
      ]
     },
     "execution_count": 303,
     "metadata": {},
     "output_type": "execute_result"
    }
   ],
   "source": [
    "distances"
   ]
  },
  {
   "cell_type": "code",
   "execution_count": null,
   "metadata": {},
   "outputs": [],
   "source": [
    "dist_matrix"
   ]
  },
  {
   "cell_type": "code",
   "execution_count": 254,
   "metadata": {},
   "outputs": [],
   "source": [
    "np.random.seed(0)\n",
    "X = np.random.standard_normal((50,2))\n",
    "X[:25,0] += 3\n",
    "X[:25,1] -= 4"
   ]
  },
  {
   "cell_type": "code",
   "execution_count": 256,
   "metadata": {},
   "outputs": [
    {
     "data": {
      "text/plain": [
       "array([[44.        ,  0.70710678,  0.        ,  0.70710678,  0.        ,\n",
       "         0.        ,  0.        ],\n",
       "       [18.        ,  0.        ,  0.70710678,  0.        ,  0.70710678,\n",
       "         0.        ,  0.        ],\n",
       "       [40.        ,  0.70710678,  0.        ,  0.70710678,  0.        ,\n",
       "         0.        ,  0.        ],\n",
       "       [33.        ,  0.70710678,  0.        ,  0.        ,  0.        ,\n",
       "         0.        ,  0.70710678],\n",
       "       [33.        ,  0.        ,  0.70710678,  0.        ,  0.        ,\n",
       "         0.70710678,  0.        ],\n",
       "       [50.        ,  0.70710678,  0.        ,  0.        ,  0.70710678,\n",
       "         0.        ,  0.        ],\n",
       "       [22.        ,  0.70710678,  0.        ,  0.70710678,  0.        ,\n",
       "         0.        ,  0.        ],\n",
       "       [23.        ,  0.70710678,  0.        ,  0.70710678,  0.        ,\n",
       "         0.        ,  0.        ],\n",
       "       [39.        ,  0.        ,  0.70710678,  0.        ,  0.70710678,\n",
       "         0.        ,  0.        ],\n",
       "       [42.        ,  0.        ,  0.70710678,  0.        ,  0.70710678,\n",
       "         0.        ,  0.        ],\n",
       "       [57.        ,  0.        ,  0.70710678,  0.        ,  0.        ,\n",
       "         0.70710678,  0.        ],\n",
       "       [51.        ,  0.        ,  0.70710678,  0.        ,  0.        ,\n",
       "         0.70710678,  0.        ]])"
      ]
     },
     "execution_count": 256,
     "metadata": {},
     "output_type": "execute_result"
    }
   ],
   "source": [
    "dummy_df.to_numpy()"
   ]
  },
  {
   "cell_type": "code",
   "execution_count": 255,
   "metadata": {},
   "outputs": [
    {
     "data": {
      "text/plain": [
       "array([[ 4.76405235, -3.59984279],\n",
       "       [ 3.97873798, -1.7591068 ],\n",
       "       [ 4.86755799, -4.97727788],\n",
       "       [ 3.95008842, -4.15135721],\n",
       "       [ 2.89678115, -3.5894015 ],\n",
       "       [ 3.14404357, -2.54572649],\n",
       "       [ 3.76103773, -3.87832498],\n",
       "       [ 3.44386323, -3.66632567],\n",
       "       [ 4.49407907, -4.20515826],\n",
       "       [ 3.3130677 , -4.85409574],\n",
       "       [ 0.44701018, -3.3463814 ],\n",
       "       [ 3.8644362 , -4.74216502],\n",
       "       [ 5.26975462, -5.45436567],\n",
       "       [ 3.04575852, -4.18718385],\n",
       "       [ 4.53277921, -2.53064123],\n",
       "       [ 3.15494743, -3.62183748],\n",
       "       [ 2.11221425, -5.98079647],\n",
       "       [ 2.65208785, -3.84365103],\n",
       "       [ 4.23029068, -2.79762015],\n",
       "       [ 2.61267318, -4.30230275],\n",
       "       [ 1.95144703, -5.42001794],\n",
       "       [ 1.29372981, -2.0492246 ],\n",
       "       [ 2.49034782, -4.4380743 ],\n",
       "       [ 1.74720464, -3.22250964],\n",
       "       [ 1.38610215, -4.21274028],\n",
       "       [-0.89546656,  0.3869025 ],\n",
       "       [-0.51080514, -1.18063218],\n",
       "       [-0.02818223,  0.42833187],\n",
       "       [ 0.06651722,  0.3024719 ],\n",
       "       [-0.63432209, -0.36274117],\n",
       "       [-0.67246045, -0.35955316],\n",
       "       [-0.81314628, -1.7262826 ],\n",
       "       [ 0.17742614, -0.40178094],\n",
       "       [-1.63019835,  0.46278226],\n",
       "       [-0.90729836,  0.0519454 ],\n",
       "       [ 0.72909056,  0.12898291],\n",
       "       [ 1.13940068, -1.23482582],\n",
       "       [ 0.40234164, -0.68481009],\n",
       "       [-0.87079715, -0.57884966],\n",
       "       [-0.31155253,  0.05616534],\n",
       "       [-1.16514984,  0.90082649],\n",
       "       [ 0.46566244, -1.53624369],\n",
       "       [ 1.48825219,  1.89588918],\n",
       "       [ 1.17877957, -0.17992484],\n",
       "       [-1.07075262,  1.05445173],\n",
       "       [-0.40317695,  1.22244507],\n",
       "       [ 0.20827498,  0.97663904],\n",
       "       [ 0.3563664 ,  0.70657317],\n",
       "       [ 0.01050002,  1.78587049],\n",
       "       [ 0.12691209,  0.40198936]])"
      ]
     },
     "execution_count": 255,
     "metadata": {},
     "output_type": "execute_result"
    }
   ],
   "source": [
    "X"
   ]
  },
  {
   "cell_type": "code",
   "execution_count": 258,
   "metadata": {},
   "outputs": [
    {
     "data": {
      "text/html": [
       "<style>#sk-container-id-2 {\n",
       "  /* Definition of color scheme common for light and dark mode */\n",
       "  --sklearn-color-text: black;\n",
       "  --sklearn-color-line: gray;\n",
       "  /* Definition of color scheme for unfitted estimators */\n",
       "  --sklearn-color-unfitted-level-0: #fff5e6;\n",
       "  --sklearn-color-unfitted-level-1: #f6e4d2;\n",
       "  --sklearn-color-unfitted-level-2: #ffe0b3;\n",
       "  --sklearn-color-unfitted-level-3: chocolate;\n",
       "  /* Definition of color scheme for fitted estimators */\n",
       "  --sklearn-color-fitted-level-0: #f0f8ff;\n",
       "  --sklearn-color-fitted-level-1: #d4ebff;\n",
       "  --sklearn-color-fitted-level-2: #b3dbfd;\n",
       "  --sklearn-color-fitted-level-3: cornflowerblue;\n",
       "\n",
       "  /* Specific color for light theme */\n",
       "  --sklearn-color-text-on-default-background: var(--sg-text-color, var(--theme-code-foreground, var(--jp-content-font-color1, black)));\n",
       "  --sklearn-color-background: var(--sg-background-color, var(--theme-background, var(--jp-layout-color0, white)));\n",
       "  --sklearn-color-border-box: var(--sg-text-color, var(--theme-code-foreground, var(--jp-content-font-color1, black)));\n",
       "  --sklearn-color-icon: #696969;\n",
       "\n",
       "  @media (prefers-color-scheme: dark) {\n",
       "    /* Redefinition of color scheme for dark theme */\n",
       "    --sklearn-color-text-on-default-background: var(--sg-text-color, var(--theme-code-foreground, var(--jp-content-font-color1, white)));\n",
       "    --sklearn-color-background: var(--sg-background-color, var(--theme-background, var(--jp-layout-color0, #111)));\n",
       "    --sklearn-color-border-box: var(--sg-text-color, var(--theme-code-foreground, var(--jp-content-font-color1, white)));\n",
       "    --sklearn-color-icon: #878787;\n",
       "  }\n",
       "}\n",
       "\n",
       "#sk-container-id-2 {\n",
       "  color: var(--sklearn-color-text);\n",
       "}\n",
       "\n",
       "#sk-container-id-2 pre {\n",
       "  padding: 0;\n",
       "}\n",
       "\n",
       "#sk-container-id-2 input.sk-hidden--visually {\n",
       "  border: 0;\n",
       "  clip: rect(1px 1px 1px 1px);\n",
       "  clip: rect(1px, 1px, 1px, 1px);\n",
       "  height: 1px;\n",
       "  margin: -1px;\n",
       "  overflow: hidden;\n",
       "  padding: 0;\n",
       "  position: absolute;\n",
       "  width: 1px;\n",
       "}\n",
       "\n",
       "#sk-container-id-2 div.sk-dashed-wrapped {\n",
       "  border: 1px dashed var(--sklearn-color-line);\n",
       "  margin: 0 0.4em 0.5em 0.4em;\n",
       "  box-sizing: border-box;\n",
       "  padding-bottom: 0.4em;\n",
       "  background-color: var(--sklearn-color-background);\n",
       "}\n",
       "\n",
       "#sk-container-id-2 div.sk-container {\n",
       "  /* jupyter's `normalize.less` sets `[hidden] { display: none; }`\n",
       "     but bootstrap.min.css set `[hidden] { display: none !important; }`\n",
       "     so we also need the `!important` here to be able to override the\n",
       "     default hidden behavior on the sphinx rendered scikit-learn.org.\n",
       "     See: https://github.com/scikit-learn/scikit-learn/issues/21755 */\n",
       "  display: inline-block !important;\n",
       "  position: relative;\n",
       "}\n",
       "\n",
       "#sk-container-id-2 div.sk-text-repr-fallback {\n",
       "  display: none;\n",
       "}\n",
       "\n",
       "div.sk-parallel-item,\n",
       "div.sk-serial,\n",
       "div.sk-item {\n",
       "  /* draw centered vertical line to link estimators */\n",
       "  background-image: linear-gradient(var(--sklearn-color-text-on-default-background), var(--sklearn-color-text-on-default-background));\n",
       "  background-size: 2px 100%;\n",
       "  background-repeat: no-repeat;\n",
       "  background-position: center center;\n",
       "}\n",
       "\n",
       "/* Parallel-specific style estimator block */\n",
       "\n",
       "#sk-container-id-2 div.sk-parallel-item::after {\n",
       "  content: \"\";\n",
       "  width: 100%;\n",
       "  border-bottom: 2px solid var(--sklearn-color-text-on-default-background);\n",
       "  flex-grow: 1;\n",
       "}\n",
       "\n",
       "#sk-container-id-2 div.sk-parallel {\n",
       "  display: flex;\n",
       "  align-items: stretch;\n",
       "  justify-content: center;\n",
       "  background-color: var(--sklearn-color-background);\n",
       "  position: relative;\n",
       "}\n",
       "\n",
       "#sk-container-id-2 div.sk-parallel-item {\n",
       "  display: flex;\n",
       "  flex-direction: column;\n",
       "}\n",
       "\n",
       "#sk-container-id-2 div.sk-parallel-item:first-child::after {\n",
       "  align-self: flex-end;\n",
       "  width: 50%;\n",
       "}\n",
       "\n",
       "#sk-container-id-2 div.sk-parallel-item:last-child::after {\n",
       "  align-self: flex-start;\n",
       "  width: 50%;\n",
       "}\n",
       "\n",
       "#sk-container-id-2 div.sk-parallel-item:only-child::after {\n",
       "  width: 0;\n",
       "}\n",
       "\n",
       "/* Serial-specific style estimator block */\n",
       "\n",
       "#sk-container-id-2 div.sk-serial {\n",
       "  display: flex;\n",
       "  flex-direction: column;\n",
       "  align-items: center;\n",
       "  background-color: var(--sklearn-color-background);\n",
       "  padding-right: 1em;\n",
       "  padding-left: 1em;\n",
       "}\n",
       "\n",
       "\n",
       "/* Toggleable style: style used for estimator/Pipeline/ColumnTransformer box that is\n",
       "clickable and can be expanded/collapsed.\n",
       "- Pipeline and ColumnTransformer use this feature and define the default style\n",
       "- Estimators will overwrite some part of the style using the `sk-estimator` class\n",
       "*/\n",
       "\n",
       "/* Pipeline and ColumnTransformer style (default) */\n",
       "\n",
       "#sk-container-id-2 div.sk-toggleable {\n",
       "  /* Default theme specific background. It is overwritten whether we have a\n",
       "  specific estimator or a Pipeline/ColumnTransformer */\n",
       "  background-color: var(--sklearn-color-background);\n",
       "}\n",
       "\n",
       "/* Toggleable label */\n",
       "#sk-container-id-2 label.sk-toggleable__label {\n",
       "  cursor: pointer;\n",
       "  display: block;\n",
       "  width: 100%;\n",
       "  margin-bottom: 0;\n",
       "  padding: 0.5em;\n",
       "  box-sizing: border-box;\n",
       "  text-align: center;\n",
       "}\n",
       "\n",
       "#sk-container-id-2 label.sk-toggleable__label-arrow:before {\n",
       "  /* Arrow on the left of the label */\n",
       "  content: \"▸\";\n",
       "  float: left;\n",
       "  margin-right: 0.25em;\n",
       "  color: var(--sklearn-color-icon);\n",
       "}\n",
       "\n",
       "#sk-container-id-2 label.sk-toggleable__label-arrow:hover:before {\n",
       "  color: var(--sklearn-color-text);\n",
       "}\n",
       "\n",
       "/* Toggleable content - dropdown */\n",
       "\n",
       "#sk-container-id-2 div.sk-toggleable__content {\n",
       "  max-height: 0;\n",
       "  max-width: 0;\n",
       "  overflow: hidden;\n",
       "  text-align: left;\n",
       "  /* unfitted */\n",
       "  background-color: var(--sklearn-color-unfitted-level-0);\n",
       "}\n",
       "\n",
       "#sk-container-id-2 div.sk-toggleable__content.fitted {\n",
       "  /* fitted */\n",
       "  background-color: var(--sklearn-color-fitted-level-0);\n",
       "}\n",
       "\n",
       "#sk-container-id-2 div.sk-toggleable__content pre {\n",
       "  margin: 0.2em;\n",
       "  border-radius: 0.25em;\n",
       "  color: var(--sklearn-color-text);\n",
       "  /* unfitted */\n",
       "  background-color: var(--sklearn-color-unfitted-level-0);\n",
       "}\n",
       "\n",
       "#sk-container-id-2 div.sk-toggleable__content.fitted pre {\n",
       "  /* unfitted */\n",
       "  background-color: var(--sklearn-color-fitted-level-0);\n",
       "}\n",
       "\n",
       "#sk-container-id-2 input.sk-toggleable__control:checked~div.sk-toggleable__content {\n",
       "  /* Expand drop-down */\n",
       "  max-height: 200px;\n",
       "  max-width: 100%;\n",
       "  overflow: auto;\n",
       "}\n",
       "\n",
       "#sk-container-id-2 input.sk-toggleable__control:checked~label.sk-toggleable__label-arrow:before {\n",
       "  content: \"▾\";\n",
       "}\n",
       "\n",
       "/* Pipeline/ColumnTransformer-specific style */\n",
       "\n",
       "#sk-container-id-2 div.sk-label input.sk-toggleable__control:checked~label.sk-toggleable__label {\n",
       "  color: var(--sklearn-color-text);\n",
       "  background-color: var(--sklearn-color-unfitted-level-2);\n",
       "}\n",
       "\n",
       "#sk-container-id-2 div.sk-label.fitted input.sk-toggleable__control:checked~label.sk-toggleable__label {\n",
       "  background-color: var(--sklearn-color-fitted-level-2);\n",
       "}\n",
       "\n",
       "/* Estimator-specific style */\n",
       "\n",
       "/* Colorize estimator box */\n",
       "#sk-container-id-2 div.sk-estimator input.sk-toggleable__control:checked~label.sk-toggleable__label {\n",
       "  /* unfitted */\n",
       "  background-color: var(--sklearn-color-unfitted-level-2);\n",
       "}\n",
       "\n",
       "#sk-container-id-2 div.sk-estimator.fitted input.sk-toggleable__control:checked~label.sk-toggleable__label {\n",
       "  /* fitted */\n",
       "  background-color: var(--sklearn-color-fitted-level-2);\n",
       "}\n",
       "\n",
       "#sk-container-id-2 div.sk-label label.sk-toggleable__label,\n",
       "#sk-container-id-2 div.sk-label label {\n",
       "  /* The background is the default theme color */\n",
       "  color: var(--sklearn-color-text-on-default-background);\n",
       "}\n",
       "\n",
       "/* On hover, darken the color of the background */\n",
       "#sk-container-id-2 div.sk-label:hover label.sk-toggleable__label {\n",
       "  color: var(--sklearn-color-text);\n",
       "  background-color: var(--sklearn-color-unfitted-level-2);\n",
       "}\n",
       "\n",
       "/* Label box, darken color on hover, fitted */\n",
       "#sk-container-id-2 div.sk-label.fitted:hover label.sk-toggleable__label.fitted {\n",
       "  color: var(--sklearn-color-text);\n",
       "  background-color: var(--sklearn-color-fitted-level-2);\n",
       "}\n",
       "\n",
       "/* Estimator label */\n",
       "\n",
       "#sk-container-id-2 div.sk-label label {\n",
       "  font-family: monospace;\n",
       "  font-weight: bold;\n",
       "  display: inline-block;\n",
       "  line-height: 1.2em;\n",
       "}\n",
       "\n",
       "#sk-container-id-2 div.sk-label-container {\n",
       "  text-align: center;\n",
       "}\n",
       "\n",
       "/* Estimator-specific */\n",
       "#sk-container-id-2 div.sk-estimator {\n",
       "  font-family: monospace;\n",
       "  border: 1px dotted var(--sklearn-color-border-box);\n",
       "  border-radius: 0.25em;\n",
       "  box-sizing: border-box;\n",
       "  margin-bottom: 0.5em;\n",
       "  /* unfitted */\n",
       "  background-color: var(--sklearn-color-unfitted-level-0);\n",
       "}\n",
       "\n",
       "#sk-container-id-2 div.sk-estimator.fitted {\n",
       "  /* fitted */\n",
       "  background-color: var(--sklearn-color-fitted-level-0);\n",
       "}\n",
       "\n",
       "/* on hover */\n",
       "#sk-container-id-2 div.sk-estimator:hover {\n",
       "  /* unfitted */\n",
       "  background-color: var(--sklearn-color-unfitted-level-2);\n",
       "}\n",
       "\n",
       "#sk-container-id-2 div.sk-estimator.fitted:hover {\n",
       "  /* fitted */\n",
       "  background-color: var(--sklearn-color-fitted-level-2);\n",
       "}\n",
       "\n",
       "/* Specification for estimator info (e.g. \"i\" and \"?\") */\n",
       "\n",
       "/* Common style for \"i\" and \"?\" */\n",
       "\n",
       ".sk-estimator-doc-link,\n",
       "a:link.sk-estimator-doc-link,\n",
       "a:visited.sk-estimator-doc-link {\n",
       "  float: right;\n",
       "  font-size: smaller;\n",
       "  line-height: 1em;\n",
       "  font-family: monospace;\n",
       "  background-color: var(--sklearn-color-background);\n",
       "  border-radius: 1em;\n",
       "  height: 1em;\n",
       "  width: 1em;\n",
       "  text-decoration: none !important;\n",
       "  margin-left: 1ex;\n",
       "  /* unfitted */\n",
       "  border: var(--sklearn-color-unfitted-level-1) 1pt solid;\n",
       "  color: var(--sklearn-color-unfitted-level-1);\n",
       "}\n",
       "\n",
       ".sk-estimator-doc-link.fitted,\n",
       "a:link.sk-estimator-doc-link.fitted,\n",
       "a:visited.sk-estimator-doc-link.fitted {\n",
       "  /* fitted */\n",
       "  border: var(--sklearn-color-fitted-level-1) 1pt solid;\n",
       "  color: var(--sklearn-color-fitted-level-1);\n",
       "}\n",
       "\n",
       "/* On hover */\n",
       "div.sk-estimator:hover .sk-estimator-doc-link:hover,\n",
       ".sk-estimator-doc-link:hover,\n",
       "div.sk-label-container:hover .sk-estimator-doc-link:hover,\n",
       ".sk-estimator-doc-link:hover {\n",
       "  /* unfitted */\n",
       "  background-color: var(--sklearn-color-unfitted-level-3);\n",
       "  color: var(--sklearn-color-background);\n",
       "  text-decoration: none;\n",
       "}\n",
       "\n",
       "div.sk-estimator.fitted:hover .sk-estimator-doc-link.fitted:hover,\n",
       ".sk-estimator-doc-link.fitted:hover,\n",
       "div.sk-label-container:hover .sk-estimator-doc-link.fitted:hover,\n",
       ".sk-estimator-doc-link.fitted:hover {\n",
       "  /* fitted */\n",
       "  background-color: var(--sklearn-color-fitted-level-3);\n",
       "  color: var(--sklearn-color-background);\n",
       "  text-decoration: none;\n",
       "}\n",
       "\n",
       "/* Span, style for the box shown on hovering the info icon */\n",
       ".sk-estimator-doc-link span {\n",
       "  display: none;\n",
       "  z-index: 9999;\n",
       "  position: relative;\n",
       "  font-weight: normal;\n",
       "  right: .2ex;\n",
       "  padding: .5ex;\n",
       "  margin: .5ex;\n",
       "  width: min-content;\n",
       "  min-width: 20ex;\n",
       "  max-width: 50ex;\n",
       "  color: var(--sklearn-color-text);\n",
       "  box-shadow: 2pt 2pt 4pt #999;\n",
       "  /* unfitted */\n",
       "  background: var(--sklearn-color-unfitted-level-0);\n",
       "  border: .5pt solid var(--sklearn-color-unfitted-level-3);\n",
       "}\n",
       "\n",
       ".sk-estimator-doc-link.fitted span {\n",
       "  /* fitted */\n",
       "  background: var(--sklearn-color-fitted-level-0);\n",
       "  border: var(--sklearn-color-fitted-level-3);\n",
       "}\n",
       "\n",
       ".sk-estimator-doc-link:hover span {\n",
       "  display: block;\n",
       "}\n",
       "\n",
       "/* \"?\"-specific style due to the `<a>` HTML tag */\n",
       "\n",
       "#sk-container-id-2 a.estimator_doc_link {\n",
       "  float: right;\n",
       "  font-size: 1rem;\n",
       "  line-height: 1em;\n",
       "  font-family: monospace;\n",
       "  background-color: var(--sklearn-color-background);\n",
       "  border-radius: 1rem;\n",
       "  height: 1rem;\n",
       "  width: 1rem;\n",
       "  text-decoration: none;\n",
       "  /* unfitted */\n",
       "  color: var(--sklearn-color-unfitted-level-1);\n",
       "  border: var(--sklearn-color-unfitted-level-1) 1pt solid;\n",
       "}\n",
       "\n",
       "#sk-container-id-2 a.estimator_doc_link.fitted {\n",
       "  /* fitted */\n",
       "  border: var(--sklearn-color-fitted-level-1) 1pt solid;\n",
       "  color: var(--sklearn-color-fitted-level-1);\n",
       "}\n",
       "\n",
       "/* On hover */\n",
       "#sk-container-id-2 a.estimator_doc_link:hover {\n",
       "  /* unfitted */\n",
       "  background-color: var(--sklearn-color-unfitted-level-3);\n",
       "  color: var(--sklearn-color-background);\n",
       "  text-decoration: none;\n",
       "}\n",
       "\n",
       "#sk-container-id-2 a.estimator_doc_link.fitted:hover {\n",
       "  /* fitted */\n",
       "  background-color: var(--sklearn-color-fitted-level-3);\n",
       "}\n",
       "</style><div id=\"sk-container-id-2\" class=\"sk-top-container\"><div class=\"sk-text-repr-fallback\"><pre>AgglomerativeClustering(distance_threshold=0, linkage=&#x27;complete&#x27;,\n",
       "                        n_clusters=None)</pre><b>In a Jupyter environment, please rerun this cell to show the HTML representation or trust the notebook. <br />On GitHub, the HTML representation is unable to render, please try loading this page with nbviewer.org.</b></div><div class=\"sk-container\" hidden><div class=\"sk-item\"><div class=\"sk-estimator fitted sk-toggleable\"><input class=\"sk-toggleable__control sk-hidden--visually\" id=\"sk-estimator-id-2\" type=\"checkbox\" checked><label for=\"sk-estimator-id-2\" class=\"sk-toggleable__label fitted sk-toggleable__label-arrow fitted\">&nbsp;&nbsp;AgglomerativeClustering<a class=\"sk-estimator-doc-link fitted\" rel=\"noreferrer\" target=\"_blank\" href=\"https://scikit-learn.org/1.5/modules/generated/sklearn.cluster.AgglomerativeClustering.html\">?<span>Documentation for AgglomerativeClustering</span></a><span class=\"sk-estimator-doc-link fitted\">i<span>Fitted</span></span></label><div class=\"sk-toggleable__content fitted\"><pre>AgglomerativeClustering(distance_threshold=0, linkage=&#x27;complete&#x27;,\n",
       "                        n_clusters=None)</pre></div> </div></div></div></div>"
      ],
      "text/plain": [
       "AgglomerativeClustering(distance_threshold=0, linkage='complete',\n",
       "                        n_clusters=None)"
      ]
     },
     "execution_count": 258,
     "metadata": {},
     "output_type": "execute_result"
    }
   ],
   "source": [
    "HClust = AgglomerativeClustering\n",
    "hc_comp = HClust(distance_threshold=0, n_clusters=None , linkage='complete')\n",
    "hc_comp.fit(X)"
   ]
  },
  {
   "cell_type": "code",
   "execution_count": 268,
   "metadata": {},
   "outputs": [],
   "source": [
    "h_cluster = AgglomerativeClustering\n",
    "hc_ward = h_cluster(distance_threshold=0, n_clusters=None , linkage='ward')"
   ]
  },
  {
   "cell_type": "code",
   "execution_count": 270,
   "metadata": {},
   "outputs": [
    {
     "data": {
      "text/html": [
       "<style>#sk-container-id-7 {\n",
       "  /* Definition of color scheme common for light and dark mode */\n",
       "  --sklearn-color-text: black;\n",
       "  --sklearn-color-line: gray;\n",
       "  /* Definition of color scheme for unfitted estimators */\n",
       "  --sklearn-color-unfitted-level-0: #fff5e6;\n",
       "  --sklearn-color-unfitted-level-1: #f6e4d2;\n",
       "  --sklearn-color-unfitted-level-2: #ffe0b3;\n",
       "  --sklearn-color-unfitted-level-3: chocolate;\n",
       "  /* Definition of color scheme for fitted estimators */\n",
       "  --sklearn-color-fitted-level-0: #f0f8ff;\n",
       "  --sklearn-color-fitted-level-1: #d4ebff;\n",
       "  --sklearn-color-fitted-level-2: #b3dbfd;\n",
       "  --sklearn-color-fitted-level-3: cornflowerblue;\n",
       "\n",
       "  /* Specific color for light theme */\n",
       "  --sklearn-color-text-on-default-background: var(--sg-text-color, var(--theme-code-foreground, var(--jp-content-font-color1, black)));\n",
       "  --sklearn-color-background: var(--sg-background-color, var(--theme-background, var(--jp-layout-color0, white)));\n",
       "  --sklearn-color-border-box: var(--sg-text-color, var(--theme-code-foreground, var(--jp-content-font-color1, black)));\n",
       "  --sklearn-color-icon: #696969;\n",
       "\n",
       "  @media (prefers-color-scheme: dark) {\n",
       "    /* Redefinition of color scheme for dark theme */\n",
       "    --sklearn-color-text-on-default-background: var(--sg-text-color, var(--theme-code-foreground, var(--jp-content-font-color1, white)));\n",
       "    --sklearn-color-background: var(--sg-background-color, var(--theme-background, var(--jp-layout-color0, #111)));\n",
       "    --sklearn-color-border-box: var(--sg-text-color, var(--theme-code-foreground, var(--jp-content-font-color1, white)));\n",
       "    --sklearn-color-icon: #878787;\n",
       "  }\n",
       "}\n",
       "\n",
       "#sk-container-id-7 {\n",
       "  color: var(--sklearn-color-text);\n",
       "}\n",
       "\n",
       "#sk-container-id-7 pre {\n",
       "  padding: 0;\n",
       "}\n",
       "\n",
       "#sk-container-id-7 input.sk-hidden--visually {\n",
       "  border: 0;\n",
       "  clip: rect(1px 1px 1px 1px);\n",
       "  clip: rect(1px, 1px, 1px, 1px);\n",
       "  height: 1px;\n",
       "  margin: -1px;\n",
       "  overflow: hidden;\n",
       "  padding: 0;\n",
       "  position: absolute;\n",
       "  width: 1px;\n",
       "}\n",
       "\n",
       "#sk-container-id-7 div.sk-dashed-wrapped {\n",
       "  border: 1px dashed var(--sklearn-color-line);\n",
       "  margin: 0 0.4em 0.5em 0.4em;\n",
       "  box-sizing: border-box;\n",
       "  padding-bottom: 0.4em;\n",
       "  background-color: var(--sklearn-color-background);\n",
       "}\n",
       "\n",
       "#sk-container-id-7 div.sk-container {\n",
       "  /* jupyter's `normalize.less` sets `[hidden] { display: none; }`\n",
       "     but bootstrap.min.css set `[hidden] { display: none !important; }`\n",
       "     so we also need the `!important` here to be able to override the\n",
       "     default hidden behavior on the sphinx rendered scikit-learn.org.\n",
       "     See: https://github.com/scikit-learn/scikit-learn/issues/21755 */\n",
       "  display: inline-block !important;\n",
       "  position: relative;\n",
       "}\n",
       "\n",
       "#sk-container-id-7 div.sk-text-repr-fallback {\n",
       "  display: none;\n",
       "}\n",
       "\n",
       "div.sk-parallel-item,\n",
       "div.sk-serial,\n",
       "div.sk-item {\n",
       "  /* draw centered vertical line to link estimators */\n",
       "  background-image: linear-gradient(var(--sklearn-color-text-on-default-background), var(--sklearn-color-text-on-default-background));\n",
       "  background-size: 2px 100%;\n",
       "  background-repeat: no-repeat;\n",
       "  background-position: center center;\n",
       "}\n",
       "\n",
       "/* Parallel-specific style estimator block */\n",
       "\n",
       "#sk-container-id-7 div.sk-parallel-item::after {\n",
       "  content: \"\";\n",
       "  width: 100%;\n",
       "  border-bottom: 2px solid var(--sklearn-color-text-on-default-background);\n",
       "  flex-grow: 1;\n",
       "}\n",
       "\n",
       "#sk-container-id-7 div.sk-parallel {\n",
       "  display: flex;\n",
       "  align-items: stretch;\n",
       "  justify-content: center;\n",
       "  background-color: var(--sklearn-color-background);\n",
       "  position: relative;\n",
       "}\n",
       "\n",
       "#sk-container-id-7 div.sk-parallel-item {\n",
       "  display: flex;\n",
       "  flex-direction: column;\n",
       "}\n",
       "\n",
       "#sk-container-id-7 div.sk-parallel-item:first-child::after {\n",
       "  align-self: flex-end;\n",
       "  width: 50%;\n",
       "}\n",
       "\n",
       "#sk-container-id-7 div.sk-parallel-item:last-child::after {\n",
       "  align-self: flex-start;\n",
       "  width: 50%;\n",
       "}\n",
       "\n",
       "#sk-container-id-7 div.sk-parallel-item:only-child::after {\n",
       "  width: 0;\n",
       "}\n",
       "\n",
       "/* Serial-specific style estimator block */\n",
       "\n",
       "#sk-container-id-7 div.sk-serial {\n",
       "  display: flex;\n",
       "  flex-direction: column;\n",
       "  align-items: center;\n",
       "  background-color: var(--sklearn-color-background);\n",
       "  padding-right: 1em;\n",
       "  padding-left: 1em;\n",
       "}\n",
       "\n",
       "\n",
       "/* Toggleable style: style used for estimator/Pipeline/ColumnTransformer box that is\n",
       "clickable and can be expanded/collapsed.\n",
       "- Pipeline and ColumnTransformer use this feature and define the default style\n",
       "- Estimators will overwrite some part of the style using the `sk-estimator` class\n",
       "*/\n",
       "\n",
       "/* Pipeline and ColumnTransformer style (default) */\n",
       "\n",
       "#sk-container-id-7 div.sk-toggleable {\n",
       "  /* Default theme specific background. It is overwritten whether we have a\n",
       "  specific estimator or a Pipeline/ColumnTransformer */\n",
       "  background-color: var(--sklearn-color-background);\n",
       "}\n",
       "\n",
       "/* Toggleable label */\n",
       "#sk-container-id-7 label.sk-toggleable__label {\n",
       "  cursor: pointer;\n",
       "  display: block;\n",
       "  width: 100%;\n",
       "  margin-bottom: 0;\n",
       "  padding: 0.5em;\n",
       "  box-sizing: border-box;\n",
       "  text-align: center;\n",
       "}\n",
       "\n",
       "#sk-container-id-7 label.sk-toggleable__label-arrow:before {\n",
       "  /* Arrow on the left of the label */\n",
       "  content: \"▸\";\n",
       "  float: left;\n",
       "  margin-right: 0.25em;\n",
       "  color: var(--sklearn-color-icon);\n",
       "}\n",
       "\n",
       "#sk-container-id-7 label.sk-toggleable__label-arrow:hover:before {\n",
       "  color: var(--sklearn-color-text);\n",
       "}\n",
       "\n",
       "/* Toggleable content - dropdown */\n",
       "\n",
       "#sk-container-id-7 div.sk-toggleable__content {\n",
       "  max-height: 0;\n",
       "  max-width: 0;\n",
       "  overflow: hidden;\n",
       "  text-align: left;\n",
       "  /* unfitted */\n",
       "  background-color: var(--sklearn-color-unfitted-level-0);\n",
       "}\n",
       "\n",
       "#sk-container-id-7 div.sk-toggleable__content.fitted {\n",
       "  /* fitted */\n",
       "  background-color: var(--sklearn-color-fitted-level-0);\n",
       "}\n",
       "\n",
       "#sk-container-id-7 div.sk-toggleable__content pre {\n",
       "  margin: 0.2em;\n",
       "  border-radius: 0.25em;\n",
       "  color: var(--sklearn-color-text);\n",
       "  /* unfitted */\n",
       "  background-color: var(--sklearn-color-unfitted-level-0);\n",
       "}\n",
       "\n",
       "#sk-container-id-7 div.sk-toggleable__content.fitted pre {\n",
       "  /* unfitted */\n",
       "  background-color: var(--sklearn-color-fitted-level-0);\n",
       "}\n",
       "\n",
       "#sk-container-id-7 input.sk-toggleable__control:checked~div.sk-toggleable__content {\n",
       "  /* Expand drop-down */\n",
       "  max-height: 200px;\n",
       "  max-width: 100%;\n",
       "  overflow: auto;\n",
       "}\n",
       "\n",
       "#sk-container-id-7 input.sk-toggleable__control:checked~label.sk-toggleable__label-arrow:before {\n",
       "  content: \"▾\";\n",
       "}\n",
       "\n",
       "/* Pipeline/ColumnTransformer-specific style */\n",
       "\n",
       "#sk-container-id-7 div.sk-label input.sk-toggleable__control:checked~label.sk-toggleable__label {\n",
       "  color: var(--sklearn-color-text);\n",
       "  background-color: var(--sklearn-color-unfitted-level-2);\n",
       "}\n",
       "\n",
       "#sk-container-id-7 div.sk-label.fitted input.sk-toggleable__control:checked~label.sk-toggleable__label {\n",
       "  background-color: var(--sklearn-color-fitted-level-2);\n",
       "}\n",
       "\n",
       "/* Estimator-specific style */\n",
       "\n",
       "/* Colorize estimator box */\n",
       "#sk-container-id-7 div.sk-estimator input.sk-toggleable__control:checked~label.sk-toggleable__label {\n",
       "  /* unfitted */\n",
       "  background-color: var(--sklearn-color-unfitted-level-2);\n",
       "}\n",
       "\n",
       "#sk-container-id-7 div.sk-estimator.fitted input.sk-toggleable__control:checked~label.sk-toggleable__label {\n",
       "  /* fitted */\n",
       "  background-color: var(--sklearn-color-fitted-level-2);\n",
       "}\n",
       "\n",
       "#sk-container-id-7 div.sk-label label.sk-toggleable__label,\n",
       "#sk-container-id-7 div.sk-label label {\n",
       "  /* The background is the default theme color */\n",
       "  color: var(--sklearn-color-text-on-default-background);\n",
       "}\n",
       "\n",
       "/* On hover, darken the color of the background */\n",
       "#sk-container-id-7 div.sk-label:hover label.sk-toggleable__label {\n",
       "  color: var(--sklearn-color-text);\n",
       "  background-color: var(--sklearn-color-unfitted-level-2);\n",
       "}\n",
       "\n",
       "/* Label box, darken color on hover, fitted */\n",
       "#sk-container-id-7 div.sk-label.fitted:hover label.sk-toggleable__label.fitted {\n",
       "  color: var(--sklearn-color-text);\n",
       "  background-color: var(--sklearn-color-fitted-level-2);\n",
       "}\n",
       "\n",
       "/* Estimator label */\n",
       "\n",
       "#sk-container-id-7 div.sk-label label {\n",
       "  font-family: monospace;\n",
       "  font-weight: bold;\n",
       "  display: inline-block;\n",
       "  line-height: 1.2em;\n",
       "}\n",
       "\n",
       "#sk-container-id-7 div.sk-label-container {\n",
       "  text-align: center;\n",
       "}\n",
       "\n",
       "/* Estimator-specific */\n",
       "#sk-container-id-7 div.sk-estimator {\n",
       "  font-family: monospace;\n",
       "  border: 1px dotted var(--sklearn-color-border-box);\n",
       "  border-radius: 0.25em;\n",
       "  box-sizing: border-box;\n",
       "  margin-bottom: 0.5em;\n",
       "  /* unfitted */\n",
       "  background-color: var(--sklearn-color-unfitted-level-0);\n",
       "}\n",
       "\n",
       "#sk-container-id-7 div.sk-estimator.fitted {\n",
       "  /* fitted */\n",
       "  background-color: var(--sklearn-color-fitted-level-0);\n",
       "}\n",
       "\n",
       "/* on hover */\n",
       "#sk-container-id-7 div.sk-estimator:hover {\n",
       "  /* unfitted */\n",
       "  background-color: var(--sklearn-color-unfitted-level-2);\n",
       "}\n",
       "\n",
       "#sk-container-id-7 div.sk-estimator.fitted:hover {\n",
       "  /* fitted */\n",
       "  background-color: var(--sklearn-color-fitted-level-2);\n",
       "}\n",
       "\n",
       "/* Specification for estimator info (e.g. \"i\" and \"?\") */\n",
       "\n",
       "/* Common style for \"i\" and \"?\" */\n",
       "\n",
       ".sk-estimator-doc-link,\n",
       "a:link.sk-estimator-doc-link,\n",
       "a:visited.sk-estimator-doc-link {\n",
       "  float: right;\n",
       "  font-size: smaller;\n",
       "  line-height: 1em;\n",
       "  font-family: monospace;\n",
       "  background-color: var(--sklearn-color-background);\n",
       "  border-radius: 1em;\n",
       "  height: 1em;\n",
       "  width: 1em;\n",
       "  text-decoration: none !important;\n",
       "  margin-left: 1ex;\n",
       "  /* unfitted */\n",
       "  border: var(--sklearn-color-unfitted-level-1) 1pt solid;\n",
       "  color: var(--sklearn-color-unfitted-level-1);\n",
       "}\n",
       "\n",
       ".sk-estimator-doc-link.fitted,\n",
       "a:link.sk-estimator-doc-link.fitted,\n",
       "a:visited.sk-estimator-doc-link.fitted {\n",
       "  /* fitted */\n",
       "  border: var(--sklearn-color-fitted-level-1) 1pt solid;\n",
       "  color: var(--sklearn-color-fitted-level-1);\n",
       "}\n",
       "\n",
       "/* On hover */\n",
       "div.sk-estimator:hover .sk-estimator-doc-link:hover,\n",
       ".sk-estimator-doc-link:hover,\n",
       "div.sk-label-container:hover .sk-estimator-doc-link:hover,\n",
       ".sk-estimator-doc-link:hover {\n",
       "  /* unfitted */\n",
       "  background-color: var(--sklearn-color-unfitted-level-3);\n",
       "  color: var(--sklearn-color-background);\n",
       "  text-decoration: none;\n",
       "}\n",
       "\n",
       "div.sk-estimator.fitted:hover .sk-estimator-doc-link.fitted:hover,\n",
       ".sk-estimator-doc-link.fitted:hover,\n",
       "div.sk-label-container:hover .sk-estimator-doc-link.fitted:hover,\n",
       ".sk-estimator-doc-link.fitted:hover {\n",
       "  /* fitted */\n",
       "  background-color: var(--sklearn-color-fitted-level-3);\n",
       "  color: var(--sklearn-color-background);\n",
       "  text-decoration: none;\n",
       "}\n",
       "\n",
       "/* Span, style for the box shown on hovering the info icon */\n",
       ".sk-estimator-doc-link span {\n",
       "  display: none;\n",
       "  z-index: 9999;\n",
       "  position: relative;\n",
       "  font-weight: normal;\n",
       "  right: .2ex;\n",
       "  padding: .5ex;\n",
       "  margin: .5ex;\n",
       "  width: min-content;\n",
       "  min-width: 20ex;\n",
       "  max-width: 50ex;\n",
       "  color: var(--sklearn-color-text);\n",
       "  box-shadow: 2pt 2pt 4pt #999;\n",
       "  /* unfitted */\n",
       "  background: var(--sklearn-color-unfitted-level-0);\n",
       "  border: .5pt solid var(--sklearn-color-unfitted-level-3);\n",
       "}\n",
       "\n",
       ".sk-estimator-doc-link.fitted span {\n",
       "  /* fitted */\n",
       "  background: var(--sklearn-color-fitted-level-0);\n",
       "  border: var(--sklearn-color-fitted-level-3);\n",
       "}\n",
       "\n",
       ".sk-estimator-doc-link:hover span {\n",
       "  display: block;\n",
       "}\n",
       "\n",
       "/* \"?\"-specific style due to the `<a>` HTML tag */\n",
       "\n",
       "#sk-container-id-7 a.estimator_doc_link {\n",
       "  float: right;\n",
       "  font-size: 1rem;\n",
       "  line-height: 1em;\n",
       "  font-family: monospace;\n",
       "  background-color: var(--sklearn-color-background);\n",
       "  border-radius: 1rem;\n",
       "  height: 1rem;\n",
       "  width: 1rem;\n",
       "  text-decoration: none;\n",
       "  /* unfitted */\n",
       "  color: var(--sklearn-color-unfitted-level-1);\n",
       "  border: var(--sklearn-color-unfitted-level-1) 1pt solid;\n",
       "}\n",
       "\n",
       "#sk-container-id-7 a.estimator_doc_link.fitted {\n",
       "  /* fitted */\n",
       "  border: var(--sklearn-color-fitted-level-1) 1pt solid;\n",
       "  color: var(--sklearn-color-fitted-level-1);\n",
       "}\n",
       "\n",
       "/* On hover */\n",
       "#sk-container-id-7 a.estimator_doc_link:hover {\n",
       "  /* unfitted */\n",
       "  background-color: var(--sklearn-color-unfitted-level-3);\n",
       "  color: var(--sklearn-color-background);\n",
       "  text-decoration: none;\n",
       "}\n",
       "\n",
       "#sk-container-id-7 a.estimator_doc_link.fitted:hover {\n",
       "  /* fitted */\n",
       "  background-color: var(--sklearn-color-fitted-level-3);\n",
       "}\n",
       "</style><div id=\"sk-container-id-7\" class=\"sk-top-container\"><div class=\"sk-text-repr-fallback\"><pre>AgglomerativeClustering(distance_threshold=0, n_clusters=None)</pre><b>In a Jupyter environment, please rerun this cell to show the HTML representation or trust the notebook. <br />On GitHub, the HTML representation is unable to render, please try loading this page with nbviewer.org.</b></div><div class=\"sk-container\" hidden><div class=\"sk-item\"><div class=\"sk-estimator fitted sk-toggleable\"><input class=\"sk-toggleable__control sk-hidden--visually\" id=\"sk-estimator-id-7\" type=\"checkbox\" checked><label for=\"sk-estimator-id-7\" class=\"sk-toggleable__label fitted sk-toggleable__label-arrow fitted\">&nbsp;&nbsp;AgglomerativeClustering<a class=\"sk-estimator-doc-link fitted\" rel=\"noreferrer\" target=\"_blank\" href=\"https://scikit-learn.org/1.5/modules/generated/sklearn.cluster.AgglomerativeClustering.html\">?<span>Documentation for AgglomerativeClustering</span></a><span class=\"sk-estimator-doc-link fitted\">i<span>Fitted</span></span></label><div class=\"sk-toggleable__content fitted\"><pre>AgglomerativeClustering(distance_threshold=0, n_clusters=None)</pre></div> </div></div></div></div>"
      ],
      "text/plain": [
       "AgglomerativeClustering(distance_threshold=0, n_clusters=None)"
      ]
     },
     "execution_count": 270,
     "metadata": {},
     "output_type": "execute_result"
    }
   ],
   "source": [
    "hc_ward.fit(dummy_df)"
   ]
  },
  {
   "cell_type": "code",
   "execution_count": 281,
   "metadata": {},
   "outputs": [
    {
     "data": {
      "image/png": "[encoded data removed]",
      "text/plain": [
       "<Figure size 640x480 with 1 Axes>"
      ]
     },
     "metadata": {},
     "output_type": "display_data"
    }
   ],
   "source": [
    "linkage = hierarchy.linkage(dummy_df, method = 'ward')\n",
    "hierarchy.dendrogram(linkage, labels = list(dummy_df.index))\n",
    "plt.show()"
   ]
  },
  {
   "cell_type": "code",
   "execution_count": 282,
   "metadata": {},
   "outputs": [
    {
     "data": {
      "image/png": "[encoded data removed]",
      "text/plain": [
       "<Figure size 640x480 with 1 Axes>"
      ]
     },
     "metadata": {},
     "output_type": "display_data"
    }
   ],
   "source": [
    "linkage = hierarchy.linkage(dummy_df, method = 'average')\n",
    "hierarchy.dendrogram(linkage, labels = list(dummy_df.index))\n",
    "plt.show()"
   ]
  },
  {
   "cell_type": "code",
   "execution_count": 283,
   "metadata": {},
   "outputs": [
    {
     "data": {
      "text/plain": [
       "array([[0, 1, 0, 2, 2, 3, 4, 4, 0, 0, 5, 3]])"
      ]
     },
     "execution_count": 283,
     "metadata": {},
     "output_type": "execute_result"
    }
   ],
   "source": [
    "hierarchy.cut_tree(linkage, n_clusters=6).T"
   ]
  },
  {
   "cell_type": "code",
   "execution_count": 20,
   "metadata": {},
   "outputs": [
    {
     "data": {
      "text/html": [
       "<div>\n",
       "<style scoped>\n",
       "    .dataframe tbody tr th:only-of-type {\n",
       "        vertical-align: middle;\n",
       "    }\n",
       "\n",
       "    .dataframe tbody tr th {\n",
       "        vertical-align: top;\n",
       "    }\n",
       "\n",
       "    .dataframe thead th {\n",
       "        text-align: right;\n",
       "    }\n",
       "</style>\n",
       "<table border=\"1\" class=\"dataframe\">\n",
       "  <thead>\n",
       "    <tr style=\"text-align: right;\">\n",
       "      <th></th>\n",
       "      <th>age</th>\n",
       "      <th>gender_f</th>\n",
       "      <th>gender_m</th>\n",
       "      <th>ethnicity_A</th>\n",
       "      <th>ethnicity_B</th>\n",
       "      <th>ethnicity_C</th>\n",
       "      <th>ethnicity_D</th>\n",
       "    </tr>\n",
       "  </thead>\n",
       "  <tbody>\n",
       "    <tr>\n",
       "      <th>0</th>\n",
       "      <td>44</td>\n",
       "      <td>0.707107</td>\n",
       "      <td>0.000000</td>\n",
       "      <td>0.707107</td>\n",
       "      <td>0.000000</td>\n",
       "      <td>0.000000</td>\n",
       "      <td>0.000000</td>\n",
       "    </tr>\n",
       "    <tr>\n",
       "      <th>1</th>\n",
       "      <td>18</td>\n",
       "      <td>0.000000</td>\n",
       "      <td>0.707107</td>\n",
       "      <td>0.000000</td>\n",
       "      <td>0.707107</td>\n",
       "      <td>0.000000</td>\n",
       "      <td>0.000000</td>\n",
       "    </tr>\n",
       "    <tr>\n",
       "      <th>2</th>\n",
       "      <td>40</td>\n",
       "      <td>0.707107</td>\n",
       "      <td>0.000000</td>\n",
       "      <td>0.707107</td>\n",
       "      <td>0.000000</td>\n",
       "      <td>0.000000</td>\n",
       "      <td>0.000000</td>\n",
       "    </tr>\n",
       "    <tr>\n",
       "      <th>3</th>\n",
       "      <td>33</td>\n",
       "      <td>0.707107</td>\n",
       "      <td>0.000000</td>\n",
       "      <td>0.000000</td>\n",
       "      <td>0.000000</td>\n",
       "      <td>0.000000</td>\n",
       "      <td>0.707107</td>\n",
       "    </tr>\n",
       "    <tr>\n",
       "      <th>4</th>\n",
       "      <td>33</td>\n",
       "      <td>0.000000</td>\n",
       "      <td>0.707107</td>\n",
       "      <td>0.000000</td>\n",
       "      <td>0.000000</td>\n",
       "      <td>0.707107</td>\n",
       "      <td>0.000000</td>\n",
       "    </tr>\n",
       "    <tr>\n",
       "      <th>5</th>\n",
       "      <td>50</td>\n",
       "      <td>0.707107</td>\n",
       "      <td>0.000000</td>\n",
       "      <td>0.000000</td>\n",
       "      <td>0.707107</td>\n",
       "      <td>0.000000</td>\n",
       "      <td>0.000000</td>\n",
       "    </tr>\n",
       "    <tr>\n",
       "      <th>6</th>\n",
       "      <td>22</td>\n",
       "      <td>0.707107</td>\n",
       "      <td>0.000000</td>\n",
       "      <td>0.707107</td>\n",
       "      <td>0.000000</td>\n",
       "      <td>0.000000</td>\n",
       "      <td>0.000000</td>\n",
       "    </tr>\n",
       "    <tr>\n",
       "      <th>7</th>\n",
       "      <td>23</td>\n",
       "      <td>0.707107</td>\n",
       "      <td>0.000000</td>\n",
       "      <td>0.707107</td>\n",
       "      <td>0.000000</td>\n",
       "      <td>0.000000</td>\n",
       "      <td>0.000000</td>\n",
       "    </tr>\n",
       "    <tr>\n",
       "      <th>8</th>\n",
       "      <td>39</td>\n",
       "      <td>0.000000</td>\n",
       "      <td>0.707107</td>\n",
       "      <td>0.000000</td>\n",
       "      <td>0.707107</td>\n",
       "      <td>0.000000</td>\n",
       "      <td>0.000000</td>\n",
       "    </tr>\n",
       "    <tr>\n",
       "      <th>9</th>\n",
       "      <td>42</td>\n",
       "      <td>0.000000</td>\n",
       "      <td>0.707107</td>\n",
       "      <td>0.000000</td>\n",
       "      <td>0.707107</td>\n",
       "      <td>0.000000</td>\n",
       "      <td>0.000000</td>\n",
       "    </tr>\n",
       "    <tr>\n",
       "      <th>10</th>\n",
       "      <td>57</td>\n",
       "      <td>0.000000</td>\n",
       "      <td>0.707107</td>\n",
       "      <td>0.000000</td>\n",
       "      <td>0.000000</td>\n",
       "      <td>0.707107</td>\n",
       "      <td>0.000000</td>\n",
       "    </tr>\n",
       "    <tr>\n",
       "      <th>11</th>\n",
       "      <td>51</td>\n",
       "      <td>0.000000</td>\n",
       "      <td>0.707107</td>\n",
       "      <td>0.000000</td>\n",
       "      <td>0.000000</td>\n",
       "      <td>0.707107</td>\n",
       "      <td>0.000000</td>\n",
       "    </tr>\n",
       "  </tbody>\n",
       "</table>\n",
       "</div>"
      ],
      "text/plain": [
       "    age  gender_f  gender_m  ethnicity_A  ethnicity_B  ethnicity_C  \\\n",
       "0    44  0.707107  0.000000     0.707107     0.000000     0.000000   \n",
       "1    18  0.000000  0.707107     0.000000     0.707107     0.000000   \n",
       "2    40  0.707107  0.000000     0.707107     0.000000     0.000000   \n",
       "3    33  0.707107  0.000000     0.000000     0.000000     0.000000   \n",
       "4    33  0.000000  0.707107     0.000000     0.000000     0.707107   \n",
       "5    50  0.707107  0.000000     0.000000     0.707107     0.000000   \n",
       "6    22  0.707107  0.000000     0.707107     0.000000     0.000000   \n",
       "7    23  0.707107  0.000000     0.707107     0.000000     0.000000   \n",
       "8    39  0.000000  0.707107     0.000000     0.707107     0.000000   \n",
       "9    42  0.000000  0.707107     0.000000     0.707107     0.000000   \n",
       "10   57  0.000000  0.707107     0.000000     0.000000     0.707107   \n",
       "11   51  0.000000  0.707107     0.000000     0.000000     0.707107   \n",
       "\n",
       "    ethnicity_D  \n",
       "0      0.000000  \n",
       "1      0.000000  \n",
       "2      0.000000  \n",
       "3      0.707107  \n",
       "4      0.000000  \n",
       "5      0.000000  \n",
       "6      0.000000  \n",
       "7      0.000000  \n",
       "8      0.000000  \n",
       "9      0.000000  \n",
       "10     0.000000  \n",
       "11     0.000000  "
      ]
     },
     "execution_count": 20,
     "metadata": {},
     "output_type": "execute_result"
    }
   ],
   "source": [
    "dummy_df"
   ]
  },
  {
   "cell_type": "code",
   "execution_count": null,
   "metadata": {},
   "outputs": [],
   "source": []
  },
  {
   "cell_type": "code",
   "execution_count": 34,
   "metadata": {},
   "outputs": [],
   "source": [
    "def calculate_euclidean_distances(df:pd.DataFrame)->List[ArrayLike]:\n",
    "    \"\"\"Used when running by attribute\n",
    "\n",
    "    Args:\n",
    "        df (pd.DataFrame): dummy encoded data\n",
    "\n",
    "    Returns:\n",
    "        List[ArrayLike]: a list of each distance matrix for each feature\n",
    "    \"\"\"\n",
    "    dist_list = []\n",
    "    for i in range(df.shape[1]):  # Iterate through the columns\n",
    "        col = df.iloc[:, i].to_numpy()       # Select column i\n",
    "        dist_list.append(np.abs(np.subtract.outer(col, col)))\n",
    "\n",
    "    return dist_list"
   ]
  },
  {
   "cell_type": "code",
   "execution_count": 32,
   "metadata": {},
   "outputs": [],
   "source": [
    "dist_e_list = calculate_euclidean_distances(dummy_df)"
   ]
  },
  {
   "cell_type": "code",
   "execution_count": 59,
   "metadata": {},
   "outputs": [],
   "source": [
    "def dist_matrix_w(data:pd.DataFrame, weights:list=None)->ArrayLike:\n",
    "    \"\"\"Calculate n x n matrix with weighted averages of single-attribute distances\n",
    "    between the n group members\n",
    "\n",
    "    #TODO when calling this function in sequence, I need to have weights added for each category in a \n",
    "    Field.\n",
    "\n",
    "    Args:\n",
    "        data (pd.DataFrame): dummy encoded data\n",
    "        weights (list, optional): list of weights. Defaults to None.\n",
    "\n",
    "    Returns:\n",
    "        ArrayLike:  n x n matrix with weighted averages of single-attribute distances\n",
    "    \"\"\"\n",
    "    \n",
    "    # Convert data numpy array\n",
    "    data = data.values\n",
    "        \n",
    "    # If weights are not provided, set them to 1 for all columns\n",
    "    if weights is None:\n",
    "        weights = np.ones(data.shape[1])\n",
    "    else:\n",
    "        # Ensure weights are a NumPy array for consistency\n",
    "        weights = np.asarray(weights)\n",
    "\n",
    "    n = data.shape[0]  # number of rows\n",
    "    dist_matrix = np.zeros((n, n))  # Initialize the distance matrix\n",
    "    \n",
    "    # Calculate the range for each column\n",
    "    ranges = np.ptp(data, axis=0)  # ptp is \"peak-to-peak\", which computes the range (max - min)\n",
    "    \n",
    "    # Loop over each attribute (column)\n",
    "    for attr in range(data.shape[1]):\n",
    "        # Calculate the outer absolute differences\n",
    "        outer_diff = np.abs(np.subtract.outer(data[:, attr], data[:, attr]))\n",
    "        # Update the distance matrix with normalized values\n",
    "        dist_matrix += weights[attr] * outer_diff / ranges[attr]\n",
    "\n",
    "    # Calculate weighted average (divide by sum of weights)\n",
    "    total_weight = np.sum(weights)\n",
    "    dist_matrix /= total_weight\n",
    "    \n",
    "    return dist_matrix"
   ]
  },
  {
   "cell_type": "code",
   "execution_count": 55,
   "metadata": {},
   "outputs": [],
   "source": [
    "d_w = dist_matrix_w(dummy_df, [0.1,1,1,1,1,1,1])"
   ]
  },
  {
   "cell_type": "code",
   "execution_count": 60,
   "metadata": {},
   "outputs": [
    {
     "data": {
      "text/plain": [
       "(12, 12)"
      ]
     },
     "execution_count": 60,
     "metadata": {},
     "output_type": "execute_result"
    }
   ],
   "source": [
    "d_w.shape"
   ]
  },
  {
   "cell_type": "code",
   "execution_count": 65,
   "metadata": {},
   "outputs": [],
   "source": [
    "def dist_matrix_e(data:Union[ArrayLike,pd.DataFrame], weights:ArrayLike=None)->ArrayLike:\n",
    "    \"\"\"Calculate n x n Euclidean distance matrix, containing the pairwise Euclidean\n",
    "    distances between the n group members\n",
    "\n",
    "    Args:\n",
    "        data (Union[ArrayLike,pd.DataFrame]): dummy encoded data\n",
    "        weights (ArrayLike, optional): Weights for features. Defaults to None.\n",
    "\n",
    "    Returns:\n",
    "        ArrayLike: n x n Euclidean distance matrix\n",
    "    \"\"\"\n",
    "    # Check if the input is a DataFrame; if so, convert to a NumPy array\n",
    "    if isinstance(data, pd.DataFrame):\n",
    "        data = data.values\n",
    "        \n",
    "    # If weights are not provided, set them to 1 for all columns\n",
    "    if weights is None:\n",
    "        weights = np.ones(data.shape[1])\n",
    "    else:\n",
    "        # Ensure weights are a NumPy array for consistency\n",
    "        weights = np.asarray(weights)\n",
    "\n",
    "    # Apply weights to data\n",
    "    weighted_data = data * weights\n",
    "\n",
    "    # Calculate pairwise distances using pdist and convert to a square matrix\n",
    "    # The 'euclidean' metric is used because we're calculating the Euclidean distance\n",
    "    dist_matrix = squareform(pdist(weighted_data, metric='euclidean'))\n",
    "\n",
    "    return dist_matrix"
   ]
  },
  {
   "cell_type": "code",
   "execution_count": 384,
   "metadata": {},
   "outputs": [],
   "source": [
    "s = np.full(n, -99.0)"
   ]
  },
  {
   "cell_type": "code",
   "execution_count": 385,
   "metadata": {},
   "outputs": [
    {
     "data": {
      "text/plain": [
       "array([-99., -99., -99., -99., -99., -99., -99., -99., -99., -99., -99.,\n",
       "       -99.])"
      ]
     },
     "execution_count": 385,
     "metadata": {},
     "output_type": "execute_result"
    }
   ],
   "source": [
    "s"
   ]
  },
  {
   "cell_type": "code",
   "execution_count": 84,
   "metadata": {},
   "outputs": [],
   "source": [
    "def silhouette_width(distmatrix, groups, individual=\"avg\", usesghomo=False):\n",
    "    n = len(groups)\n",
    "    u = np.unique(groups)\n",
    "    k = len(u)\n",
    "    \n",
    "    s = np.full(n, -99.0)  # Initialize silhouette widths to -99\n",
    "    \n",
    "    for i in range(n):\n",
    "        if np.sum(groups == groups[i]) > 1:  # i is not an isolate\n",
    "            a_i = 0\n",
    "            b_i = np.inf\n",
    "            h = []\n",
    "            h_i = []\n",
    "            d_i = []\n",
    "\n",
    "            for j in u:\n",
    "                g = np.where(groups == j)[0]  # All group members of group j\n",
    "                g = g[g != i]  # All group members of group j, except member i\n",
    "                g_i = np.concatenate((g, [i]))  # All group members of group j, and member i\n",
    "                n_j = len(g)\n",
    "                n_i = n_j + 1\n",
    "\n",
    "                d_i_j = np.mean(distmatrix[g, i]) if n_j > 0 else 0  # Average distance from i to all elements of j\n",
    "                d_i.append(d_i_j)\n",
    "\n",
    "                h_j = np.mean(distmatrix[g][:, g]) if n_j > 1 else 0  # Average distance between all elements of j, except i\n",
    "                h.append(h_j)\n",
    "\n",
    "                h_i_j = np.mean(distmatrix[g_i][:, g_i]) if n_i > 1 else 0  # Average distance between all elements of j, including i\n",
    "                h_i.append(h_i_j)\n",
    "\n",
    "            dh_i = np.array(h_i) - np.array(h)  # Change in mean distances of each cluster, when i is included\n",
    "\n",
    "            a = np.where(u == groups[i])[0][0]  # Which group does i belong to (ingroup)?\n",
    "            \n",
    "            d_i_inf = np.copy(d_i)\n",
    "            d_i_inf[a] = np.inf  # Set the distance for the in-group to infinity\n",
    "            \n",
    "            b = np.argmin(d_i_inf)  # Index of the nearest out-group\n",
    "\n",
    "            a_i = d_i[a] + usesghomo * h[b]\n",
    "            b_i = d_i[b] + usesghomo * h[a]\n",
    "\n",
    "            m = max(a_i, b_i)  # Silhouette width denominator\n",
    "            \n",
    "            if m != 0:\n",
    "                s[i] = (b_i - a_i) / m\n",
    "\n",
    "    s[s == -99] = 0  # Set silhouettes that are still -99 to 0\n",
    "\n",
    "    if k == 1:\n",
    "        s = np.full(n, -1)  # If there is only one cluster, set all silhouettes to -1\n",
    "\n",
    "    return s\n"
   ]
  },
  {
   "cell_type": "code",
   "execution_count": 85,
   "metadata": {},
   "outputs": [],
   "source": [
    "def ingroups_ind(d, d_w, d_l, data, usesghomo=False, weights=None, by_attr=False):\n",
    "    n = d.shape[0]\n",
    "    \n",
    "    if n > 2:\n",
    "        gmat = np.ones((n, n))  # Matrix that holds individual in-/outgroups by row\n",
    "        outliers = s_outliers(d_w, k=1, alpha=0.9, ncol=data.shape[1] - 1)  # Detect outliers\n",
    "        \n",
    "        for i in range(n):\n",
    "            # Sort group members by their distance to member i\n",
    "            d_sorted = np.column_stack((np.arange(1, n + 1), d_w[:, i]))  # Indices and distances\n",
    "            d_sorted = np.delete(d_sorted, i, axis=0)  # Remove self distance\n",
    "            d_sorted = d_sorted[d_sorted[:, 1].argsort()]  # Sort by distance\n",
    "            \n",
    "            g = np.full(n, 2)  # Initial outgroup (2's denote outgroup members)\n",
    "            g[i] = 1  # Focal group member is the first one in their ingroup\n",
    "            gmat[i, :] = g  # Store in-/outgroup association in gmat\n",
    "            \n",
    "            # Silhouette width for outlier condition\n",
    "            if by_attr:\n",
    "                pass\n",
    "                # s_i_max = silhouette_width_by_attr(d_l, g, usesghomo=usesghomo, weights=weights)[i]\n",
    "            else:\n",
    "                s_i_max = silhouette_width(d, g, usesghomo=usesghomo)[i]\n",
    "\n",
    "            if np.isnan(outliers[i]) or not outliers[i]:  \n",
    "                g[d_sorted[0, 0] - 1] = 1  # Place outgroup member nearest to i in i's ingroup\n",
    "                gmat[i, :] = g  # Store in gmat\n",
    "                \n",
    "                # Determine initial silhouette width (2-member ingroup)\n",
    "                if by_attr:\n",
    "                    pass\n",
    "                    # s_i_max = silhouette_width_by_attr(d_l, g, usesghomo=usesghomo, weights=weights)[i]\n",
    "                else:\n",
    "                    s_i_max = silhouette_width(d, groups=g, usesghomo=usesghomo)[i]\n",
    "\n",
    "                # Add additional outgroup members to i's ingroup\n",
    "                g_i = np.copy(g)\n",
    "                for o in d_sorted[1:, 0].astype(int) - 1:  # Iterate over sorted distances excluding the nearest\n",
    "                    g_i[o] = 1  # g_i is i's tentative in-/outgroup distribution\n",
    "                    \n",
    "                    if by_attr:\n",
    "                        pass\n",
    "                        # s_i = silhouette_width_by_attr(d_l, g_i, usesghomo=usesghomo, weights=weights)[i]\n",
    "                    else:\n",
    "                        s_i = silhouette_width(d, groups=g_i, individual=i, usesghomo=usesghomo)[i]\n",
    "\n",
    "                    if s_i >= s_i_max:  # Do we have a new max?\n",
    "                        g = np.copy(g_i)  # Register new max\n",
    "                        gmat[i, :] = g\n",
    "                        s_i_max = s_i\n",
    "            \n",
    "    else:\n",
    "        gmat = np.zeros((1, 1))  # Return a zero matrix if there are not enough individuals\n",
    "\n",
    "    return gmat\n"
   ]
  },
  {
   "cell_type": "code",
   "execution_count": 344,
   "metadata": {},
   "outputs": [],
   "source": [
    "def asw_cluster(data, groups, gmax, D, individual=\"avg\", usesghomo=False, weights=None, by_attr=False):\n",
    "    maxasw = -1  # Start with minimal value for ASW\n",
    "    n = len(groups)\n",
    "    nv = data.shape[1]  # Number of variables (columns)\n",
    "\n",
    "    # Allow up to gmax subgroups\n",
    "    nofgroups = min(gmax, np.max(groups) + 1)\n",
    "\n",
    "    # Initialize stop-condition\n",
    "    imax = 1\n",
    "\n",
    "    # Loop as long as target value is growing\n",
    "    while imax > 0:\n",
    "        # Establish stop-condition\n",
    "        imax = 0\n",
    "\n",
    "        # For each person\n",
    "        for i in range(n):\n",
    "            # For each subgroup to put people into\n",
    "            for newgroup in range(int(nofgroups), 0, -1):\n",
    "                # If group assignment changes...\n",
    "                if groups[i] != newgroup:\n",
    "                    # g_new is a temporary variable for the new subgroup assignment\n",
    "                    g_new = np.copy(groups)\n",
    "\n",
    "                    # Put person i into group \"newgroup\"\n",
    "                    g_new[i] = newgroup\n",
    "\n",
    "                    # If the new assignment produces more than two subgroups\n",
    "                    if len(np.unique(g_new)) >= 2:\n",
    "                        # Calculate silhouette widths\n",
    "                        if by_attr:\n",
    "                            pass\n",
    "                            # sil = silhouette_width_by_attr(D, g_new, individual=individual, usesghomo=usesghomo, weights=weights)\n",
    "                        else:\n",
    "                            print(g_new)\n",
    "                            sil = silhouette_width(D, g_new, individual=individual, usesghomo=usesghomo)\n",
    "\n",
    "                        if individual == \"avg\":\n",
    "                            # ASW as their mean value\n",
    "                            asw = np.mean(sil)\n",
    "                        else:\n",
    "                            asw = sil[individual]\n",
    "\n",
    "                        # If the new value for ASW reaches or exceeds the previous maximum\n",
    "                        if asw > maxasw:\n",
    "                            # Store new maximized ASW value (high score)\n",
    "                            maxasw = asw\n",
    "\n",
    "                            # Store person whose new group assignment caused the maximal value       \n",
    "                            imax = i\n",
    "\n",
    "                            # Store better group for person i                     \n",
    "                            newgroupmax = newgroup\n",
    "\n",
    "        # Did we find a new maximum in this round?\n",
    "        if imax > 0:\n",
    "            # Write new optimal partition back to grouping vector\n",
    "            groups[imax] = newgroupmax\n",
    "\n",
    "    return np.array([maxasw] + list(groups))  # Return maximum ASW and updated groups\n"
   ]
  },
  {
   "cell_type": "code",
   "execution_count": 76,
   "metadata": {},
   "outputs": [],
   "source": [
    "dst = dist_matrix_e(dummy_df)"
   ]
  },
  {
   "cell_type": "code",
   "execution_count": 79,
   "metadata": {},
   "outputs": [],
   "source": [
    "groups = [i for i in range(1,dummy_df.shape[0]+1)]"
   ]
  },
  {
   "cell_type": "code",
   "execution_count": 82,
   "metadata": {},
   "outputs": [
    {
     "data": {
      "text/plain": [
       "array([ 1,  2,  3,  4,  5,  6,  7,  8,  9, 10, 11, 12])"
      ]
     },
     "execution_count": 82,
     "metadata": {},
     "output_type": "execute_result"
    }
   ],
   "source": [
    "np.array(groups)"
   ]
  },
  {
   "cell_type": "code",
   "execution_count": 83,
   "metadata": {},
   "outputs": [
    {
     "data": {
      "text/plain": [
       "array([1, 1, 1, 1, 1, 1, 1, 1, 1, 1, 1, 1])"
      ]
     },
     "execution_count": 83,
     "metadata": {},
     "output_type": "execute_result"
    }
   ],
   "source": [
    "ward_clustering(data = dummy_df,\n",
    "                groups=np.array(groups),\n",
    "                D = dst)"
   ]
  },
  {
   "cell_type": "code",
   "execution_count": 114,
   "metadata": {},
   "outputs": [],
   "source": [
    "def reord_groups(groups):\n",
    "    g = 1\n",
    "    i = 0\n",
    "    gnew = np.copy(groups)  # Create a copy to avoid modifying the original\n",
    "    ng = len(np.unique(groups))  # Number of unique groups\n",
    "    \n",
    "    while g <= ng and i < len(gnew):\n",
    "        if gnew[i] > g:\n",
    "            x = gnew[i]\n",
    "            gnew[gnew == g] = -1  # Temporarily mark the current group\n",
    "            gnew[gnew == x] = g   # Assign the current group label to the higher group\n",
    "            gnew[gnew == -1] = x  # Restore the original higher group label\n",
    "            g += 1\n",
    "        elif gnew[i] == g:\n",
    "            g += 1\n",
    "        \n",
    "        i += 1\n",
    "\n",
    "    return gnew"
   ]
  },
  {
   "cell_type": "code",
   "execution_count": 248,
   "metadata": {},
   "outputs": [],
   "source": [
    "def clustering_algorithm(data, D, groups, weights=None, metric='euclidean', maxgroups=6, usesghomo=False, by_attr=False, i_level=False, quiet=False):\n",
    "    n = data.shape[0]  # Number of data points\n",
    "    sil = np.zeros(n)\n",
    "    num_sg = np.zeros(n)\n",
    "    mbr = np.zeros(n)\n",
    "    adjm_all = np.zeros((n, n))\n",
    "    \n",
    "    aswmax = -1\n",
    "    subgroups = np.empty((0, n))\n",
    "    \n",
    "    if np.sum(D) > 0:\n",
    "        if not i_level:\n",
    "            # Combine Clusters using Ward's algorithm\n",
    "            cl1, cl2 = 0, 1\n",
    "            ward_x = np.arange(1, n + 1)\n",
    "\n",
    "            while len(np.unique(groups)) > 1 and np.sum(D) > 0 and cl1 != cl2:\n",
    "                # Initialize attribute centroids matrix\n",
    "                nc = int(np.max(groups))  # Number of clusters\n",
    "                centroids = np.zeros((nc, data.shape[1]))\n",
    "\n",
    "                # Calculate cluster centroids\n",
    "                for group in np.unique(groups):\n",
    "                    centroids[group - 1] = np.mean(data[groups == group], axis=0)\n",
    "\n",
    "                # Calculate cluster sizes\n",
    "                cl_sizes = np.array([np.sum(groups == g) for g in np.unique(groups)])\n",
    "\n",
    "                # Calculate distance matrix from centroids\n",
    "                # if metric == 'mahal':\n",
    "                #     # Placeholder for Mahalanobis distance function (S_mahal)\n",
    "                #     S = S_mahal(data)  # Implement your S_mahal function\n",
    "                #     dist_cent = distmatrix_m(centroids, S, weights)  # Implement your distmatrix_m function\n",
    "                # elif metric == 'corr':\n",
    "                #     C = C_cor(centroids) * np.diag(np.ones(centroids.shape[1]))\n",
    "                #     centroids = centroids @ C\n",
    "                #     dist_cent = distmatrix_e(centroids, weights)  # Implement your distmatrix_e function\n",
    "                # elif metric == 'gower':\n",
    "                #     dist_cent = distmatrix_g(centroids)  # Implement your distmatrix_g function\n",
    "                # else:\n",
    "                dist_cent = dist_matrix_e(centroids, weights)\n",
    "\n",
    "                cl_mat = np.zeros((len(cl_sizes), len(cl_sizes)))\n",
    "                for i in range(len(cl_sizes)):\n",
    "                    for j in range(len(cl_sizes)):\n",
    "                        cl_mat[i, j] = cl_sizes[i] + cl_sizes[j]\n",
    "\n",
    "                dist_cent = dist_cent * (np.outer(cl_sizes, cl_sizes) / cl_mat)\n",
    "\n",
    "                # Replace NaN with max distance + 1\n",
    "                dist_cent[np.isnan(dist_cent)] = np.max(dist_cent) + 1\n",
    "\n",
    "                # Replace diagonal elements with max distance + 1\n",
    "                np.fill_diagonal(dist_cent, np.max(dist_cent) + 1)\n",
    "\n",
    "                # Find minimal distance\n",
    "                dcmin = np.unravel_index(np.argmin(dist_cent, axis=None), dist_cent.shape)\n",
    "\n",
    "                # Find centroids to combine\n",
    "                cl1 = dcmin[0] + 1  # Adjust for 1-based indexing\n",
    "                cl2 = dcmin[1] + 1  # Adjust for 1-based indexing\n",
    "\n",
    "                # Combine clusters\n",
    "                groups[groups == cl2] = cl1\n",
    "                groups = reord_groups(groups)\n",
    "                ward_x = np.column_stack((groups, ward_x))\n",
    "\n",
    "            # Combine clusters with average linkage method\n",
    "            groups = np.arange(1, n + 1)\n",
    "            cl1, cl2 = 0, 1\n",
    "            average_link = np.copy(groups)\n",
    "            while len(np.unique(groups)) > 1 and np.sum(D) > 0 and cl1 != cl2:\n",
    "                min_avg_link = np.max(D)\n",
    "                for i in np.unique(groups):\n",
    "                    for j in np.unique(groups):\n",
    "                        if i != j:\n",
    "                            d = np.mean(D[groups == i][:, groups == j])\n",
    "                            if d <= min_avg_link:\n",
    "                                min_avg_link = d\n",
    "                                cl1 = i\n",
    "                                cl2 = j\n",
    "                # Combine clusters\n",
    "                groups[groups == cl2] = cl1\n",
    "                groups = reord_groups(groups)\n",
    "                average_link = np.column_stack((groups, average_link))\n",
    "\n",
    "            # Now call clustering with ASW maximizing\n",
    "            n_w = min(maxgroups, ward_x.shape[1], average_link.shape[1])\n",
    "\n",
    "            # return average_link,ward_x,n_w\n",
    "            # a_l = pd.DataFrame(average_link[:, 1:n_w])[\n",
    "            #     pd.Series(np.abs(average_link[:, 1:n_w] - ward_x[:, 1:n_w])).sum(axis=0) > 0\n",
    "            # ]\n",
    "            \n",
    "            filtered_columns = np.abs(average_link[:,1:n_w] - ward_x[:,1:n_w]).sum(axis=0)>0\n",
    "            a_l = pd.DataFrame(average_link[:,1:n_w][:,filtered_columns])\n",
    "\n",
    "\n",
    "            m = np.column_stack((np.ones(n), ward_x[:, 1:n_w], a_l))\n",
    "\n",
    "            a_l_names = np.full(a_l.shape[1], \"average_linkage\") if a_l.shape[1] > 0 else []\n",
    "\n",
    "            methods = [\"constant\"] + [\"ward\"] * (n_w - 1) + a_l_names.tolist()\n",
    "\n",
    "\n",
    "            asw = np.array([])\n",
    "            sil = np.zeros(n)\n",
    "            num_sg = np.zeros(n)\n",
    "            mbr = np.zeros(n)\n",
    "\n",
    "            aswmax = -1\n",
    "            subgroups = np.empty((0, n))\n",
    "\n",
    "            i_steps = [\"avg\"]\n",
    "            if i_level:\n",
    "                i_steps = np.arange(1, n + 1)\n",
    "\n",
    "            adjm_all = np.zeros((n, n))\n",
    "            asw_all = np.zeros(n_w)\n",
    "\n",
    "            for individual in i_steps:\n",
    "                # if i_steps == \"avg\":\n",
    "                #     individual = \"avg\"\n",
    "                aswmax = -1\n",
    "                groupmax = np.array([1])\n",
    "                print(m.shape[1]+4)\n",
    "                for i in range(m.shape[1]):\n",
    "                    print(i)\n",
    "                    try:\n",
    "                        groups = m[:, i]\n",
    "                    except:\n",
    "                        return m,i\n",
    "\n",
    "                    if n > 1:\n",
    "                        res_asw = asw_cluster(data, groups, maxgroups, D, individual, usesghomo=usesghomo, weights=weights, by_attr=by_attr)\n",
    "                    else:\n",
    "                        res_asw = np.array([-1, 1])\n",
    "\n",
    "                    g = reord_groups(res_asw[1:])\n",
    "                    try:\n",
    "                        asw = np.append(asw, [round(res_asw[0], 8)])\n",
    "                    except: return asw, res_asw, i\n",
    "\n",
    "                    groups_x = g\n",
    "                    if asw[i] >= aswmax:\n",
    "                        print(aswmax)\n",
    "                        if asw[i] == aswmax:\n",
    "                            if len(np.unique(g)) < len(np.unique(groupmax)):\n",
    "                                aswmax = asw[i]\n",
    "                                groupmax = g\n",
    "                                ng = len(np.unique(groupmax))\n",
    "                                max_i = i\n",
    "                                max_method = methods[i]\n",
    "                            else:\n",
    "                                if len(np.unique(g)) == len(np.unique(groupmax)):\n",
    "                                    # return max_method, methods, i\n",
    "                                    try:\n",
    "                                        max_method = np.unique([max_method[0], methods[i]])\n",
    "                                    except:\n",
    "                                        return max_method, methods, i\n",
    "                        else:\n",
    "                            aswmax = asw[i]\n",
    "                            groupmax = g\n",
    "                            ng = len(np.unique(groupmax))\n",
    "                            max_i = i\n",
    "                            max_method = methods[i]\n",
    "                    method = methods[i]\n",
    "                    print(methods)\n",
    "                    print('### method {}'.format(method))\n",
    "                    if not quiet:\n",
    "                        print(f\"Attempt {i} Method: {method} Asw: {asw[i]} Groups: {m[:, i]} --> {g}\")\n",
    "\n",
    "                if not quiet:\n",
    "                    print(f\"Groups: {groupmax} ASW: {aswmax} #groups: {ng} method: {max_method}\")\n",
    "\n",
    "                if individual == \"avg\":\n",
    "                    if by_attr:\n",
    "                        pass\n",
    "                        # sil = silhouette_width_by_attr(D, groupmax, individual=individual, usesghomo=usesghomo, weights=weights)\n",
    "                    else:\n",
    "                        sil = silhouette_width(D, groupmax, individual=individual, usesghomo=usesghomo)\n",
    "\n",
    "                    num_sg = len(np.unique(groupmax))\n",
    "                    mbr = individual\n",
    "                    subgroups = np.vstack([subgroups, groupmax])\n",
    "                    adjm_all = np.nan\n",
    "                else:\n",
    "                    sil[individual] = aswmax\n",
    "                    num_sg[individual] = len(np.unique(groupmax))\n",
    "                    mbr[individual] = individual\n",
    "                    adjm_individual = (groupmax[:, None] @ groupmax[None, :] == groupmax[:, None]**2) * 1\n",
    "                    subgroups = np.vstack([subgroups, groupmax])\n",
    "                    adjm_all += adjm_individual\n",
    "\n",
    "                if i_steps == \"avg\":\n",
    "                    break\n",
    "            adjm_all /= n\n",
    "\n",
    "        else:  # Individual mode\n",
    "            gmat = ingroups_ind(D, D, D, data, usesghomo=usesghomo, weights=weights, by_attr=by_attr)\n",
    "            sil = []\n",
    "            if n > 2:\n",
    "                for focal in range(n):\n",
    "                    groupmax = gmat[focal, :]\n",
    "                    # sil_focal = silhouette_width_by_attr(D, groupmax, usesghomo=usesghomo, weights=weights)[focal] if by_attr else silhouette_width(D, groupmax, usesghomo=usesghomo)[focal]\n",
    "                    sil_focal = silhouette_width(D, groupmax, usesghomo=usesghomo)[focal]\n",
    "                    sil.append(sil_focal)\n",
    "\n",
    "                    num_sg[focal] = len(np.unique(groupmax))\n",
    "                    mbr[focal] = focal + 1\n",
    "                    adjm_individual = (groupmax[:, None] @ groupmax[None, :] == groupmax[:, None]**2) * 1\n",
    "                    adjm_all += adjm_individual\n",
    "\n",
    "                adjm_all /= n\n",
    "                aswmax = 0\n",
    "                subgroups = gmat\n",
    "            else:\n",
    "                aswmax = 0\n",
    "                sil = np.zeros(n)\n",
    "                subgroups = np.ones(n)\n",
    "                num_sg = 1\n",
    "                mbr = 1\n",
    "                adjm_all = np.zeros((n, n))\n",
    "\n",
    "    else:  # All persons are identical in all attributes\n",
    "        aswmax = 0\n",
    "        sil = np.zeros(n)\n",
    "        subgroups = np.ones(n) if i_level else np.array([1] * n)\n",
    "        num_sg = 1\n",
    "        mbr = 1\n",
    "        adjm_all = np.zeros((n, n))\n",
    "\n",
    "    return {\n",
    "        \"asw\": np.mean(sil),\n",
    "        \"sil\": sil,\n",
    "        \"groups\": subgroups,\n",
    "        \"num_sg\": num_sg,\n",
    "        \"mbr\": mbr,\n",
    "        \"adjm\": adjm_all\n",
    "    }\n",
    "\n"
   ]
  },
  {
   "cell_type": "code",
   "execution_count": 225,
   "metadata": {},
   "outputs": [
    {
     "data": {
      "text/plain": [
       "array([ 1,  2,  3,  4,  5,  6,  7,  8,  9, 10, 11, 12])"
      ]
     },
     "execution_count": 225,
     "metadata": {},
     "output_type": "execute_result"
    }
   ],
   "source": [
    "np.array(groups)"
   ]
  },
  {
   "cell_type": "code",
   "execution_count": 345,
   "metadata": {},
   "outputs": [
    {
     "name": "stdout",
     "output_type": "stream",
     "text": [
      "11\n",
      "0\n",
      "[2. 1. 1. 1. 1. 1. 1. 1. 1. 1. 1. 1.]\n",
      "[1. 2. 1. 1. 1. 1. 1. 1. 1. 1. 1. 1.]\n",
      "[1. 1. 2. 1. 1. 1. 1. 1. 1. 1. 1. 1.]\n",
      "[1. 1. 1. 2. 1. 1. 1. 1. 1. 1. 1. 1.]\n",
      "[1. 1. 1. 1. 2. 1. 1. 1. 1. 1. 1. 1.]\n",
      "[1. 1. 1. 1. 1. 2. 1. 1. 1. 1. 1. 1.]\n",
      "[1. 1. 1. 1. 1. 1. 2. 1. 1. 1. 1. 1.]\n",
      "[1. 1. 1. 1. 1. 1. 1. 2. 1. 1. 1. 1.]\n",
      "[1. 1. 1. 1. 1. 1. 1. 1. 2. 1. 1. 1.]\n",
      "[1. 1. 1. 1. 1. 1. 1. 1. 1. 2. 1. 1.]\n",
      "[1. 1. 1. 1. 1. 1. 1. 1. 1. 1. 2. 1.]\n",
      "[1. 1. 1. 1. 1. 1. 1. 1. 1. 1. 1. 2.]\n",
      "[2. 2. 1. 1. 1. 1. 1. 1. 1. 1. 1. 1.]\n",
      "[1. 2. 2. 1. 1. 1. 1. 1. 1. 1. 1. 1.]\n",
      "[1. 2. 1. 2. 1. 1. 1. 1. 1. 1. 1. 1.]\n",
      "[1. 2. 1. 1. 2. 1. 1. 1. 1. 1. 1. 1.]\n",
      "[1. 2. 1. 1. 1. 2. 1. 1. 1. 1. 1. 1.]\n",
      "[1. 2. 1. 1. 1. 1. 2. 1. 1. 1. 1. 1.]\n",
      "[1. 2. 1. 1. 1. 1. 1. 2. 1. 1. 1. 1.]\n",
      "[1. 2. 1. 1. 1. 1. 1. 1. 2. 1. 1. 1.]\n",
      "[1. 2. 1. 1. 1. 1. 1. 1. 1. 2. 1. 1.]\n",
      "[1. 2. 1. 1. 1. 1. 1. 1. 1. 1. 2. 1.]\n",
      "[1. 2. 1. 1. 1. 1. 1. 1. 1. 1. 1. 2.]\n",
      "[2. 2. 1. 1. 1. 1. 2. 1. 1. 1. 1. 1.]\n",
      "[1. 1. 1. 1. 1. 1. 2. 1. 1. 1. 1. 1.]\n",
      "[1. 2. 2. 1. 1. 1. 2. 1. 1. 1. 1. 1.]\n",
      "[1. 2. 1. 2. 1. 1. 2. 1. 1. 1. 1. 1.]\n",
      "[1. 2. 1. 1. 2. 1. 2. 1. 1. 1. 1. 1.]\n",
      "[1. 2. 1. 1. 1. 2. 2. 1. 1. 1. 1. 1.]\n",
      "[1. 2. 1. 1. 1. 1. 1. 1. 1. 1. 1. 1.]\n",
      "[1. 2. 1. 1. 1. 1. 2. 2. 1. 1. 1. 1.]\n",
      "[1. 2. 1. 1. 1. 1. 2. 1. 2. 1. 1. 1.]\n",
      "[1. 2. 1. 1. 1. 1. 2. 1. 1. 2. 1. 1.]\n",
      "[1. 2. 1. 1. 1. 1. 2. 1. 1. 1. 2. 1.]\n",
      "[1. 2. 1. 1. 1. 1. 2. 1. 1. 1. 1. 2.]\n",
      "[2. 2. 1. 1. 1. 1. 2. 2. 1. 1. 1. 1.]\n",
      "[1. 1. 1. 1. 1. 1. 2. 2. 1. 1. 1. 1.]\n",
      "[1. 2. 2. 1. 1. 1. 2. 2. 1. 1. 1. 1.]\n",
      "[1. 2. 1. 2. 1. 1. 2. 2. 1. 1. 1. 1.]\n",
      "[1. 2. 1. 1. 2. 1. 2. 2. 1. 1. 1. 1.]\n",
      "[1. 2. 1. 1. 1. 2. 2. 2. 1. 1. 1. 1.]\n",
      "[1. 2. 1. 1. 1. 1. 1. 2. 1. 1. 1. 1.]\n",
      "[1. 2. 1. 1. 1. 1. 2. 1. 1. 1. 1. 1.]\n",
      "[1. 2. 1. 1. 1. 1. 2. 2. 2. 1. 1. 1.]\n",
      "[1. 2. 1. 1. 1. 1. 2. 2. 1. 2. 1. 1.]\n",
      "[1. 2. 1. 1. 1. 1. 2. 2. 1. 1. 2. 1.]\n",
      "[1. 2. 1. 1. 1. 1. 2. 2. 1. 1. 1. 2.]\n",
      "-1\n",
      "['constant', 'ward', 'ward', 'ward', 'ward', 'ward', 'average_linkage']\n",
      "### method constant\n",
      "Attempt 0 Method: constant Asw: 0.58063743 Groups: [1. 2. 1. 1. 1. 1. 2. 2. 1. 1. 1. 1.] --> [1. 2. 1. 1. 1. 1. 2. 2. 1. 1. 1. 1.]\n",
      "1\n",
      "[3. 2. 1. 1. 1. 1. 2. 2. 1. 1. 1. 1.]\n",
      "[2. 2. 1. 1. 1. 1. 2. 2. 1. 1. 1. 1.]\n",
      "[1. 3. 1. 1. 1. 1. 2. 2. 1. 1. 1. 1.]\n",
      "[1. 1. 1. 1. 1. 1. 2. 2. 1. 1. 1. 1.]\n",
      "[1. 2. 3. 1. 1. 1. 2. 2. 1. 1. 1. 1.]\n",
      "[1. 2. 2. 1. 1. 1. 2. 2. 1. 1. 1. 1.]\n",
      "[1. 2. 1. 3. 1. 1. 2. 2. 1. 1. 1. 1.]\n",
      "[1. 2. 1. 2. 1. 1. 2. 2. 1. 1. 1. 1.]\n",
      "[1. 2. 1. 1. 3. 1. 2. 2. 1. 1. 1. 1.]\n",
      "[1. 2. 1. 1. 2. 1. 2. 2. 1. 1. 1. 1.]\n",
      "[1. 2. 1. 1. 1. 3. 2. 2. 1. 1. 1. 1.]\n",
      "[1. 2. 1. 1. 1. 2. 2. 2. 1. 1. 1. 1.]\n",
      "[1. 2. 1. 1. 1. 1. 3. 2. 1. 1. 1. 1.]\n",
      "[1. 2. 1. 1. 1. 1. 1. 2. 1. 1. 1. 1.]\n",
      "[1. 2. 1. 1. 1. 1. 2. 3. 1. 1. 1. 1.]\n",
      "[1. 2. 1. 1. 1. 1. 2. 1. 1. 1. 1. 1.]\n",
      "[1. 2. 1. 1. 1. 1. 2. 2. 3. 1. 1. 1.]\n",
      "[1. 2. 1. 1. 1. 1. 2. 2. 2. 1. 1. 1.]\n",
      "[1. 2. 1. 1. 1. 1. 2. 2. 1. 3. 1. 1.]\n",
      "[1. 2. 1. 1. 1. 1. 2. 2. 1. 2. 1. 1.]\n",
      "[1. 2. 1. 1. 1. 1. 2. 2. 1. 1. 3. 1.]\n",
      "[1. 2. 1. 1. 1. 1. 2. 2. 1. 1. 2. 1.]\n",
      "[1. 2. 1. 1. 1. 1. 2. 2. 1. 1. 1. 3.]\n",
      "[1. 2. 1. 1. 1. 1. 2. 2. 1. 1. 1. 2.]\n",
      "[3. 2. 1. 2. 1. 1. 2. 2. 1. 1. 1. 1.]\n",
      "[2. 2. 1. 2. 1. 1. 2. 2. 1. 1. 1. 1.]\n",
      "[1. 3. 1. 2. 1. 1. 2. 2. 1. 1. 1. 1.]\n",
      "[1. 1. 1. 2. 1. 1. 2. 2. 1. 1. 1. 1.]\n",
      "[1. 2. 3. 2. 1. 1. 2. 2. 1. 1. 1. 1.]\n",
      "[1. 2. 2. 2. 1. 1. 2. 2. 1. 1. 1. 1.]\n",
      "[1. 2. 1. 3. 1. 1. 2. 2. 1. 1. 1. 1.]\n",
      "[1. 2. 1. 1. 1. 1. 2. 2. 1. 1. 1. 1.]\n",
      "[1. 2. 1. 2. 3. 1. 2. 2. 1. 1. 1. 1.]\n",
      "[1. 2. 1. 2. 2. 1. 2. 2. 1. 1. 1. 1.]\n",
      "[1. 2. 1. 2. 1. 3. 2. 2. 1. 1. 1. 1.]\n",
      "[1. 2. 1. 2. 1. 2. 2. 2. 1. 1. 1. 1.]\n",
      "[1. 2. 1. 2. 1. 1. 3. 2. 1. 1. 1. 1.]\n",
      "[1. 2. 1. 2. 1. 1. 1. 2. 1. 1. 1. 1.]\n",
      "[1. 2. 1. 2. 1. 1. 2. 3. 1. 1. 1. 1.]\n",
      "[1. 2. 1. 2. 1. 1. 2. 1. 1. 1. 1. 1.]\n",
      "[1. 2. 1. 2. 1. 1. 2. 2. 3. 1. 1. 1.]\n",
      "[1. 2. 1. 2. 1. 1. 2. 2. 2. 1. 1. 1.]\n",
      "[1. 2. 1. 2. 1. 1. 2. 2. 1. 3. 1. 1.]\n",
      "[1. 2. 1. 2. 1. 1. 2. 2. 1. 2. 1. 1.]\n",
      "[1. 2. 1. 2. 1. 1. 2. 2. 1. 1. 3. 1.]\n",
      "[1. 2. 1. 2. 1. 1. 2. 2. 1. 1. 2. 1.]\n",
      "[1. 2. 1. 2. 1. 1. 2. 2. 1. 1. 1. 3.]\n",
      "[1. 2. 1. 2. 1. 1. 2. 2. 1. 1. 1. 2.]\n",
      "[3. 2. 1. 1. 1. 1. 2. 2. 1. 1. 1. 1.]\n",
      "[2. 2. 1. 1. 1. 1. 2. 2. 1. 1. 1. 1.]\n",
      "[1. 3. 1. 1. 1. 1. 2. 2. 1. 1. 1. 1.]\n",
      "[1. 1. 1. 1. 1. 1. 2. 2. 1. 1. 1. 1.]\n",
      "[1. 2. 3. 1. 1. 1. 2. 2. 1. 1. 1. 1.]\n",
      "[1. 2. 2. 1. 1. 1. 2. 2. 1. 1. 1. 1.]\n",
      "[1. 2. 1. 3. 1. 1. 2. 2. 1. 1. 1. 1.]\n",
      "[1. 2. 1. 2. 1. 1. 2. 2. 1. 1. 1. 1.]\n",
      "[1. 2. 1. 1. 3. 1. 2. 2. 1. 1. 1. 1.]\n",
      "[1. 2. 1. 1. 2. 1. 2. 2. 1. 1. 1. 1.]\n",
      "[1. 2. 1. 1. 1. 3. 2. 2. 1. 1. 1. 1.]\n",
      "[1. 2. 1. 1. 1. 2. 2. 2. 1. 1. 1. 1.]\n",
      "[1. 2. 1. 1. 1. 1. 3. 2. 1. 1. 1. 1.]\n",
      "[1. 2. 1. 1. 1. 1. 1. 2. 1. 1. 1. 1.]\n",
      "[1. 2. 1. 1. 1. 1. 2. 3. 1. 1. 1. 1.]\n",
      "[1. 2. 1. 1. 1. 1. 2. 1. 1. 1. 1. 1.]\n",
      "[1. 2. 1. 1. 1. 1. 2. 2. 3. 1. 1. 1.]\n",
      "[1. 2. 1. 1. 1. 1. 2. 2. 2. 1. 1. 1.]\n",
      "[1. 2. 1. 1. 1. 1. 2. 2. 1. 3. 1. 1.]\n",
      "[1. 2. 1. 1. 1. 1. 2. 2. 1. 2. 1. 1.]\n",
      "[1. 2. 1. 1. 1. 1. 2. 2. 1. 1. 3. 1.]\n",
      "[1. 2. 1. 1. 1. 1. 2. 2. 1. 1. 2. 1.]\n",
      "[1. 2. 1. 1. 1. 1. 2. 2. 1. 1. 1. 3.]\n",
      "[1. 2. 1. 1. 1. 1. 2. 2. 1. 1. 1. 2.]\n",
      "0.58063743\n",
      "['constant', 'ward', 'ward', 'ward', 'ward', 'ward', 'average_linkage']\n",
      "### method ward\n",
      "Attempt 1 Method: ward Asw: 0.58063743 Groups: [1. 2. 1. 1. 1. 1. 2. 2. 1. 1. 1. 1.] --> [1. 2. 1. 1. 1. 1. 2. 2. 1. 1. 1. 1.]\n",
      "2\n",
      "[4. 2. 1. 1. 1. 3. 2. 2. 1. 1. 3. 3.]\n",
      "[3. 2. 1. 1. 1. 3. 2. 2. 1. 1. 3. 3.]\n",
      "[2. 2. 1. 1. 1. 3. 2. 2. 1. 1. 3. 3.]\n",
      "[1. 4. 1. 1. 1. 3. 2. 2. 1. 1. 3. 3.]\n",
      "[1. 3. 1. 1. 1. 3. 2. 2. 1. 1. 3. 3.]\n",
      "[1. 1. 1. 1. 1. 3. 2. 2. 1. 1. 3. 3.]\n",
      "[1. 2. 4. 1. 1. 3. 2. 2. 1. 1. 3. 3.]\n",
      "[1. 2. 3. 1. 1. 3. 2. 2. 1. 1. 3. 3.]\n",
      "[1. 2. 2. 1. 1. 3. 2. 2. 1. 1. 3. 3.]\n",
      "[1. 2. 1. 4. 1. 3. 2. 2. 1. 1. 3. 3.]\n",
      "[1. 2. 1. 3. 1. 3. 2. 2. 1. 1. 3. 3.]\n",
      "[1. 2. 1. 2. 1. 3. 2. 2. 1. 1. 3. 3.]\n",
      "[1. 2. 1. 1. 4. 3. 2. 2. 1. 1. 3. 3.]\n",
      "[1. 2. 1. 1. 3. 3. 2. 2. 1. 1. 3. 3.]\n",
      "[1. 2. 1. 1. 2. 3. 2. 2. 1. 1. 3. 3.]\n",
      "[1. 2. 1. 1. 1. 4. 2. 2. 1. 1. 3. 3.]\n",
      "[1. 2. 1. 1. 1. 2. 2. 2. 1. 1. 3. 3.]\n",
      "[1. 2. 1. 1. 1. 1. 2. 2. 1. 1. 3. 3.]\n",
      "[1. 2. 1. 1. 1. 3. 4. 2. 1. 1. 3. 3.]\n",
      "[1. 2. 1. 1. 1. 3. 3. 2. 1. 1. 3. 3.]\n",
      "[1. 2. 1. 1. 1. 3. 1. 2. 1. 1. 3. 3.]\n",
      "[1. 2. 1. 1. 1. 3. 2. 4. 1. 1. 3. 3.]\n",
      "[1. 2. 1. 1. 1. 3. 2. 3. 1. 1. 3. 3.]\n",
      "[1. 2. 1. 1. 1. 3. 2. 1. 1. 1. 3. 3.]\n",
      "[1. 2. 1. 1. 1. 3. 2. 2. 4. 1. 3. 3.]\n",
      "[1. 2. 1. 1. 1. 3. 2. 2. 3. 1. 3. 3.]\n",
      "[1. 2. 1. 1. 1. 3. 2. 2. 2. 1. 3. 3.]\n",
      "[1. 2. 1. 1. 1. 3. 2. 2. 1. 4. 3. 3.]\n",
      "[1. 2. 1. 1. 1. 3. 2. 2. 1. 3. 3. 3.]\n",
      "[1. 2. 1. 1. 1. 3. 2. 2. 1. 2. 3. 3.]\n",
      "[1. 2. 1. 1. 1. 3. 2. 2. 1. 1. 4. 3.]\n",
      "[1. 2. 1. 1. 1. 3. 2. 2. 1. 1. 2. 3.]\n",
      "[1. 2. 1. 1. 1. 3. 2. 2. 1. 1. 1. 3.]\n",
      "[1. 2. 1. 1. 1. 3. 2. 2. 1. 1. 3. 4.]\n",
      "[1. 2. 1. 1. 1. 3. 2. 2. 1. 1. 3. 2.]\n",
      "[1. 2. 1. 1. 1. 3. 2. 2. 1. 1. 3. 1.]\n",
      "['constant', 'ward', 'ward', 'ward', 'ward', 'ward', 'average_linkage']\n",
      "### method ward\n",
      "Attempt 2 Method: ward Asw: 0.53939847 Groups: [1. 2. 1. 1. 1. 3. 2. 2. 1. 1. 3. 3.] --> [1. 2. 1. 1. 1. 3. 2. 2. 1. 1. 3. 3.]\n",
      "3\n",
      "[5. 2. 1. 3. 3. 4. 2. 2. 1. 1. 4. 4.]\n",
      "[4. 2. 1. 3. 3. 4. 2. 2. 1. 1. 4. 4.]\n",
      "[3. 2. 1. 3. 3. 4. 2. 2. 1. 1. 4. 4.]\n",
      "[2. 2. 1. 3. 3. 4. 2. 2. 1. 1. 4. 4.]\n",
      "[1. 5. 1. 3. 3. 4. 2. 2. 1. 1. 4. 4.]\n",
      "[1. 4. 1. 3. 3. 4. 2. 2. 1. 1. 4. 4.]\n",
      "[1. 3. 1. 3. 3. 4. 2. 2. 1. 1. 4. 4.]\n",
      "[1. 1. 1. 3. 3. 4. 2. 2. 1. 1. 4. 4.]\n",
      "[1. 2. 5. 3. 3. 4. 2. 2. 1. 1. 4. 4.]\n",
      "[1. 2. 4. 3. 3. 4. 2. 2. 1. 1. 4. 4.]\n",
      "[1. 2. 3. 3. 3. 4. 2. 2. 1. 1. 4. 4.]\n",
      "[1. 2. 2. 3. 3. 4. 2. 2. 1. 1. 4. 4.]\n",
      "[1. 2. 1. 5. 3. 4. 2. 2. 1. 1. 4. 4.]\n",
      "[1. 2. 1. 4. 3. 4. 2. 2. 1. 1. 4. 4.]\n",
      "[1. 2. 1. 2. 3. 4. 2. 2. 1. 1. 4. 4.]\n",
      "[1. 2. 1. 1. 3. 4. 2. 2. 1. 1. 4. 4.]\n",
      "[1. 2. 1. 3. 5. 4. 2. 2. 1. 1. 4. 4.]\n",
      "[1. 2. 1. 3. 4. 4. 2. 2. 1. 1. 4. 4.]\n",
      "[1. 2. 1. 3. 2. 4. 2. 2. 1. 1. 4. 4.]\n",
      "[1. 2. 1. 3. 1. 4. 2. 2. 1. 1. 4. 4.]\n",
      "[1. 2. 1. 3. 3. 5. 2. 2. 1. 1. 4. 4.]\n",
      "[1. 2. 1. 3. 3. 3. 2. 2. 1. 1. 4. 4.]\n",
      "[1. 2. 1. 3. 3. 2. 2. 2. 1. 1. 4. 4.]\n",
      "[1. 2. 1. 3. 3. 1. 2. 2. 1. 1. 4. 4.]\n",
      "[1. 2. 1. 3. 3. 4. 5. 2. 1. 1. 4. 4.]\n",
      "[1. 2. 1. 3. 3. 4. 4. 2. 1. 1. 4. 4.]\n",
      "[1. 2. 1. 3. 3. 4. 3. 2. 1. 1. 4. 4.]\n",
      "[1. 2. 1. 3. 3. 4. 1. 2. 1. 1. 4. 4.]\n",
      "[1. 2. 1. 3. 3. 4. 2. 5. 1. 1. 4. 4.]\n",
      "[1. 2. 1. 3. 3. 4. 2. 4. 1. 1. 4. 4.]\n",
      "[1. 2. 1. 3. 3. 4. 2. 3. 1. 1. 4. 4.]\n",
      "[1. 2. 1. 3. 3. 4. 2. 1. 1. 1. 4. 4.]\n",
      "[1. 2. 1. 3. 3. 4. 2. 2. 5. 1. 4. 4.]\n",
      "[1. 2. 1. 3. 3. 4. 2. 2. 4. 1. 4. 4.]\n",
      "[1. 2. 1. 3. 3. 4. 2. 2. 3. 1. 4. 4.]\n",
      "[1. 2. 1. 3. 3. 4. 2. 2. 2. 1. 4. 4.]\n",
      "[1. 2. 1. 3. 3. 4. 2. 2. 1. 5. 4. 4.]\n",
      "[1. 2. 1. 3. 3. 4. 2. 2. 1. 4. 4. 4.]\n",
      "[1. 2. 1. 3. 3. 4. 2. 2. 1. 3. 4. 4.]\n",
      "[1. 2. 1. 3. 3. 4. 2. 2. 1. 2. 4. 4.]\n",
      "[1. 2. 1. 3. 3. 4. 2. 2. 1. 1. 5. 4.]\n",
      "[1. 2. 1. 3. 3. 4. 2. 2. 1. 1. 3. 4.]\n",
      "[1. 2. 1. 3. 3. 4. 2. 2. 1. 1. 2. 4.]\n",
      "[1. 2. 1. 3. 3. 4. 2. 2. 1. 1. 1. 4.]\n",
      "[1. 2. 1. 3. 3. 4. 2. 2. 1. 1. 4. 5.]\n",
      "[1. 2. 1. 3. 3. 4. 2. 2. 1. 1. 4. 3.]\n",
      "[1. 2. 1. 3. 3. 4. 2. 2. 1. 1. 4. 2.]\n",
      "[1. 2. 1. 3. 3. 4. 2. 2. 1. 1. 4. 1.]\n",
      "[5. 2. 1. 3. 3. 4. 2. 2. 1. 1. 5. 4.]\n",
      "[4. 2. 1. 3. 3. 4. 2. 2. 1. 1. 5. 4.]\n",
      "[3. 2. 1. 3. 3. 4. 2. 2. 1. 1. 5. 4.]\n",
      "[2. 2. 1. 3. 3. 4. 2. 2. 1. 1. 5. 4.]\n",
      "[1. 5. 1. 3. 3. 4. 2. 2. 1. 1. 5. 4.]\n",
      "[1. 4. 1. 3. 3. 4. 2. 2. 1. 1. 5. 4.]\n",
      "[1. 3. 1. 3. 3. 4. 2. 2. 1. 1. 5. 4.]\n",
      "[1. 1. 1. 3. 3. 4. 2. 2. 1. 1. 5. 4.]\n",
      "[1. 2. 5. 3. 3. 4. 2. 2. 1. 1. 5. 4.]\n",
      "[1. 2. 4. 3. 3. 4. 2. 2. 1. 1. 5. 4.]\n",
      "[1. 2. 3. 3. 3. 4. 2. 2. 1. 1. 5. 4.]\n",
      "[1. 2. 2. 3. 3. 4. 2. 2. 1. 1. 5. 4.]\n",
      "[1. 2. 1. 5. 3. 4. 2. 2. 1. 1. 5. 4.]\n",
      "[1. 2. 1. 4. 3. 4. 2. 2. 1. 1. 5. 4.]\n",
      "[1. 2. 1. 2. 3. 4. 2. 2. 1. 1. 5. 4.]\n",
      "[1. 2. 1. 1. 3. 4. 2. 2. 1. 1. 5. 4.]\n",
      "[1. 2. 1. 3. 5. 4. 2. 2. 1. 1. 5. 4.]\n",
      "[1. 2. 1. 3. 4. 4. 2. 2. 1. 1. 5. 4.]\n",
      "[1. 2. 1. 3. 2. 4. 2. 2. 1. 1. 5. 4.]\n",
      "[1. 2. 1. 3. 1. 4. 2. 2. 1. 1. 5. 4.]\n",
      "[1. 2. 1. 3. 3. 5. 2. 2. 1. 1. 5. 4.]\n",
      "[1. 2. 1. 3. 3. 3. 2. 2. 1. 1. 5. 4.]\n",
      "[1. 2. 1. 3. 3. 2. 2. 2. 1. 1. 5. 4.]\n",
      "[1. 2. 1. 3. 3. 1. 2. 2. 1. 1. 5. 4.]\n",
      "[1. 2. 1. 3. 3. 4. 5. 2. 1. 1. 5. 4.]\n",
      "[1. 2. 1. 3. 3. 4. 4. 2. 1. 1. 5. 4.]\n",
      "[1. 2. 1. 3. 3. 4. 3. 2. 1. 1. 5. 4.]\n",
      "[1. 2. 1. 3. 3. 4. 1. 2. 1. 1. 5. 4.]\n",
      "[1. 2. 1. 3. 3. 4. 2. 5. 1. 1. 5. 4.]\n",
      "[1. 2. 1. 3. 3. 4. 2. 4. 1. 1. 5. 4.]\n",
      "[1. 2. 1. 3. 3. 4. 2. 3. 1. 1. 5. 4.]\n",
      "[1. 2. 1. 3. 3. 4. 2. 1. 1. 1. 5. 4.]\n",
      "[1. 2. 1. 3. 3. 4. 2. 2. 5. 1. 5. 4.]\n",
      "[1. 2. 1. 3. 3. 4. 2. 2. 4. 1. 5. 4.]\n",
      "[1. 2. 1. 3. 3. 4. 2. 2. 3. 1. 5. 4.]\n",
      "[1. 2. 1. 3. 3. 4. 2. 2. 2. 1. 5. 4.]\n",
      "[1. 2. 1. 3. 3. 4. 2. 2. 1. 5. 5. 4.]\n",
      "[1. 2. 1. 3. 3. 4. 2. 2. 1. 4. 5. 4.]\n",
      "[1. 2. 1. 3. 3. 4. 2. 2. 1. 3. 5. 4.]\n",
      "[1. 2. 1. 3. 3. 4. 2. 2. 1. 2. 5. 4.]\n",
      "[1. 2. 1. 3. 3. 4. 2. 2. 1. 1. 4. 4.]\n",
      "[1. 2. 1. 3. 3. 4. 2. 2. 1. 1. 3. 4.]\n",
      "[1. 2. 1. 3. 3. 4. 2. 2. 1. 1. 2. 4.]\n",
      "[1. 2. 1. 3. 3. 4. 2. 2. 1. 1. 1. 4.]\n",
      "[1. 2. 1. 3. 3. 4. 2. 2. 1. 1. 5. 5.]\n",
      "[1. 2. 1. 3. 3. 4. 2. 2. 1. 1. 5. 3.]\n",
      "[1. 2. 1. 3. 3. 4. 2. 2. 1. 1. 5. 2.]\n",
      "[1. 2. 1. 3. 3. 4. 2. 2. 1. 1. 5. 1.]\n",
      "[5. 2. 1. 3. 3. 4. 2. 2. 1. 1. 4. 4.]\n",
      "[4. 2. 1. 3. 3. 4. 2. 2. 1. 1. 4. 4.]\n",
      "[3. 2. 1. 3. 3. 4. 2. 2. 1. 1. 4. 4.]\n",
      "[2. 2. 1. 3. 3. 4. 2. 2. 1. 1. 4. 4.]\n",
      "[1. 5. 1. 3. 3. 4. 2. 2. 1. 1. 4. 4.]\n",
      "[1. 4. 1. 3. 3. 4. 2. 2. 1. 1. 4. 4.]\n",
      "[1. 3. 1. 3. 3. 4. 2. 2. 1. 1. 4. 4.]\n",
      "[1. 1. 1. 3. 3. 4. 2. 2. 1. 1. 4. 4.]\n",
      "[1. 2. 5. 3. 3. 4. 2. 2. 1. 1. 4. 4.]\n",
      "[1. 2. 4. 3. 3. 4. 2. 2. 1. 1. 4. 4.]\n",
      "[1. 2. 3. 3. 3. 4. 2. 2. 1. 1. 4. 4.]\n",
      "[1. 2. 2. 3. 3. 4. 2. 2. 1. 1. 4. 4.]\n",
      "[1. 2. 1. 5. 3. 4. 2. 2. 1. 1. 4. 4.]\n",
      "[1. 2. 1. 4. 3. 4. 2. 2. 1. 1. 4. 4.]\n",
      "[1. 2. 1. 2. 3. 4. 2. 2. 1. 1. 4. 4.]\n",
      "[1. 2. 1. 1. 3. 4. 2. 2. 1. 1. 4. 4.]\n",
      "[1. 2. 1. 3. 5. 4. 2. 2. 1. 1. 4. 4.]\n",
      "[1. 2. 1. 3. 4. 4. 2. 2. 1. 1. 4. 4.]\n",
      "[1. 2. 1. 3. 2. 4. 2. 2. 1. 1. 4. 4.]\n",
      "[1. 2. 1. 3. 1. 4. 2. 2. 1. 1. 4. 4.]\n",
      "[1. 2. 1. 3. 3. 5. 2. 2. 1. 1. 4. 4.]\n",
      "[1. 2. 1. 3. 3. 3. 2. 2. 1. 1. 4. 4.]\n",
      "[1. 2. 1. 3. 3. 2. 2. 2. 1. 1. 4. 4.]\n",
      "[1. 2. 1. 3. 3. 1. 2. 2. 1. 1. 4. 4.]\n",
      "[1. 2. 1. 3. 3. 4. 5. 2. 1. 1. 4. 4.]\n",
      "[1. 2. 1. 3. 3. 4. 4. 2. 1. 1. 4. 4.]\n",
      "[1. 2. 1. 3. 3. 4. 3. 2. 1. 1. 4. 4.]\n",
      "[1. 2. 1. 3. 3. 4. 1. 2. 1. 1. 4. 4.]\n",
      "[1. 2. 1. 3. 3. 4. 2. 5. 1. 1. 4. 4.]\n",
      "[1. 2. 1. 3. 3. 4. 2. 4. 1. 1. 4. 4.]\n",
      "[1. 2. 1. 3. 3. 4. 2. 3. 1. 1. 4. 4.]\n",
      "[1. 2. 1. 3. 3. 4. 2. 1. 1. 1. 4. 4.]\n",
      "[1. 2. 1. 3. 3. 4. 2. 2. 5. 1. 4. 4.]\n",
      "[1. 2. 1. 3. 3. 4. 2. 2. 4. 1. 4. 4.]\n",
      "[1. 2. 1. 3. 3. 4. 2. 2. 3. 1. 4. 4.]\n",
      "[1. 2. 1. 3. 3. 4. 2. 2. 2. 1. 4. 4.]\n",
      "[1. 2. 1. 3. 3. 4. 2. 2. 1. 5. 4. 4.]\n",
      "[1. 2. 1. 3. 3. 4. 2. 2. 1. 4. 4. 4.]\n",
      "[1. 2. 1. 3. 3. 4. 2. 2. 1. 3. 4. 4.]\n",
      "[1. 2. 1. 3. 3. 4. 2. 2. 1. 2. 4. 4.]\n",
      "[1. 2. 1. 3. 3. 4. 2. 2. 1. 1. 5. 4.]\n",
      "[1. 2. 1. 3. 3. 4. 2. 2. 1. 1. 3. 4.]\n",
      "[1. 2. 1. 3. 3. 4. 2. 2. 1. 1. 2. 4.]\n",
      "[1. 2. 1. 3. 3. 4. 2. 2. 1. 1. 1. 4.]\n",
      "[1. 2. 1. 3. 3. 4. 2. 2. 1. 1. 4. 5.]\n",
      "[1. 2. 1. 3. 3. 4. 2. 2. 1. 1. 4. 3.]\n",
      "[1. 2. 1. 3. 3. 4. 2. 2. 1. 1. 4. 2.]\n",
      "[1. 2. 1. 3. 3. 4. 2. 2. 1. 1. 4. 1.]\n",
      "0.58063743\n",
      "['constant', 'ward', 'ward', 'ward', 'ward', 'ward', 'average_linkage']\n",
      "### method ward\n",
      "Attempt 3 Method: ward Asw: 0.65279764 Groups: [1. 2. 1. 3. 3. 4. 2. 2. 1. 1. 4. 4.] --> [1. 2. 1. 3. 3. 4. 2. 2. 1. 1. 4. 4.]\n",
      "4\n",
      "[6. 2. 1. 3. 3. 4. 2. 2. 1. 1. 5. 4.]\n",
      "[5. 2. 1. 3. 3. 4. 2. 2. 1. 1. 5. 4.]\n",
      "[4. 2. 1. 3. 3. 4. 2. 2. 1. 1. 5. 4.]\n",
      "[3. 2. 1. 3. 3. 4. 2. 2. 1. 1. 5. 4.]\n",
      "[2. 2. 1. 3. 3. 4. 2. 2. 1. 1. 5. 4.]\n",
      "[1. 6. 1. 3. 3. 4. 2. 2. 1. 1. 5. 4.]\n",
      "[1. 5. 1. 3. 3. 4. 2. 2. 1. 1. 5. 4.]\n",
      "[1. 4. 1. 3. 3. 4. 2. 2. 1. 1. 5. 4.]\n",
      "[1. 3. 1. 3. 3. 4. 2. 2. 1. 1. 5. 4.]\n",
      "[1. 1. 1. 3. 3. 4. 2. 2. 1. 1. 5. 4.]\n",
      "[1. 2. 6. 3. 3. 4. 2. 2. 1. 1. 5. 4.]\n",
      "[1. 2. 5. 3. 3. 4. 2. 2. 1. 1. 5. 4.]\n",
      "[1. 2. 4. 3. 3. 4. 2. 2. 1. 1. 5. 4.]\n",
      "[1. 2. 3. 3. 3. 4. 2. 2. 1. 1. 5. 4.]\n",
      "[1. 2. 2. 3. 3. 4. 2. 2. 1. 1. 5. 4.]\n",
      "[1. 2. 1. 6. 3. 4. 2. 2. 1. 1. 5. 4.]\n",
      "[1. 2. 1. 5. 3. 4. 2. 2. 1. 1. 5. 4.]\n",
      "[1. 2. 1. 4. 3. 4. 2. 2. 1. 1. 5. 4.]\n",
      "[1. 2. 1. 2. 3. 4. 2. 2. 1. 1. 5. 4.]\n",
      "[1. 2. 1. 1. 3. 4. 2. 2. 1. 1. 5. 4.]\n",
      "[1. 2. 1. 3. 6. 4. 2. 2. 1. 1. 5. 4.]\n",
      "[1. 2. 1. 3. 5. 4. 2. 2. 1. 1. 5. 4.]\n",
      "[1. 2. 1. 3. 4. 4. 2. 2. 1. 1. 5. 4.]\n",
      "[1. 2. 1. 3. 2. 4. 2. 2. 1. 1. 5. 4.]\n",
      "[1. 2. 1. 3. 1. 4. 2. 2. 1. 1. 5. 4.]\n",
      "[1. 2. 1. 3. 3. 6. 2. 2. 1. 1. 5. 4.]\n",
      "[1. 2. 1. 3. 3. 5. 2. 2. 1. 1. 5. 4.]\n",
      "[1. 2. 1. 3. 3. 3. 2. 2. 1. 1. 5. 4.]\n",
      "[1. 2. 1. 3. 3. 2. 2. 2. 1. 1. 5. 4.]\n",
      "[1. 2. 1. 3. 3. 1. 2. 2. 1. 1. 5. 4.]\n",
      "[1. 2. 1. 3. 3. 4. 6. 2. 1. 1. 5. 4.]\n",
      "[1. 2. 1. 3. 3. 4. 5. 2. 1. 1. 5. 4.]\n",
      "[1. 2. 1. 3. 3. 4. 4. 2. 1. 1. 5. 4.]\n",
      "[1. 2. 1. 3. 3. 4. 3. 2. 1. 1. 5. 4.]\n",
      "[1. 2. 1. 3. 3. 4. 1. 2. 1. 1. 5. 4.]\n",
      "[1. 2. 1. 3. 3. 4. 2. 6. 1. 1. 5. 4.]\n",
      "[1. 2. 1. 3. 3. 4. 2. 5. 1. 1. 5. 4.]\n",
      "[1. 2. 1. 3. 3. 4. 2. 4. 1. 1. 5. 4.]\n",
      "[1. 2. 1. 3. 3. 4. 2. 3. 1. 1. 5. 4.]\n",
      "[1. 2. 1. 3. 3. 4. 2. 1. 1. 1. 5. 4.]\n",
      "[1. 2. 1. 3. 3. 4. 2. 2. 6. 1. 5. 4.]\n",
      "[1. 2. 1. 3. 3. 4. 2. 2. 5. 1. 5. 4.]\n",
      "[1. 2. 1. 3. 3. 4. 2. 2. 4. 1. 5. 4.]\n",
      "[1. 2. 1. 3. 3. 4. 2. 2. 3. 1. 5. 4.]\n",
      "[1. 2. 1. 3. 3. 4. 2. 2. 2. 1. 5. 4.]\n",
      "[1. 2. 1. 3. 3. 4. 2. 2. 1. 6. 5. 4.]\n",
      "[1. 2. 1. 3. 3. 4. 2. 2. 1. 5. 5. 4.]\n",
      "[1. 2. 1. 3. 3. 4. 2. 2. 1. 4. 5. 4.]\n",
      "[1. 2. 1. 3. 3. 4. 2. 2. 1. 3. 5. 4.]\n",
      "[1. 2. 1. 3. 3. 4. 2. 2. 1. 2. 5. 4.]\n",
      "[1. 2. 1. 3. 3. 4. 2. 2. 1. 1. 6. 4.]\n",
      "[1. 2. 1. 3. 3. 4. 2. 2. 1. 1. 4. 4.]\n",
      "[1. 2. 1. 3. 3. 4. 2. 2. 1. 1. 3. 4.]\n",
      "[1. 2. 1. 3. 3. 4. 2. 2. 1. 1. 2. 4.]\n",
      "[1. 2. 1. 3. 3. 4. 2. 2. 1. 1. 1. 4.]\n",
      "[1. 2. 1. 3. 3. 4. 2. 2. 1. 1. 5. 6.]\n",
      "[1. 2. 1. 3. 3. 4. 2. 2. 1. 1. 5. 5.]\n",
      "[1. 2. 1. 3. 3. 4. 2. 2. 1. 1. 5. 3.]\n",
      "[1. 2. 1. 3. 3. 4. 2. 2. 1. 1. 5. 2.]\n",
      "[1. 2. 1. 3. 3. 4. 2. 2. 1. 1. 5. 1.]\n",
      "[6. 2. 1. 3. 3. 4. 2. 2. 1. 1. 4. 4.]\n",
      "[5. 2. 1. 3. 3. 4. 2. 2. 1. 1. 4. 4.]\n",
      "[4. 2. 1. 3. 3. 4. 2. 2. 1. 1. 4. 4.]\n",
      "[3. 2. 1. 3. 3. 4. 2. 2. 1. 1. 4. 4.]\n",
      "[2. 2. 1. 3. 3. 4. 2. 2. 1. 1. 4. 4.]\n",
      "[1. 6. 1. 3. 3. 4. 2. 2. 1. 1. 4. 4.]\n",
      "[1. 5. 1. 3. 3. 4. 2. 2. 1. 1. 4. 4.]\n",
      "[1. 4. 1. 3. 3. 4. 2. 2. 1. 1. 4. 4.]\n",
      "[1. 3. 1. 3. 3. 4. 2. 2. 1. 1. 4. 4.]\n",
      "[1. 1. 1. 3. 3. 4. 2. 2. 1. 1. 4. 4.]\n",
      "[1. 2. 6. 3. 3. 4. 2. 2. 1. 1. 4. 4.]\n",
      "[1. 2. 5. 3. 3. 4. 2. 2. 1. 1. 4. 4.]\n",
      "[1. 2. 4. 3. 3. 4. 2. 2. 1. 1. 4. 4.]\n",
      "[1. 2. 3. 3. 3. 4. 2. 2. 1. 1. 4. 4.]\n",
      "[1. 2. 2. 3. 3. 4. 2. 2. 1. 1. 4. 4.]\n",
      "[1. 2. 1. 6. 3. 4. 2. 2. 1. 1. 4. 4.]\n",
      "[1. 2. 1. 5. 3. 4. 2. 2. 1. 1. 4. 4.]\n",
      "[1. 2. 1. 4. 3. 4. 2. 2. 1. 1. 4. 4.]\n",
      "[1. 2. 1. 2. 3. 4. 2. 2. 1. 1. 4. 4.]\n",
      "[1. 2. 1. 1. 3. 4. 2. 2. 1. 1. 4. 4.]\n",
      "[1. 2. 1. 3. 6. 4. 2. 2. 1. 1. 4. 4.]\n",
      "[1. 2. 1. 3. 5. 4. 2. 2. 1. 1. 4. 4.]\n",
      "[1. 2. 1. 3. 4. 4. 2. 2. 1. 1. 4. 4.]\n",
      "[1. 2. 1. 3. 2. 4. 2. 2. 1. 1. 4. 4.]\n",
      "[1. 2. 1. 3. 1. 4. 2. 2. 1. 1. 4. 4.]\n",
      "[1. 2. 1. 3. 3. 6. 2. 2. 1. 1. 4. 4.]\n",
      "[1. 2. 1. 3. 3. 5. 2. 2. 1. 1. 4. 4.]\n",
      "[1. 2. 1. 3. 3. 3. 2. 2. 1. 1. 4. 4.]\n",
      "[1. 2. 1. 3. 3. 2. 2. 2. 1. 1. 4. 4.]\n",
      "[1. 2. 1. 3. 3. 1. 2. 2. 1. 1. 4. 4.]\n",
      "[1. 2. 1. 3. 3. 4. 6. 2. 1. 1. 4. 4.]\n",
      "[1. 2. 1. 3. 3. 4. 5. 2. 1. 1. 4. 4.]\n",
      "[1. 2. 1. 3. 3. 4. 4. 2. 1. 1. 4. 4.]\n",
      "[1. 2. 1. 3. 3. 4. 3. 2. 1. 1. 4. 4.]\n",
      "[1. 2. 1. 3. 3. 4. 1. 2. 1. 1. 4. 4.]\n",
      "[1. 2. 1. 3. 3. 4. 2. 6. 1. 1. 4. 4.]\n",
      "[1. 2. 1. 3. 3. 4. 2. 5. 1. 1. 4. 4.]\n",
      "[1. 2. 1. 3. 3. 4. 2. 4. 1. 1. 4. 4.]\n",
      "[1. 2. 1. 3. 3. 4. 2. 3. 1. 1. 4. 4.]\n",
      "[1. 2. 1. 3. 3. 4. 2. 1. 1. 1. 4. 4.]\n",
      "[1. 2. 1. 3. 3. 4. 2. 2. 6. 1. 4. 4.]\n",
      "[1. 2. 1. 3. 3. 4. 2. 2. 5. 1. 4. 4.]\n",
      "[1. 2. 1. 3. 3. 4. 2. 2. 4. 1. 4. 4.]\n",
      "[1. 2. 1. 3. 3. 4. 2. 2. 3. 1. 4. 4.]\n",
      "[1. 2. 1. 3. 3. 4. 2. 2. 2. 1. 4. 4.]\n",
      "[1. 2. 1. 3. 3. 4. 2. 2. 1. 6. 4. 4.]\n",
      "[1. 2. 1. 3. 3. 4. 2. 2. 1. 5. 4. 4.]\n",
      "[1. 2. 1. 3. 3. 4. 2. 2. 1. 4. 4. 4.]\n",
      "[1. 2. 1. 3. 3. 4. 2. 2. 1. 3. 4. 4.]\n",
      "[1. 2. 1. 3. 3. 4. 2. 2. 1. 2. 4. 4.]\n",
      "[1. 2. 1. 3. 3. 4. 2. 2. 1. 1. 6. 4.]\n",
      "[1. 2. 1. 3. 3. 4. 2. 2. 1. 1. 5. 4.]\n",
      "[1. 2. 1. 3. 3. 4. 2. 2. 1. 1. 3. 4.]\n",
      "[1. 2. 1. 3. 3. 4. 2. 2. 1. 1. 2. 4.]\n",
      "[1. 2. 1. 3. 3. 4. 2. 2. 1. 1. 1. 4.]\n",
      "[1. 2. 1. 3. 3. 4. 2. 2. 1. 1. 4. 6.]\n",
      "[1. 2. 1. 3. 3. 4. 2. 2. 1. 1. 4. 5.]\n",
      "[1. 2. 1. 3. 3. 4. 2. 2. 1. 1. 4. 3.]\n",
      "[1. 2. 1. 3. 3. 4. 2. 2. 1. 1. 4. 2.]\n",
      "[1. 2. 1. 3. 3. 4. 2. 2. 1. 1. 4. 1.]\n",
      "0.65279764\n",
      "['constant', 'ward', 'ward', 'ward', 'ward', 'ward', 'average_linkage']\n",
      "### method ward\n",
      "Attempt 4 Method: ward Asw: 0.65279764 Groups: [1. 2. 1. 3. 3. 4. 2. 2. 1. 1. 4. 4.] --> [1. 2. 1. 3. 3. 4. 2. 2. 1. 1. 4. 4.]\n",
      "5\n",
      "[6. 2. 3. 4. 4. 5. 2. 2. 3. 1. 6. 5.]\n",
      "[5. 2. 3. 4. 4. 5. 2. 2. 3. 1. 6. 5.]\n",
      "[4. 2. 3. 4. 4. 5. 2. 2. 3. 1. 6. 5.]\n",
      "[3. 2. 3. 4. 4. 5. 2. 2. 3. 1. 6. 5.]\n",
      "[2. 2. 3. 4. 4. 5. 2. 2. 3. 1. 6. 5.]\n",
      "[1. 6. 3. 4. 4. 5. 2. 2. 3. 1. 6. 5.]\n",
      "[1. 5. 3. 4. 4. 5. 2. 2. 3. 1. 6. 5.]\n",
      "[1. 4. 3. 4. 4. 5. 2. 2. 3. 1. 6. 5.]\n",
      "[1. 3. 3. 4. 4. 5. 2. 2. 3. 1. 6. 5.]\n",
      "[1. 1. 3. 4. 4. 5. 2. 2. 3. 1. 6. 5.]\n",
      "[1. 2. 6. 4. 4. 5. 2. 2. 3. 1. 6. 5.]\n",
      "[1. 2. 5. 4. 4. 5. 2. 2. 3. 1. 6. 5.]\n",
      "[1. 2. 4. 4. 4. 5. 2. 2. 3. 1. 6. 5.]\n",
      "[1. 2. 2. 4. 4. 5. 2. 2. 3. 1. 6. 5.]\n",
      "[1. 2. 1. 4. 4. 5. 2. 2. 3. 1. 6. 5.]\n",
      "[1. 2. 3. 6. 4. 5. 2. 2. 3. 1. 6. 5.]\n",
      "[1. 2. 3. 5. 4. 5. 2. 2. 3. 1. 6. 5.]\n",
      "[1. 2. 3. 3. 4. 5. 2. 2. 3. 1. 6. 5.]\n",
      "[1. 2. 3. 2. 4. 5. 2. 2. 3. 1. 6. 5.]\n",
      "[1. 2. 3. 1. 4. 5. 2. 2. 3. 1. 6. 5.]\n",
      "[1. 2. 3. 4. 6. 5. 2. 2. 3. 1. 6. 5.]\n",
      "[1. 2. 3. 4. 5. 5. 2. 2. 3. 1. 6. 5.]\n",
      "[1. 2. 3. 4. 3. 5. 2. 2. 3. 1. 6. 5.]\n",
      "[1. 2. 3. 4. 2. 5. 2. 2. 3. 1. 6. 5.]\n",
      "[1. 2. 3. 4. 1. 5. 2. 2. 3. 1. 6. 5.]\n",
      "[1. 2. 3. 4. 4. 6. 2. 2. 3. 1. 6. 5.]\n",
      "[1. 2. 3. 4. 4. 4. 2. 2. 3. 1. 6. 5.]\n",
      "[1. 2. 3. 4. 4. 3. 2. 2. 3. 1. 6. 5.]\n",
      "[1. 2. 3. 4. 4. 2. 2. 2. 3. 1. 6. 5.]\n",
      "[1. 2. 3. 4. 4. 1. 2. 2. 3. 1. 6. 5.]\n",
      "[1. 2. 3. 4. 4. 5. 6. 2. 3. 1. 6. 5.]\n",
      "[1. 2. 3. 4. 4. 5. 5. 2. 3. 1. 6. 5.]\n",
      "[1. 2. 3. 4. 4. 5. 4. 2. 3. 1. 6. 5.]\n",
      "[1. 2. 3. 4. 4. 5. 3. 2. 3. 1. 6. 5.]\n",
      "[1. 2. 3. 4. 4. 5. 1. 2. 3. 1. 6. 5.]\n",
      "[1. 2. 3. 4. 4. 5. 2. 6. 3. 1. 6. 5.]\n",
      "[1. 2. 3. 4. 4. 5. 2. 5. 3. 1. 6. 5.]\n",
      "[1. 2. 3. 4. 4. 5. 2. 4. 3. 1. 6. 5.]\n",
      "[1. 2. 3. 4. 4. 5. 2. 3. 3. 1. 6. 5.]\n",
      "[1. 2. 3. 4. 4. 5. 2. 1. 3. 1. 6. 5.]\n",
      "[1. 2. 3. 4. 4. 5. 2. 2. 6. 1. 6. 5.]\n",
      "[1. 2. 3. 4. 4. 5. 2. 2. 5. 1. 6. 5.]\n",
      "[1. 2. 3. 4. 4. 5. 2. 2. 4. 1. 6. 5.]\n",
      "[1. 2. 3. 4. 4. 5. 2. 2. 2. 1. 6. 5.]\n",
      "[1. 2. 3. 4. 4. 5. 2. 2. 1. 1. 6. 5.]\n",
      "[1. 2. 3. 4. 4. 5. 2. 2. 3. 6. 6. 5.]\n",
      "[1. 2. 3. 4. 4. 5. 2. 2. 3. 5. 6. 5.]\n",
      "[1. 2. 3. 4. 4. 5. 2. 2. 3. 4. 6. 5.]\n",
      "[1. 2. 3. 4. 4. 5. 2. 2. 3. 3. 6. 5.]\n",
      "[1. 2. 3. 4. 4. 5. 2. 2. 3. 2. 6. 5.]\n",
      "[1. 2. 3. 4. 4. 5. 2. 2. 3. 1. 5. 5.]\n",
      "[1. 2. 3. 4. 4. 5. 2. 2. 3. 1. 4. 5.]\n",
      "[1. 2. 3. 4. 4. 5. 2. 2. 3. 1. 3. 5.]\n",
      "[1. 2. 3. 4. 4. 5. 2. 2. 3. 1. 2. 5.]\n",
      "[1. 2. 3. 4. 4. 5. 2. 2. 3. 1. 1. 5.]\n",
      "[1. 2. 3. 4. 4. 5. 2. 2. 3. 1. 6. 6.]\n",
      "[1. 2. 3. 4. 4. 5. 2. 2. 3. 1. 6. 4.]\n",
      "[1. 2. 3. 4. 4. 5. 2. 2. 3. 1. 6. 3.]\n",
      "[1. 2. 3. 4. 4. 5. 2. 2. 3. 1. 6. 2.]\n",
      "[1. 2. 3. 4. 4. 5. 2. 2. 3. 1. 6. 1.]\n",
      "[6. 2. 3. 4. 4. 5. 2. 2. 3. 1. 5. 5.]\n",
      "[5. 2. 3. 4. 4. 5. 2. 2. 3. 1. 5. 5.]\n",
      "[4. 2. 3. 4. 4. 5. 2. 2. 3. 1. 5. 5.]\n",
      "[3. 2. 3. 4. 4. 5. 2. 2. 3. 1. 5. 5.]\n",
      "[2. 2. 3. 4. 4. 5. 2. 2. 3. 1. 5. 5.]\n",
      "[1. 6. 3. 4. 4. 5. 2. 2. 3. 1. 5. 5.]\n",
      "[1. 5. 3. 4. 4. 5. 2. 2. 3. 1. 5. 5.]\n",
      "[1. 4. 3. 4. 4. 5. 2. 2. 3. 1. 5. 5.]\n",
      "[1. 3. 3. 4. 4. 5. 2. 2. 3. 1. 5. 5.]\n",
      "[1. 1. 3. 4. 4. 5. 2. 2. 3. 1. 5. 5.]\n",
      "[1. 2. 6. 4. 4. 5. 2. 2. 3. 1. 5. 5.]\n",
      "[1. 2. 5. 4. 4. 5. 2. 2. 3. 1. 5. 5.]\n",
      "[1. 2. 4. 4. 4. 5. 2. 2. 3. 1. 5. 5.]\n",
      "[1. 2. 2. 4. 4. 5. 2. 2. 3. 1. 5. 5.]\n",
      "[1. 2. 1. 4. 4. 5. 2. 2. 3. 1. 5. 5.]\n",
      "[1. 2. 3. 6. 4. 5. 2. 2. 3. 1. 5. 5.]\n",
      "[1. 2. 3. 5. 4. 5. 2. 2. 3. 1. 5. 5.]\n",
      "[1. 2. 3. 3. 4. 5. 2. 2. 3. 1. 5. 5.]\n",
      "[1. 2. 3. 2. 4. 5. 2. 2. 3. 1. 5. 5.]\n",
      "[1. 2. 3. 1. 4. 5. 2. 2. 3. 1. 5. 5.]\n",
      "[1. 2. 3. 4. 6. 5. 2. 2. 3. 1. 5. 5.]\n",
      "[1. 2. 3. 4. 5. 5. 2. 2. 3. 1. 5. 5.]\n",
      "[1. 2. 3. 4. 3. 5. 2. 2. 3. 1. 5. 5.]\n",
      "[1. 2. 3. 4. 2. 5. 2. 2. 3. 1. 5. 5.]\n",
      "[1. 2. 3. 4. 1. 5. 2. 2. 3. 1. 5. 5.]\n",
      "[1. 2. 3. 4. 4. 6. 2. 2. 3. 1. 5. 5.]\n",
      "[1. 2. 3. 4. 4. 4. 2. 2. 3. 1. 5. 5.]\n",
      "[1. 2. 3. 4. 4. 3. 2. 2. 3. 1. 5. 5.]\n",
      "[1. 2. 3. 4. 4. 2. 2. 2. 3. 1. 5. 5.]\n",
      "[1. 2. 3. 4. 4. 1. 2. 2. 3. 1. 5. 5.]\n",
      "[1. 2. 3. 4. 4. 5. 6. 2. 3. 1. 5. 5.]\n",
      "[1. 2. 3. 4. 4. 5. 5. 2. 3. 1. 5. 5.]\n",
      "[1. 2. 3. 4. 4. 5. 4. 2. 3. 1. 5. 5.]\n",
      "[1. 2. 3. 4. 4. 5. 3. 2. 3. 1. 5. 5.]\n",
      "[1. 2. 3. 4. 4. 5. 1. 2. 3. 1. 5. 5.]\n",
      "[1. 2. 3. 4. 4. 5. 2. 6. 3. 1. 5. 5.]\n",
      "[1. 2. 3. 4. 4. 5. 2. 5. 3. 1. 5. 5.]\n",
      "[1. 2. 3. 4. 4. 5. 2. 4. 3. 1. 5. 5.]\n",
      "[1. 2. 3. 4. 4. 5. 2. 3. 3. 1. 5. 5.]\n",
      "[1. 2. 3. 4. 4. 5. 2. 1. 3. 1. 5. 5.]\n",
      "[1. 2. 3. 4. 4. 5. 2. 2. 6. 1. 5. 5.]\n",
      "[1. 2. 3. 4. 4. 5. 2. 2. 5. 1. 5. 5.]\n",
      "[1. 2. 3. 4. 4. 5. 2. 2. 4. 1. 5. 5.]\n",
      "[1. 2. 3. 4. 4. 5. 2. 2. 2. 1. 5. 5.]\n",
      "[1. 2. 3. 4. 4. 5. 2. 2. 1. 1. 5. 5.]\n",
      "[1. 2. 3. 4. 4. 5. 2. 2. 3. 6. 5. 5.]\n",
      "[1. 2. 3. 4. 4. 5. 2. 2. 3. 5. 5. 5.]\n",
      "[1. 2. 3. 4. 4. 5. 2. 2. 3. 4. 5. 5.]\n",
      "[1. 2. 3. 4. 4. 5. 2. 2. 3. 3. 5. 5.]\n",
      "[1. 2. 3. 4. 4. 5. 2. 2. 3. 2. 5. 5.]\n",
      "[1. 2. 3. 4. 4. 5. 2. 2. 3. 1. 6. 5.]\n",
      "[1. 2. 3. 4. 4. 5. 2. 2. 3. 1. 4. 5.]\n",
      "[1. 2. 3. 4. 4. 5. 2. 2. 3. 1. 3. 5.]\n",
      "[1. 2. 3. 4. 4. 5. 2. 2. 3. 1. 2. 5.]\n",
      "[1. 2. 3. 4. 4. 5. 2. 2. 3. 1. 1. 5.]\n",
      "[1. 2. 3. 4. 4. 5. 2. 2. 3. 1. 5. 6.]\n",
      "[1. 2. 3. 4. 4. 5. 2. 2. 3. 1. 5. 4.]\n",
      "[1. 2. 3. 4. 4. 5. 2. 2. 3. 1. 5. 3.]\n",
      "[1. 2. 3. 4. 4. 5. 2. 2. 3. 1. 5. 2.]\n",
      "[1. 2. 3. 4. 4. 5. 2. 2. 3. 1. 5. 1.]\n",
      "[6. 2. 3. 4. 4. 5. 2. 2. 3. 1. 6. 5.]\n",
      "[5. 2. 3. 4. 4. 5. 2. 2. 3. 1. 6. 5.]\n",
      "[4. 2. 3. 4. 4. 5. 2. 2. 3. 1. 6. 5.]\n",
      "[3. 2. 3. 4. 4. 5. 2. 2. 3. 1. 6. 5.]\n",
      "[2. 2. 3. 4. 4. 5. 2. 2. 3. 1. 6. 5.]\n",
      "[1. 6. 3. 4. 4. 5. 2. 2. 3. 1. 6. 5.]\n",
      "[1. 5. 3. 4. 4. 5. 2. 2. 3. 1. 6. 5.]\n",
      "[1. 4. 3. 4. 4. 5. 2. 2. 3. 1. 6. 5.]\n",
      "[1. 3. 3. 4. 4. 5. 2. 2. 3. 1. 6. 5.]\n",
      "[1. 1. 3. 4. 4. 5. 2. 2. 3. 1. 6. 5.]\n",
      "[1. 2. 6. 4. 4. 5. 2. 2. 3. 1. 6. 5.]\n",
      "[1. 2. 5. 4. 4. 5. 2. 2. 3. 1. 6. 5.]\n",
      "[1. 2. 4. 4. 4. 5. 2. 2. 3. 1. 6. 5.]\n",
      "[1. 2. 2. 4. 4. 5. 2. 2. 3. 1. 6. 5.]\n",
      "[1. 2. 1. 4. 4. 5. 2. 2. 3. 1. 6. 5.]\n",
      "[1. 2. 3. 6. 4. 5. 2. 2. 3. 1. 6. 5.]\n",
      "[1. 2. 3. 5. 4. 5. 2. 2. 3. 1. 6. 5.]\n",
      "[1. 2. 3. 3. 4. 5. 2. 2. 3. 1. 6. 5.]\n",
      "[1. 2. 3. 2. 4. 5. 2. 2. 3. 1. 6. 5.]\n",
      "[1. 2. 3. 1. 4. 5. 2. 2. 3. 1. 6. 5.]\n",
      "[1. 2. 3. 4. 6. 5. 2. 2. 3. 1. 6. 5.]\n",
      "[1. 2. 3. 4. 5. 5. 2. 2. 3. 1. 6. 5.]\n",
      "[1. 2. 3. 4. 3. 5. 2. 2. 3. 1. 6. 5.]\n",
      "[1. 2. 3. 4. 2. 5. 2. 2. 3. 1. 6. 5.]\n",
      "[1. 2. 3. 4. 1. 5. 2. 2. 3. 1. 6. 5.]\n",
      "[1. 2. 3. 4. 4. 6. 2. 2. 3. 1. 6. 5.]\n",
      "[1. 2. 3. 4. 4. 4. 2. 2. 3. 1. 6. 5.]\n",
      "[1. 2. 3. 4. 4. 3. 2. 2. 3. 1. 6. 5.]\n",
      "[1. 2. 3. 4. 4. 2. 2. 2. 3. 1. 6. 5.]\n",
      "[1. 2. 3. 4. 4. 1. 2. 2. 3. 1. 6. 5.]\n",
      "[1. 2. 3. 4. 4. 5. 6. 2. 3. 1. 6. 5.]\n",
      "[1. 2. 3. 4. 4. 5. 5. 2. 3. 1. 6. 5.]\n",
      "[1. 2. 3. 4. 4. 5. 4. 2. 3. 1. 6. 5.]\n",
      "[1. 2. 3. 4. 4. 5. 3. 2. 3. 1. 6. 5.]\n",
      "[1. 2. 3. 4. 4. 5. 1. 2. 3. 1. 6. 5.]\n",
      "[1. 2. 3. 4. 4. 5. 2. 6. 3. 1. 6. 5.]\n",
      "[1. 2. 3. 4. 4. 5. 2. 5. 3. 1. 6. 5.]\n",
      "[1. 2. 3. 4. 4. 5. 2. 4. 3. 1. 6. 5.]\n",
      "[1. 2. 3. 4. 4. 5. 2. 3. 3. 1. 6. 5.]\n",
      "[1. 2. 3. 4. 4. 5. 2. 1. 3. 1. 6. 5.]\n",
      "[1. 2. 3. 4. 4. 5. 2. 2. 6. 1. 6. 5.]\n",
      "[1. 2. 3. 4. 4. 5. 2. 2. 5. 1. 6. 5.]\n",
      "[1. 2. 3. 4. 4. 5. 2. 2. 4. 1. 6. 5.]\n",
      "[1. 2. 3. 4. 4. 5. 2. 2. 2. 1. 6. 5.]\n",
      "[1. 2. 3. 4. 4. 5. 2. 2. 1. 1. 6. 5.]\n",
      "[1. 2. 3. 4. 4. 5. 2. 2. 3. 6. 6. 5.]\n",
      "[1. 2. 3. 4. 4. 5. 2. 2. 3. 5. 6. 5.]\n",
      "[1. 2. 3. 4. 4. 5. 2. 2. 3. 4. 6. 5.]\n",
      "[1. 2. 3. 4. 4. 5. 2. 2. 3. 3. 6. 5.]\n",
      "[1. 2. 3. 4. 4. 5. 2. 2. 3. 2. 6. 5.]\n",
      "[1. 2. 3. 4. 4. 5. 2. 2. 3. 1. 5. 5.]\n",
      "[1. 2. 3. 4. 4. 5. 2. 2. 3. 1. 4. 5.]\n",
      "[1. 2. 3. 4. 4. 5. 2. 2. 3. 1. 3. 5.]\n",
      "[1. 2. 3. 4. 4. 5. 2. 2. 3. 1. 2. 5.]\n",
      "[1. 2. 3. 4. 4. 5. 2. 2. 3. 1. 1. 5.]\n",
      "[1. 2. 3. 4. 4. 5. 2. 2. 3. 1. 6. 6.]\n",
      "[1. 2. 3. 4. 4. 5. 2. 2. 3. 1. 6. 4.]\n",
      "[1. 2. 3. 4. 4. 5. 2. 2. 3. 1. 6. 3.]\n",
      "[1. 2. 3. 4. 4. 5. 2. 2. 3. 1. 6. 2.]\n",
      "[1. 2. 3. 4. 4. 5. 2. 2. 3. 1. 6. 1.]\n",
      "['constant', 'ward', 'ward', 'ward', 'ward', 'ward', 'average_linkage']\n",
      "### method ward\n",
      "Attempt 5 Method: ward Asw: 0.5657873 Groups: [1. 2. 3. 4. 4. 5. 2. 2. 3. 1. 6. 5.] --> [1. 2. 3. 4. 4. 5. 2. 2. 3. 1. 6. 5.]\n",
      "6\n",
      "[6. 2. 1. 3. 3. 4. 5. 5. 1. 1. 6. 4.]\n",
      "[5. 2. 1. 3. 3. 4. 5. 5. 1. 1. 6. 4.]\n",
      "[4. 2. 1. 3. 3. 4. 5. 5. 1. 1. 6. 4.]\n",
      "[3. 2. 1. 3. 3. 4. 5. 5. 1. 1. 6. 4.]\n",
      "[2. 2. 1. 3. 3. 4. 5. 5. 1. 1. 6. 4.]\n",
      "[1. 6. 1. 3. 3. 4. 5. 5. 1. 1. 6. 4.]\n",
      "[1. 5. 1. 3. 3. 4. 5. 5. 1. 1. 6. 4.]\n",
      "[1. 4. 1. 3. 3. 4. 5. 5. 1. 1. 6. 4.]\n",
      "[1. 3. 1. 3. 3. 4. 5. 5. 1. 1. 6. 4.]\n",
      "[1. 1. 1. 3. 3. 4. 5. 5. 1. 1. 6. 4.]\n",
      "[1. 2. 6. 3. 3. 4. 5. 5. 1. 1. 6. 4.]\n",
      "[1. 2. 5. 3. 3. 4. 5. 5. 1. 1. 6. 4.]\n",
      "[1. 2. 4. 3. 3. 4. 5. 5. 1. 1. 6. 4.]\n",
      "[1. 2. 3. 3. 3. 4. 5. 5. 1. 1. 6. 4.]\n",
      "[1. 2. 2. 3. 3. 4. 5. 5. 1. 1. 6. 4.]\n",
      "[1. 2. 1. 6. 3. 4. 5. 5. 1. 1. 6. 4.]\n",
      "[1. 2. 1. 5. 3. 4. 5. 5. 1. 1. 6. 4.]\n",
      "[1. 2. 1. 4. 3. 4. 5. 5. 1. 1. 6. 4.]\n",
      "[1. 2. 1. 2. 3. 4. 5. 5. 1. 1. 6. 4.]\n",
      "[1. 2. 1. 1. 3. 4. 5. 5. 1. 1. 6. 4.]\n",
      "[1. 2. 1. 3. 6. 4. 5. 5. 1. 1. 6. 4.]\n",
      "[1. 2. 1. 3. 5. 4. 5. 5. 1. 1. 6. 4.]\n",
      "[1. 2. 1. 3. 4. 4. 5. 5. 1. 1. 6. 4.]\n",
      "[1. 2. 1. 3. 2. 4. 5. 5. 1. 1. 6. 4.]\n",
      "[1. 2. 1. 3. 1. 4. 5. 5. 1. 1. 6. 4.]\n",
      "[1. 2. 1. 3. 3. 6. 5. 5. 1. 1. 6. 4.]\n",
      "[1. 2. 1. 3. 3. 5. 5. 5. 1. 1. 6. 4.]\n",
      "[1. 2. 1. 3. 3. 3. 5. 5. 1. 1. 6. 4.]\n",
      "[1. 2. 1. 3. 3. 2. 5. 5. 1. 1. 6. 4.]\n",
      "[1. 2. 1. 3. 3. 1. 5. 5. 1. 1. 6. 4.]\n",
      "[1. 2. 1. 3. 3. 4. 6. 5. 1. 1. 6. 4.]\n",
      "[1. 2. 1. 3. 3. 4. 4. 5. 1. 1. 6. 4.]\n",
      "[1. 2. 1. 3. 3. 4. 3. 5. 1. 1. 6. 4.]\n",
      "[1. 2. 1. 3. 3. 4. 2. 5. 1. 1. 6. 4.]\n",
      "[1. 2. 1. 3. 3. 4. 1. 5. 1. 1. 6. 4.]\n",
      "[1. 2. 1. 3. 3. 4. 5. 6. 1. 1. 6. 4.]\n",
      "[1. 2. 1. 3. 3. 4. 5. 4. 1. 1. 6. 4.]\n",
      "[1. 2. 1. 3. 3. 4. 5. 3. 1. 1. 6. 4.]\n",
      "[1. 2. 1. 3. 3. 4. 5. 2. 1. 1. 6. 4.]\n",
      "[1. 2. 1. 3. 3. 4. 5. 1. 1. 1. 6. 4.]\n",
      "[1. 2. 1. 3. 3. 4. 5. 5. 6. 1. 6. 4.]\n",
      "[1. 2. 1. 3. 3. 4. 5. 5. 5. 1. 6. 4.]\n",
      "[1. 2. 1. 3. 3. 4. 5. 5. 4. 1. 6. 4.]\n",
      "[1. 2. 1. 3. 3. 4. 5. 5. 3. 1. 6. 4.]\n",
      "[1. 2. 1. 3. 3. 4. 5. 5. 2. 1. 6. 4.]\n",
      "[1. 2. 1. 3. 3. 4. 5. 5. 1. 6. 6. 4.]\n",
      "[1. 2. 1. 3. 3. 4. 5. 5. 1. 5. 6. 4.]\n",
      "[1. 2. 1. 3. 3. 4. 5. 5. 1. 4. 6. 4.]\n",
      "[1. 2. 1. 3. 3. 4. 5. 5. 1. 3. 6. 4.]\n",
      "[1. 2. 1. 3. 3. 4. 5. 5. 1. 2. 6. 4.]\n",
      "[1. 2. 1. 3. 3. 4. 5. 5. 1. 1. 5. 4.]\n",
      "[1. 2. 1. 3. 3. 4. 5. 5. 1. 1. 4. 4.]\n",
      "[1. 2. 1. 3. 3. 4. 5. 5. 1. 1. 3. 4.]\n",
      "[1. 2. 1. 3. 3. 4. 5. 5. 1. 1. 2. 4.]\n",
      "[1. 2. 1. 3. 3. 4. 5. 5. 1. 1. 1. 4.]\n",
      "[1. 2. 1. 3. 3. 4. 5. 5. 1. 1. 6. 6.]\n",
      "[1. 2. 1. 3. 3. 4. 5. 5. 1. 1. 6. 5.]\n",
      "[1. 2. 1. 3. 3. 4. 5. 5. 1. 1. 6. 3.]\n",
      "[1. 2. 1. 3. 3. 4. 5. 5. 1. 1. 6. 2.]\n",
      "[1. 2. 1. 3. 3. 4. 5. 5. 1. 1. 6. 1.]\n",
      "[6. 5. 1. 3. 3. 4. 5. 5. 1. 1. 6. 4.]\n",
      "[5. 5. 1. 3. 3. 4. 5. 5. 1. 1. 6. 4.]\n",
      "[4. 5. 1. 3. 3. 4. 5. 5. 1. 1. 6. 4.]\n",
      "[3. 5. 1. 3. 3. 4. 5. 5. 1. 1. 6. 4.]\n",
      "[2. 5. 1. 3. 3. 4. 5. 5. 1. 1. 6. 4.]\n",
      "[1. 6. 1. 3. 3. 4. 5. 5. 1. 1. 6. 4.]\n",
      "[1. 4. 1. 3. 3. 4. 5. 5. 1. 1. 6. 4.]\n",
      "[1. 3. 1. 3. 3. 4. 5. 5. 1. 1. 6. 4.]\n",
      "[1. 2. 1. 3. 3. 4. 5. 5. 1. 1. 6. 4.]\n",
      "[1. 1. 1. 3. 3. 4. 5. 5. 1. 1. 6. 4.]\n",
      "[1. 5. 6. 3. 3. 4. 5. 5. 1. 1. 6. 4.]\n",
      "[1. 5. 5. 3. 3. 4. 5. 5. 1. 1. 6. 4.]\n",
      "[1. 5. 4. 3. 3. 4. 5. 5. 1. 1. 6. 4.]\n",
      "[1. 5. 3. 3. 3. 4. 5. 5. 1. 1. 6. 4.]\n",
      "[1. 5. 2. 3. 3. 4. 5. 5. 1. 1. 6. 4.]\n",
      "[1. 5. 1. 6. 3. 4. 5. 5. 1. 1. 6. 4.]\n",
      "[1. 5. 1. 5. 3. 4. 5. 5. 1. 1. 6. 4.]\n",
      "[1. 5. 1. 4. 3. 4. 5. 5. 1. 1. 6. 4.]\n",
      "[1. 5. 1. 2. 3. 4. 5. 5. 1. 1. 6. 4.]\n",
      "[1. 5. 1. 1. 3. 4. 5. 5. 1. 1. 6. 4.]\n",
      "[1. 5. 1. 3. 6. 4. 5. 5. 1. 1. 6. 4.]\n",
      "[1. 5. 1. 3. 5. 4. 5. 5. 1. 1. 6. 4.]\n",
      "[1. 5. 1. 3. 4. 4. 5. 5. 1. 1. 6. 4.]\n",
      "[1. 5. 1. 3. 2. 4. 5. 5. 1. 1. 6. 4.]\n",
      "[1. 5. 1. 3. 1. 4. 5. 5. 1. 1. 6. 4.]\n",
      "[1. 5. 1. 3. 3. 6. 5. 5. 1. 1. 6. 4.]\n",
      "[1. 5. 1. 3. 3. 5. 5. 5. 1. 1. 6. 4.]\n",
      "[1. 5. 1. 3. 3. 3. 5. 5. 1. 1. 6. 4.]\n",
      "[1. 5. 1. 3. 3. 2. 5. 5. 1. 1. 6. 4.]\n",
      "[1. 5. 1. 3. 3. 1. 5. 5. 1. 1. 6. 4.]\n",
      "[1. 5. 1. 3. 3. 4. 6. 5. 1. 1. 6. 4.]\n",
      "[1. 5. 1. 3. 3. 4. 4. 5. 1. 1. 6. 4.]\n",
      "[1. 5. 1. 3. 3. 4. 3. 5. 1. 1. 6. 4.]\n",
      "[1. 5. 1. 3. 3. 4. 2. 5. 1. 1. 6. 4.]\n",
      "[1. 5. 1. 3. 3. 4. 1. 5. 1. 1. 6. 4.]\n",
      "[1. 5. 1. 3. 3. 4. 5. 6. 1. 1. 6. 4.]\n",
      "[1. 5. 1. 3. 3. 4. 5. 4. 1. 1. 6. 4.]\n",
      "[1. 5. 1. 3. 3. 4. 5. 3. 1. 1. 6. 4.]\n",
      "[1. 5. 1. 3. 3. 4. 5. 2. 1. 1. 6. 4.]\n",
      "[1. 5. 1. 3. 3. 4. 5. 1. 1. 1. 6. 4.]\n",
      "[1. 5. 1. 3. 3. 4. 5. 5. 6. 1. 6. 4.]\n",
      "[1. 5. 1. 3. 3. 4. 5. 5. 5. 1. 6. 4.]\n",
      "[1. 5. 1. 3. 3. 4. 5. 5. 4. 1. 6. 4.]\n",
      "[1. 5. 1. 3. 3. 4. 5. 5. 3. 1. 6. 4.]\n",
      "[1. 5. 1. 3. 3. 4. 5. 5. 2. 1. 6. 4.]\n",
      "[1. 5. 1. 3. 3. 4. 5. 5. 1. 6. 6. 4.]\n",
      "[1. 5. 1. 3. 3. 4. 5. 5. 1. 5. 6. 4.]\n",
      "[1. 5. 1. 3. 3. 4. 5. 5. 1. 4. 6. 4.]\n",
      "[1. 5. 1. 3. 3. 4. 5. 5. 1. 3. 6. 4.]\n",
      "[1. 5. 1. 3. 3. 4. 5. 5. 1. 2. 6. 4.]\n",
      "[1. 5. 1. 3. 3. 4. 5. 5. 1. 1. 5. 4.]\n",
      "[1. 5. 1. 3. 3. 4. 5. 5. 1. 1. 4. 4.]\n",
      "[1. 5. 1. 3. 3. 4. 5. 5. 1. 1. 3. 4.]\n",
      "[1. 5. 1. 3. 3. 4. 5. 5. 1. 1. 2. 4.]\n",
      "[1. 5. 1. 3. 3. 4. 5. 5. 1. 1. 1. 4.]\n",
      "[1. 5. 1. 3. 3. 4. 5. 5. 1. 1. 6. 6.]\n",
      "[1. 5. 1. 3. 3. 4. 5. 5. 1. 1. 6. 5.]\n",
      "[1. 5. 1. 3. 3. 4. 5. 5. 1. 1. 6. 3.]\n",
      "[1. 5. 1. 3. 3. 4. 5. 5. 1. 1. 6. 2.]\n",
      "[1. 5. 1. 3. 3. 4. 5. 5. 1. 1. 6. 1.]\n",
      "[6. 5. 1. 3. 3. 4. 5. 5. 1. 1. 4. 4.]\n",
      "[5. 5. 1. 3. 3. 4. 5. 5. 1. 1. 4. 4.]\n",
      "[4. 5. 1. 3. 3. 4. 5. 5. 1. 1. 4. 4.]\n",
      "[3. 5. 1. 3. 3. 4. 5. 5. 1. 1. 4. 4.]\n",
      "[2. 5. 1. 3. 3. 4. 5. 5. 1. 1. 4. 4.]\n",
      "[1. 6. 1. 3. 3. 4. 5. 5. 1. 1. 4. 4.]\n",
      "[1. 4. 1. 3. 3. 4. 5. 5. 1. 1. 4. 4.]\n",
      "[1. 3. 1. 3. 3. 4. 5. 5. 1. 1. 4. 4.]\n",
      "[1. 2. 1. 3. 3. 4. 5. 5. 1. 1. 4. 4.]\n",
      "[1. 1. 1. 3. 3. 4. 5. 5. 1. 1. 4. 4.]\n",
      "[1. 5. 6. 3. 3. 4. 5. 5. 1. 1. 4. 4.]\n",
      "[1. 5. 5. 3. 3. 4. 5. 5. 1. 1. 4. 4.]\n",
      "[1. 5. 4. 3. 3. 4. 5. 5. 1. 1. 4. 4.]\n",
      "[1. 5. 3. 3. 3. 4. 5. 5. 1. 1. 4. 4.]\n",
      "[1. 5. 2. 3. 3. 4. 5. 5. 1. 1. 4. 4.]\n",
      "[1. 5. 1. 6. 3. 4. 5. 5. 1. 1. 4. 4.]\n",
      "[1. 5. 1. 5. 3. 4. 5. 5. 1. 1. 4. 4.]\n",
      "[1. 5. 1. 4. 3. 4. 5. 5. 1. 1. 4. 4.]\n",
      "[1. 5. 1. 2. 3. 4. 5. 5. 1. 1. 4. 4.]\n",
      "[1. 5. 1. 1. 3. 4. 5. 5. 1. 1. 4. 4.]\n",
      "[1. 5. 1. 3. 6. 4. 5. 5. 1. 1. 4. 4.]\n",
      "[1. 5. 1. 3. 5. 4. 5. 5. 1. 1. 4. 4.]\n",
      "[1. 5. 1. 3. 4. 4. 5. 5. 1. 1. 4. 4.]\n",
      "[1. 5. 1. 3. 2. 4. 5. 5. 1. 1. 4. 4.]\n",
      "[1. 5. 1. 3. 1. 4. 5. 5. 1. 1. 4. 4.]\n",
      "[1. 5. 1. 3. 3. 6. 5. 5. 1. 1. 4. 4.]\n",
      "[1. 5. 1. 3. 3. 5. 5. 5. 1. 1. 4. 4.]\n",
      "[1. 5. 1. 3. 3. 3. 5. 5. 1. 1. 4. 4.]\n",
      "[1. 5. 1. 3. 3. 2. 5. 5. 1. 1. 4. 4.]\n",
      "[1. 5. 1. 3. 3. 1. 5. 5. 1. 1. 4. 4.]\n",
      "[1. 5. 1. 3. 3. 4. 6. 5. 1. 1. 4. 4.]\n",
      "[1. 5. 1. 3. 3. 4. 4. 5. 1. 1. 4. 4.]\n",
      "[1. 5. 1. 3. 3. 4. 3. 5. 1. 1. 4. 4.]\n",
      "[1. 5. 1. 3. 3. 4. 2. 5. 1. 1. 4. 4.]\n",
      "[1. 5. 1. 3. 3. 4. 1. 5. 1. 1. 4. 4.]\n",
      "[1. 5. 1. 3. 3. 4. 5. 6. 1. 1. 4. 4.]\n",
      "[1. 5. 1. 3. 3. 4. 5. 4. 1. 1. 4. 4.]\n",
      "[1. 5. 1. 3. 3. 4. 5. 3. 1. 1. 4. 4.]\n",
      "[1. 5. 1. 3. 3. 4. 5. 2. 1. 1. 4. 4.]\n",
      "[1. 5. 1. 3. 3. 4. 5. 1. 1. 1. 4. 4.]\n",
      "[1. 5. 1. 3. 3. 4. 5. 5. 6. 1. 4. 4.]\n",
      "[1. 5. 1. 3. 3. 4. 5. 5. 5. 1. 4. 4.]\n",
      "[1. 5. 1. 3. 3. 4. 5. 5. 4. 1. 4. 4.]\n",
      "[1. 5. 1. 3. 3. 4. 5. 5. 3. 1. 4. 4.]\n",
      "[1. 5. 1. 3. 3. 4. 5. 5. 2. 1. 4. 4.]\n",
      "[1. 5. 1. 3. 3. 4. 5. 5. 1. 6. 4. 4.]\n",
      "[1. 5. 1. 3. 3. 4. 5. 5. 1. 5. 4. 4.]\n",
      "[1. 5. 1. 3. 3. 4. 5. 5. 1. 4. 4. 4.]\n",
      "[1. 5. 1. 3. 3. 4. 5. 5. 1. 3. 4. 4.]\n",
      "[1. 5. 1. 3. 3. 4. 5. 5. 1. 2. 4. 4.]\n",
      "[1. 5. 1. 3. 3. 4. 5. 5. 1. 1. 6. 4.]\n",
      "[1. 5. 1. 3. 3. 4. 5. 5. 1. 1. 5. 4.]\n",
      "[1. 5. 1. 3. 3. 4. 5. 5. 1. 1. 3. 4.]\n",
      "[1. 5. 1. 3. 3. 4. 5. 5. 1. 1. 2. 4.]\n",
      "[1. 5. 1. 3. 3. 4. 5. 5. 1. 1. 1. 4.]\n",
      "[1. 5. 1. 3. 3. 4. 5. 5. 1. 1. 4. 6.]\n",
      "[1. 5. 1. 3. 3. 4. 5. 5. 1. 1. 4. 5.]\n",
      "[1. 5. 1. 3. 3. 4. 5. 5. 1. 1. 4. 3.]\n",
      "[1. 5. 1. 3. 3. 4. 5. 5. 1. 1. 4. 2.]\n",
      "[1. 5. 1. 3. 3. 4. 5. 5. 1. 1. 4. 1.]\n",
      "0.65279764\n",
      "['constant', 'ward', 'ward', 'ward', 'ward', 'ward', 'average_linkage']\n",
      "### method average_linkage\n",
      "Attempt 6 Method: average_linkage Asw: 0.65279764 Groups: [1. 5. 1. 3. 3. 4. 5. 5. 1. 1. 4. 4.] --> [1. 2. 1. 3. 3. 4. 2. 2. 1. 1. 4. 4.]\n",
      "Groups: [1. 2. 1. 3. 3. 4. 2. 2. 1. 1. 4. 4.] ASW: 0.65279764 #groups: 4 method: ['average_linkage' 'w']\n"
     ]
    },
    {
     "data": {
      "text/plain": [
       "{'asw': np.float64(0.6527976437863343),\n",
       " 'sil': array([0.55721486, 0.68641691, 0.61622784, 0.83058886, 0.83048142,\n",
       "        0.49640099, 0.76316114, 0.69248919, 0.45956506, 0.71011566,\n",
       "        0.58410879, 0.606801  ]),\n",
       " 'groups': array([[1., 2., 1., 3., 3., 4., 2., 2., 1., 1., 4., 4.]]),\n",
       " 'num_sg': 4,\n",
       " 'mbr': 'avg',\n",
       " 'adjm': nan}"
      ]
     },
     "execution_count": 345,
     "metadata": {},
     "output_type": "execute_result"
    }
   ],
   "source": [
    "clustering_algorithm(data=dummy_df,D=dst,groups=np.array(groups),maxgroups=6)"
   ]
  },
  {
   "cell_type": "code",
   "execution_count": 249,
   "metadata": {},
   "outputs": [
    {
     "name": "stdout",
     "output_type": "stream",
     "text": [
      "11\n",
      "0\n",
      "-1\n",
      "['constant', 'ward', 'ward', 'ward', 'ward', 'ward', 'average_linkage']\n",
      "### method constant\n",
      "Attempt 0 Method: constant Asw: 0.58063743 Groups: [1. 2. 1. 1. 1. 1. 2. 2. 1. 1. 1. 1.] --> [1. 2. 1. 1. 1. 1. 2. 2. 1. 1. 1. 1.]\n",
      "1\n",
      "0.58063743\n",
      "['constant', 'ward', 'ward', 'ward', 'ward', 'ward', 'average_linkage']\n",
      "### method ward\n",
      "Attempt 1 Method: ward Asw: 0.58063743 Groups: [1. 2. 1. 1. 1. 1. 2. 2. 1. 1. 1. 1.] --> [1. 2. 1. 1. 1. 1. 2. 2. 1. 1. 1. 1.]\n",
      "2\n",
      "['constant', 'ward', 'ward', 'ward', 'ward', 'ward', 'average_linkage']\n",
      "### method ward\n",
      "Attempt 2 Method: ward Asw: 0.53939847 Groups: [1. 2. 1. 1. 1. 3. 2. 2. 1. 1. 3. 3.] --> [1. 2. 1. 1. 1. 3. 2. 2. 1. 1. 3. 3.]\n",
      "3\n",
      "0.58063743\n",
      "['constant', 'ward', 'ward', 'ward', 'ward', 'ward', 'average_linkage']\n",
      "### method ward\n",
      "Attempt 3 Method: ward Asw: 0.65279764 Groups: [1. 2. 1. 3. 3. 4. 2. 2. 1. 1. 4. 4.] --> [1. 2. 1. 3. 3. 4. 2. 2. 1. 1. 4. 4.]\n",
      "4\n",
      "0.65279764\n",
      "['constant', 'ward', 'ward', 'ward', 'ward', 'ward', 'average_linkage']\n",
      "### method ward\n",
      "Attempt 4 Method: ward Asw: 0.65279764 Groups: [1. 2. 1. 3. 3. 4. 2. 2. 1. 1. 4. 4.] --> [1. 2. 1. 3. 3. 4. 2. 2. 1. 1. 4. 4.]\n",
      "5\n",
      "['constant', 'ward', 'ward', 'ward', 'ward', 'ward', 'average_linkage']\n",
      "### method ward\n",
      "Attempt 5 Method: ward Asw: 0.5657873 Groups: [1. 2. 3. 4. 4. 5. 2. 2. 3. 1. 6. 5.] --> [1. 2. 3. 4. 4. 5. 2. 2. 3. 1. 6. 5.]\n",
      "6\n",
      "0.65279764\n",
      "['constant', 'ward', 'ward', 'ward', 'ward', 'ward', 'average_linkage']\n",
      "### method average_linkage\n",
      "Attempt 6 Method: average_linkage Asw: 0.65279764 Groups: [1. 5. 1. 3. 3. 4. 5. 5. 1. 1. 4. 4.] --> [1. 2. 1. 3. 3. 4. 2. 2. 1. 1. 4. 4.]\n",
      "Groups: [1. 2. 1. 3. 3. 4. 2. 2. 1. 1. 4. 4.] ASW: 0.65279764 #groups: 4 method: ['average_linkage' 'w']\n"
     ]
    },
    {
     "data": {
      "text/plain": [
       "{'asw': np.float64(0.6527976437863343),\n",
       " 'sil': array([0.55721486, 0.68641691, 0.61622784, 0.83058886, 0.83048142,\n",
       "        0.49640099, 0.76316114, 0.69248919, 0.45956506, 0.71011566,\n",
       "        0.58410879, 0.606801  ]),\n",
       " 'groups': array([[1., 2., 1., 3., 3., 4., 2., 2., 1., 1., 4., 4.]]),\n",
       " 'num_sg': 4,\n",
       " 'mbr': 'avg',\n",
       " 'adjm': nan}"
      ]
     },
     "execution_count": 249,
     "metadata": {},
     "output_type": "execute_result"
    }
   ],
   "source": [
    "clustering_algorithm(data=dummy_df,D=dst,groups=np.array(groups),maxgroups=6)"
   ]
  },
  {
   "cell_type": "code",
   "execution_count": 247,
   "metadata": {},
   "outputs": [
    {
     "data": {
      "text/plain": [
       "array([[1., 1., 1., 1., 1., 1., 1.],\n",
       "       [2., 2., 2., 2., 2., 2., 5.],\n",
       "       [1., 1., 1., 1., 1., 3., 1.],\n",
       "       [1., 1., 1., 3., 3., 4., 3.],\n",
       "       [1., 1., 1., 3., 3., 4., 3.],\n",
       "       [1., 1., 3., 4., 4., 5., 4.],\n",
       "       [2., 2., 2., 2., 2., 2., 5.],\n",
       "       [2., 2., 2., 2., 2., 2., 5.],\n",
       "       [1., 1., 1., 1., 1., 3., 1.],\n",
       "       [1., 1., 1., 1., 1., 1., 1.],\n",
       "       [1., 1., 3., 4., 4., 6., 4.],\n",
       "       [1., 1., 3., 4., 4., 5., 4.]])"
      ]
     },
     "execution_count": 247,
     "metadata": {},
     "output_type": "execute_result"
    }
   ],
   "source": [
    "m"
   ]
  },
  {
   "cell_type": "code",
   "execution_count": 246,
   "metadata": {},
   "outputs": [
    {
     "ename": "IndexError",
     "evalue": "index 7 is out of bounds for axis 1 with size 7",
     "output_type": "error",
     "traceback": [
      "\u001b[0;31m---------------------------------------------------------------------------\u001b[0m",
      "\u001b[0;31mIndexError\u001b[0m                                Traceback (most recent call last)",
      "Cell \u001b[0;32mIn[246], line 1\u001b[0m\n\u001b[0;32m----> 1\u001b[0m \u001b[43mm\u001b[49m\u001b[43m[\u001b[49m\u001b[43m:\u001b[49m\u001b[43m,\u001b[49m\u001b[43m \u001b[49m\u001b[43mi\u001b[49m\u001b[43m]\u001b[49m\n",
      "\u001b[0;31mIndexError\u001b[0m: index 7 is out of bounds for axis 1 with size 7"
     ]
    }
   ],
   "source": [
    "m[:, i]"
   ]
  },
  {
   "cell_type": "code",
   "execution_count": 235,
   "metadata": {},
   "outputs": [
    {
     "data": {
      "text/plain": [
       "(array(['ward'], dtype='<U4'),\n",
       " ['constant', 'ward', 'ward', 'ward', 'ward', 'ward', 'average_linkage'],\n",
       " 6)"
      ]
     },
     "execution_count": 235,
     "metadata": {},
     "output_type": "execute_result"
    }
   ],
   "source": [
    "max_method, methods, i"
   ]
  },
  {
   "cell_type": "code",
   "execution_count": 241,
   "metadata": {},
   "outputs": [
    {
     "data": {
      "text/plain": [
       "array(['average_linkage', 'ward'], dtype='<U15')"
      ]
     },
     "execution_count": 241,
     "metadata": {},
     "output_type": "execute_result"
    }
   ],
   "source": [
    "np.unique([max_method[0], methods[i]])"
   ]
  },
  {
   "cell_type": "code",
   "execution_count": 240,
   "metadata": {},
   "outputs": [
    {
     "data": {
      "text/plain": [
       "[np.str_('ward'), 'average_linkage']"
      ]
     },
     "execution_count": 240,
     "metadata": {},
     "output_type": "execute_result"
    }
   ],
   "source": [
    "[max_method[0], methods[i]]"
   ]
  },
  {
   "cell_type": "code",
   "execution_count": 238,
   "metadata": {},
   "outputs": [
    {
     "data": {
      "text/plain": [
       "'average_linkage'"
      ]
     },
     "execution_count": 238,
     "metadata": {},
     "output_type": "execute_result"
    }
   ],
   "source": [
    "methods[i]"
   ]
  },
  {
   "cell_type": "code",
   "execution_count": 185,
   "metadata": {},
   "outputs": [
    {
     "data": {
      "text/plain": [
       "'ward'"
      ]
     },
     "execution_count": 185,
     "metadata": {},
     "output_type": "execute_result"
    }
   ],
   "source": [
    "methods[i]"
   ]
  },
  {
   "cell_type": "code",
   "execution_count": 186,
   "metadata": {},
   "outputs": [
    {
     "data": {
      "text/plain": [
       "array(['constant', 'ward'], dtype='<U8')"
      ]
     },
     "execution_count": 186,
     "metadata": {},
     "output_type": "execute_result"
    }
   ],
   "source": [
    "np.unique([max_method, methods[i]])"
   ]
  },
  {
   "cell_type": "code",
   "execution_count": 181,
   "metadata": {},
   "outputs": [
    {
     "ename": "TypeError",
     "evalue": "'str' object cannot be interpreted as an integer",
     "output_type": "error",
     "traceback": [
      "\u001b[0;31m---------------------------------------------------------------------------\u001b[0m",
      "\u001b[0;31mTypeError\u001b[0m                                 Traceback (most recent call last)",
      "Cell \u001b[0;32mIn[181], line 1\u001b[0m\n\u001b[0;32m----> 1\u001b[0m \u001b[43mnp\u001b[49m\u001b[38;5;241;43m.\u001b[39;49m\u001b[43mconcatenate\u001b[49m\u001b[43m(\u001b[49m\u001b[43mmax_method\u001b[49m\u001b[43m,\u001b[49m\u001b[43m \u001b[49m\u001b[43mmethods\u001b[49m\u001b[43m[\u001b[49m\u001b[43mi\u001b[49m\u001b[43m]\u001b[49m\u001b[43m)\u001b[49m\n",
      "\u001b[0;31mTypeError\u001b[0m: 'str' object cannot be interpreted as an integer"
     ]
    }
   ],
   "source": [
    "np.concatenate(max_method, methods[i])"
   ]
  },
  {
   "cell_type": "code",
   "execution_count": 109,
   "metadata": {},
   "outputs": [
    {
     "data": {
      "text/plain": [
       "10"
      ]
     },
     "execution_count": 109,
     "metadata": {},
     "output_type": "execute_result"
    }
   ],
   "source": [
    "n_w"
   ]
  },
  {
   "cell_type": "code",
   "execution_count": 162,
   "metadata": {},
   "outputs": [],
   "source": [
    "filtered_columns = np.abs(average_link[:,1:n_w] - ward_x[:,1:n_w]).sum(axis=0)>0"
   ]
  },
  {
   "cell_type": "code",
   "execution_count": 165,
   "metadata": {},
   "outputs": [
    {
     "data": {
      "text/plain": [
       "array([[1, 1],\n",
       "       [2, 2],\n",
       "       [1, 3],\n",
       "       [3, 4],\n",
       "       [3, 4],\n",
       "       [4, 5],\n",
       "       [5, 6],\n",
       "       [5, 6],\n",
       "       [1, 7],\n",
       "       [1, 8],\n",
       "       [6, 9],\n",
       "       [4, 5]])"
      ]
     },
     "execution_count": 165,
     "metadata": {},
     "output_type": "execute_result"
    }
   ],
   "source": [
    "average_link[:,1:n_w][:,filtered_columns]"
   ]
  },
  {
   "cell_type": "code",
   "execution_count": 123,
   "metadata": {},
   "outputs": [
    {
     "ename": "ValueError",
     "evalue": "Item wrong length 11 instead of 12.",
     "output_type": "error",
     "traceback": [
      "\u001b[0;31m---------------------------------------------------------------------------\u001b[0m",
      "\u001b[0;31mValueError\u001b[0m                                Traceback (most recent call last)",
      "\u001b[0;32m/var/folders/9l/1xgvrcy5545b3kwy8sbpb_7h0000gn/T/ipykernel_69756/3963370798.py\u001b[0m in \u001b[0;36m?\u001b[0;34m()\u001b[0m\n\u001b[1;32m     10\u001b[0m \u001b[0;31m# Filter columns where the sum of absolute differences is greater than 0\u001b[0m\u001b[0;34m\u001b[0m\u001b[0;34m\u001b[0m\u001b[0m\n\u001b[1;32m     11\u001b[0m \u001b[0mfiltered_columns\u001b[0m \u001b[0;34m=\u001b[0m \u001b[0mcolumn_sums\u001b[0m \u001b[0;34m>\u001b[0m \u001b[0;36m0\u001b[0m\u001b[0;34m\u001b[0m\u001b[0;34m\u001b[0m\u001b[0m\n\u001b[1;32m     12\u001b[0m \u001b[0;34m\u001b[0m\u001b[0m\n\u001b[1;32m     13\u001b[0m \u001b[0;31m# Create the final DataFrame with only the relevant columns\u001b[0m\u001b[0;34m\u001b[0m\u001b[0;34m\u001b[0m\u001b[0m\n\u001b[0;32m---> 14\u001b[0;31m \u001b[0mresult_df\u001b[0m \u001b[0;34m=\u001b[0m \u001b[0maverage_link_df\u001b[0m\u001b[0;34m.\u001b[0m\u001b[0miloc\u001b[0m\u001b[0;34m[\u001b[0m\u001b[0;34m:\u001b[0m\u001b[0;34m,\u001b[0m \u001b[0;36m1\u001b[0m\u001b[0;34m:\u001b[0m\u001b[0;34m]\u001b[0m\u001b[0;34m[\u001b[0m\u001b[0mfiltered_columns\u001b[0m\u001b[0;34m]\u001b[0m\u001b[0;34m\u001b[0m\u001b[0;34m\u001b[0m\u001b[0m\n\u001b[0m",
      "\u001b[0;32m~/github/faultiness/.venv/lib/python3.12/site-packages/pandas/core/frame.py\u001b[0m in \u001b[0;36m?\u001b[0;34m(self, key)\u001b[0m\n\u001b[1;32m   4089\u001b[0m             \u001b[0;32mreturn\u001b[0m \u001b[0mself\u001b[0m\u001b[0;34m.\u001b[0m\u001b[0mwhere\u001b[0m\u001b[0;34m(\u001b[0m\u001b[0mkey\u001b[0m\u001b[0;34m)\u001b[0m\u001b[0;34m\u001b[0m\u001b[0;34m\u001b[0m\u001b[0m\n\u001b[1;32m   4090\u001b[0m \u001b[0;34m\u001b[0m\u001b[0m\n\u001b[1;32m   4091\u001b[0m         \u001b[0;31m# Do we have a (boolean) 1d indexer?\u001b[0m\u001b[0;34m\u001b[0m\u001b[0;34m\u001b[0m\u001b[0m\n\u001b[1;32m   4092\u001b[0m         \u001b[0;32mif\u001b[0m \u001b[0mcom\u001b[0m\u001b[0;34m.\u001b[0m\u001b[0mis_bool_indexer\u001b[0m\u001b[0;34m(\u001b[0m\u001b[0mkey\u001b[0m\u001b[0;34m)\u001b[0m\u001b[0;34m:\u001b[0m\u001b[0;34m\u001b[0m\u001b[0;34m\u001b[0m\u001b[0m\n\u001b[0;32m-> 4093\u001b[0;31m             \u001b[0;32mreturn\u001b[0m \u001b[0mself\u001b[0m\u001b[0;34m.\u001b[0m\u001b[0m_getitem_bool_array\u001b[0m\u001b[0;34m(\u001b[0m\u001b[0mkey\u001b[0m\u001b[0;34m)\u001b[0m\u001b[0;34m\u001b[0m\u001b[0;34m\u001b[0m\u001b[0m\n\u001b[0m\u001b[1;32m   4094\u001b[0m \u001b[0;34m\u001b[0m\u001b[0m\n\u001b[1;32m   4095\u001b[0m         \u001b[0;31m# We are left with two options: a single key, and a collection of keys,\u001b[0m\u001b[0;34m\u001b[0m\u001b[0;34m\u001b[0m\u001b[0m\n\u001b[1;32m   4096\u001b[0m         \u001b[0;31m# We interpret tuples as collections only for non-MultiIndex\u001b[0m\u001b[0;34m\u001b[0m\u001b[0;34m\u001b[0m\u001b[0m\n",
      "\u001b[0;32m~/github/faultiness/.venv/lib/python3.12/site-packages/pandas/core/frame.py\u001b[0m in \u001b[0;36m?\u001b[0;34m(self, key)\u001b[0m\n\u001b[1;32m   4139\u001b[0m                 \u001b[0mUserWarning\u001b[0m\u001b[0;34m,\u001b[0m\u001b[0;34m\u001b[0m\u001b[0;34m\u001b[0m\u001b[0m\n\u001b[1;32m   4140\u001b[0m                 \u001b[0mstacklevel\u001b[0m\u001b[0;34m=\u001b[0m\u001b[0mfind_stack_level\u001b[0m\u001b[0;34m(\u001b[0m\u001b[0;34m)\u001b[0m\u001b[0;34m,\u001b[0m\u001b[0;34m\u001b[0m\u001b[0;34m\u001b[0m\u001b[0m\n\u001b[1;32m   4141\u001b[0m             \u001b[0;34m)\u001b[0m\u001b[0;34m\u001b[0m\u001b[0;34m\u001b[0m\u001b[0m\n\u001b[1;32m   4142\u001b[0m         \u001b[0;32melif\u001b[0m \u001b[0mlen\u001b[0m\u001b[0;34m(\u001b[0m\u001b[0mkey\u001b[0m\u001b[0;34m)\u001b[0m \u001b[0;34m!=\u001b[0m \u001b[0mlen\u001b[0m\u001b[0;34m(\u001b[0m\u001b[0mself\u001b[0m\u001b[0;34m.\u001b[0m\u001b[0mindex\u001b[0m\u001b[0;34m)\u001b[0m\u001b[0;34m:\u001b[0m\u001b[0;34m\u001b[0m\u001b[0;34m\u001b[0m\u001b[0m\n\u001b[0;32m-> 4143\u001b[0;31m             raise ValueError(\n\u001b[0m\u001b[1;32m   4144\u001b[0m                 \u001b[0;34mf\"\u001b[0m\u001b[0;34mItem wrong length \u001b[0m\u001b[0;34m{\u001b[0m\u001b[0mlen\u001b[0m\u001b[0;34m(\u001b[0m\u001b[0mkey\u001b[0m\u001b[0;34m)\u001b[0m\u001b[0;34m}\u001b[0m\u001b[0;34m instead of \u001b[0m\u001b[0;34m{\u001b[0m\u001b[0mlen\u001b[0m\u001b[0;34m(\u001b[0m\u001b[0mself\u001b[0m\u001b[0;34m.\u001b[0m\u001b[0mindex\u001b[0m\u001b[0;34m)\u001b[0m\u001b[0;34m}\u001b[0m\u001b[0;34m.\u001b[0m\u001b[0;34m\"\u001b[0m\u001b[0;34m\u001b[0m\u001b[0;34m\u001b[0m\u001b[0m\n\u001b[1;32m   4145\u001b[0m             \u001b[0;34m)\u001b[0m\u001b[0;34m\u001b[0m\u001b[0;34m\u001b[0m\u001b[0m\n\u001b[1;32m   4146\u001b[0m \u001b[0;34m\u001b[0m\u001b[0m\n",
      "\u001b[0;31mValueError\u001b[0m: Item wrong length 11 instead of 12."
     ]
    }
   ],
   "source": [
    "average_link_df = pd.DataFrame(average_link)\n",
    "ward_x_df = pd.DataFrame(ward_x)\n",
    "\n",
    "# Calculate the absolute differences\n",
    "abs_diff = np.abs(average_link_df.iloc[:, 1:].values - ward_x_df.iloc[:, 1:].values)\n",
    "\n",
    "# Sum the absolute differences for each column\n",
    "column_sums = abs_diff.sum(axis=0)\n",
    "\n",
    "# Filter columns where the sum of absolute differences is greater than 0\n",
    "filtered_columns = column_sums > 0\n",
    "\n",
    "# Create the final DataFrame with only the relevant columns\n",
    "result_df = average_link_df.iloc[:, 1:][filtered_columns]\n"
   ]
  },
  {
   "cell_type": "code",
   "execution_count": 124,
   "metadata": {},
   "outputs": [
    {
     "ename": "ValueError",
     "evalue": "Item wrong length 11 instead of 12.",
     "output_type": "error",
     "traceback": [
      "\u001b[0;31m---------------------------------------------------------------------------\u001b[0m",
      "\u001b[0;31mValueError\u001b[0m                                Traceback (most recent call last)",
      "\u001b[0;32m/var/folders/9l/1xgvrcy5545b3kwy8sbpb_7h0000gn/T/ipykernel_69756/439196490.py\u001b[0m in \u001b[0;36m?\u001b[0;34m()\u001b[0m\n\u001b[1;32m     42\u001b[0m \u001b[0;31m# Filter columns where the sum of absolute differences is greater than 0\u001b[0m\u001b[0;34m\u001b[0m\u001b[0;34m\u001b[0m\u001b[0m\n\u001b[1;32m     43\u001b[0m \u001b[0mfiltered_columns\u001b[0m \u001b[0;34m=\u001b[0m \u001b[0mcolumn_sums\u001b[0m \u001b[0;34m>\u001b[0m \u001b[0;36m0\u001b[0m\u001b[0;34m\u001b[0m\u001b[0;34m\u001b[0m\u001b[0m\n\u001b[1;32m     44\u001b[0m \u001b[0;34m\u001b[0m\u001b[0m\n\u001b[1;32m     45\u001b[0m \u001b[0;31m# Create the final DataFrame with only the relevant columns\u001b[0m\u001b[0;34m\u001b[0m\u001b[0;34m\u001b[0m\u001b[0m\n\u001b[0;32m---> 46\u001b[0;31m \u001b[0mresult_df\u001b[0m \u001b[0;34m=\u001b[0m \u001b[0maverage_link_df\u001b[0m\u001b[0;34m.\u001b[0m\u001b[0miloc\u001b[0m\u001b[0;34m[\u001b[0m\u001b[0;34m:\u001b[0m\u001b[0;34m,\u001b[0m \u001b[0;36m1\u001b[0m\u001b[0;34m:\u001b[0m\u001b[0;34m]\u001b[0m\u001b[0;34m[\u001b[0m\u001b[0mfiltered_columns\u001b[0m\u001b[0;34m]\u001b[0m\u001b[0;34m\u001b[0m\u001b[0;34m\u001b[0m\u001b[0m\n\u001b[0m\u001b[1;32m     47\u001b[0m \u001b[0;34m\u001b[0m\u001b[0m\n\u001b[1;32m     48\u001b[0m \u001b[0;31m# Display the result\u001b[0m\u001b[0;34m\u001b[0m\u001b[0;34m\u001b[0m\u001b[0m\n\u001b[1;32m     49\u001b[0m \u001b[0mprint\u001b[0m\u001b[0;34m(\u001b[0m\u001b[0mresult_df\u001b[0m\u001b[0;34m)\u001b[0m\u001b[0;34m\u001b[0m\u001b[0;34m\u001b[0m\u001b[0m\n",
      "\u001b[0;32m~/github/faultiness/.venv/lib/python3.12/site-packages/pandas/core/frame.py\u001b[0m in \u001b[0;36m?\u001b[0;34m(self, key)\u001b[0m\n\u001b[1;32m   4089\u001b[0m             \u001b[0;32mreturn\u001b[0m \u001b[0mself\u001b[0m\u001b[0;34m.\u001b[0m\u001b[0mwhere\u001b[0m\u001b[0;34m(\u001b[0m\u001b[0mkey\u001b[0m\u001b[0;34m)\u001b[0m\u001b[0;34m\u001b[0m\u001b[0;34m\u001b[0m\u001b[0m\n\u001b[1;32m   4090\u001b[0m \u001b[0;34m\u001b[0m\u001b[0m\n\u001b[1;32m   4091\u001b[0m         \u001b[0;31m# Do we have a (boolean) 1d indexer?\u001b[0m\u001b[0;34m\u001b[0m\u001b[0;34m\u001b[0m\u001b[0m\n\u001b[1;32m   4092\u001b[0m         \u001b[0;32mif\u001b[0m \u001b[0mcom\u001b[0m\u001b[0;34m.\u001b[0m\u001b[0mis_bool_indexer\u001b[0m\u001b[0;34m(\u001b[0m\u001b[0mkey\u001b[0m\u001b[0;34m)\u001b[0m\u001b[0;34m:\u001b[0m\u001b[0;34m\u001b[0m\u001b[0;34m\u001b[0m\u001b[0m\n\u001b[0;32m-> 4093\u001b[0;31m             \u001b[0;32mreturn\u001b[0m \u001b[0mself\u001b[0m\u001b[0;34m.\u001b[0m\u001b[0m_getitem_bool_array\u001b[0m\u001b[0;34m(\u001b[0m\u001b[0mkey\u001b[0m\u001b[0;34m)\u001b[0m\u001b[0;34m\u001b[0m\u001b[0;34m\u001b[0m\u001b[0m\n\u001b[0m\u001b[1;32m   4094\u001b[0m \u001b[0;34m\u001b[0m\u001b[0m\n\u001b[1;32m   4095\u001b[0m         \u001b[0;31m# We are left with two options: a single key, and a collection of keys,\u001b[0m\u001b[0;34m\u001b[0m\u001b[0;34m\u001b[0m\u001b[0m\n\u001b[1;32m   4096\u001b[0m         \u001b[0;31m# We interpret tuples as collections only for non-MultiIndex\u001b[0m\u001b[0;34m\u001b[0m\u001b[0;34m\u001b[0m\u001b[0m\n",
      "\u001b[0;32m~/github/faultiness/.venv/lib/python3.12/site-packages/pandas/core/frame.py\u001b[0m in \u001b[0;36m?\u001b[0;34m(self, key)\u001b[0m\n\u001b[1;32m   4139\u001b[0m                 \u001b[0mUserWarning\u001b[0m\u001b[0;34m,\u001b[0m\u001b[0;34m\u001b[0m\u001b[0;34m\u001b[0m\u001b[0m\n\u001b[1;32m   4140\u001b[0m                 \u001b[0mstacklevel\u001b[0m\u001b[0;34m=\u001b[0m\u001b[0mfind_stack_level\u001b[0m\u001b[0;34m(\u001b[0m\u001b[0;34m)\u001b[0m\u001b[0;34m,\u001b[0m\u001b[0;34m\u001b[0m\u001b[0;34m\u001b[0m\u001b[0m\n\u001b[1;32m   4141\u001b[0m             \u001b[0;34m)\u001b[0m\u001b[0;34m\u001b[0m\u001b[0;34m\u001b[0m\u001b[0m\n\u001b[1;32m   4142\u001b[0m         \u001b[0;32melif\u001b[0m \u001b[0mlen\u001b[0m\u001b[0;34m(\u001b[0m\u001b[0mkey\u001b[0m\u001b[0;34m)\u001b[0m \u001b[0;34m!=\u001b[0m \u001b[0mlen\u001b[0m\u001b[0;34m(\u001b[0m\u001b[0mself\u001b[0m\u001b[0;34m.\u001b[0m\u001b[0mindex\u001b[0m\u001b[0;34m)\u001b[0m\u001b[0;34m:\u001b[0m\u001b[0;34m\u001b[0m\u001b[0;34m\u001b[0m\u001b[0m\n\u001b[0;32m-> 4143\u001b[0;31m             raise ValueError(\n\u001b[0m\u001b[1;32m   4144\u001b[0m                 \u001b[0;34mf\"\u001b[0m\u001b[0;34mItem wrong length \u001b[0m\u001b[0;34m{\u001b[0m\u001b[0mlen\u001b[0m\u001b[0;34m(\u001b[0m\u001b[0mkey\u001b[0m\u001b[0;34m)\u001b[0m\u001b[0;34m}\u001b[0m\u001b[0;34m instead of \u001b[0m\u001b[0;34m{\u001b[0m\u001b[0mlen\u001b[0m\u001b[0;34m(\u001b[0m\u001b[0mself\u001b[0m\u001b[0;34m.\u001b[0m\u001b[0mindex\u001b[0m\u001b[0;34m)\u001b[0m\u001b[0;34m}\u001b[0m\u001b[0;34m.\u001b[0m\u001b[0;34m\"\u001b[0m\u001b[0;34m\u001b[0m\u001b[0;34m\u001b[0m\u001b[0m\n\u001b[1;32m   4145\u001b[0m             \u001b[0;34m)\u001b[0m\u001b[0;34m\u001b[0m\u001b[0;34m\u001b[0m\u001b[0m\n\u001b[1;32m   4146\u001b[0m \u001b[0;34m\u001b[0m\u001b[0m\n",
      "\u001b[0;31mValueError\u001b[0m: Item wrong length 11 instead of 12."
     ]
    }
   ],
   "source": [
    "# Sample data for average_link and ward_x\n",
    "average_link = np.array([\n",
    "    [1, 1, 1, 1, 1, 1, 1, 1, 1, 1, 1, 1],\n",
    "    [1, 2, 2, 2, 2, 2, 2, 2, 2, 2, 2, 2],\n",
    "    [1, 1, 1, 1, 1, 1, 3, 3, 3, 3, 3, 3],\n",
    "    [1, 1, 1, 3, 3, 3, 4, 4, 4, 4, 4, 4],\n",
    "    [1, 1, 1, 3, 3, 3, 4, 4, 4, 4, 4, 5],\n",
    "    [1, 1, 3, 4, 4, 4, 5, 5, 5, 5, 6, 6],\n",
    "    [1, 2, 2, 2, 2, 5, 6, 6, 6, 6, 7, 7],\n",
    "    [1, 2, 2, 2, 2, 5, 6, 6, 6, 6, 7, 8],\n",
    "    [1, 1, 1, 1, 1, 1, 3, 3, 7, 7, 8, 9],\n",
    "    [1, 1, 1, 1, 1, 1, 1, 7, 8, 8, 9, 10],\n",
    "    [1, 1, 3, 4, 5, 6, 7, 8, 9, 9, 10, 11],\n",
    "    [1, 1, 3, 4, 4, 4, 5, 5, 5, 10, 11, 12]\n",
    "])\n",
    "\n",
    "ward_x = np.array([\n",
    "    [1, 1, 1, 1, 1, 1, 1, 1, 1, 1, 1, 1],\n",
    "    [1, 2, 2, 2, 2, 2, 2, 2, 2, 2, 2, 2],\n",
    "    [1, 1, 1, 1, 1, 3, 3, 3, 3, 3, 3, 3],\n",
    "    [1, 1, 1, 3, 3, 4, 4, 4, 4, 4, 4, 4],\n",
    "    [1, 1, 1, 3, 3, 4, 4, 4, 4, 4, 5, 5],\n",
    "    [1, 1, 3, 4, 4, 5, 5, 5, 5, 5, 6, 6],\n",
    "    [1, 2, 2, 2, 2, 2, 6, 6, 6, 6, 7, 7],\n",
    "    [1, 2, 2, 2, 2, 2, 6, 6, 6, 6, 7, 8],\n",
    "    [1, 1, 1, 1, 1, 3, 3, 3, 3, 7, 8, 9],\n",
    "    [1, 1, 1, 1, 1, 1, 1, 7, 7, 8, 9, 10],\n",
    "    [1, 1, 3, 4, 5, 6, 7, 8, 8, 9, 10, 11],\n",
    "    [1, 1, 3, 4, 4, 5, 5, 5, 9, 10, 11, 12]\n",
    "])\n",
    "\n",
    "# Convert to DataFrame for easier manipulation\n",
    "average_link_df = pd.DataFrame(average_link)\n",
    "ward_x_df = pd.DataFrame(ward_x)\n",
    "\n",
    "# Calculate the absolute differences\n",
    "abs_diff = np.abs(average_link_df.iloc[:, 1:].values - ward_x_df.iloc[:, 1:].values)\n",
    "\n",
    "# Sum the absolute differences for each column (excluding the first column)\n",
    "column_sums = abs_diff.sum(axis=0)\n",
    "\n",
    "# Filter columns where the sum of absolute differences is greater than 0\n",
    "filtered_columns = column_sums > 0\n",
    "\n",
    "# Create the final DataFrame with only the relevant columns\n",
    "result_df = average_link_df.iloc[:, 1:][filtered_columns]\n",
    "\n",
    "# Display the result\n",
    "print(result_df)"
   ]
  },
  {
   "cell_type": "code",
   "execution_count": 151,
   "metadata": {},
   "outputs": [
    {
     "data": {
      "text/plain": [
       "11"
      ]
     },
     "execution_count": 151,
     "metadata": {},
     "output_type": "execute_result"
    }
   ],
   "source": [
    "len(filtered_columns)"
   ]
  },
  {
   "cell_type": "code",
   "execution_count": 154,
   "metadata": {},
   "outputs": [],
   "source": [
    "test = average_link_df.iloc[:, 1:].copy()"
   ]
  },
  {
   "cell_type": "code",
   "execution_count": 157,
   "metadata": {},
   "outputs": [
    {
     "ename": "ValueError",
     "evalue": "Item wrong length 11 instead of 12.",
     "output_type": "error",
     "traceback": [
      "\u001b[0;31m---------------------------------------------------------------------------\u001b[0m",
      "\u001b[0;31mValueError\u001b[0m                                Traceback (most recent call last)",
      "\u001b[0;32m/var/folders/9l/1xgvrcy5545b3kwy8sbpb_7h0000gn/T/ipykernel_69756/930478800.py\u001b[0m in \u001b[0;36m?\u001b[0;34m()\u001b[0m\n\u001b[0;32m----> 1\u001b[0;31m \u001b[0mtest\u001b[0m\u001b[0;34m[\u001b[0m\u001b[0mfiltered_columns\u001b[0m\u001b[0;34m]\u001b[0m\u001b[0;34m\u001b[0m\u001b[0;34m\u001b[0m\u001b[0m\n\u001b[0m",
      "\u001b[0;32m~/github/faultiness/.venv/lib/python3.12/site-packages/pandas/core/frame.py\u001b[0m in \u001b[0;36m?\u001b[0;34m(self, key)\u001b[0m\n\u001b[1;32m   4089\u001b[0m             \u001b[0;32mreturn\u001b[0m \u001b[0mself\u001b[0m\u001b[0;34m.\u001b[0m\u001b[0mwhere\u001b[0m\u001b[0;34m(\u001b[0m\u001b[0mkey\u001b[0m\u001b[0;34m)\u001b[0m\u001b[0;34m\u001b[0m\u001b[0;34m\u001b[0m\u001b[0m\n\u001b[1;32m   4090\u001b[0m \u001b[0;34m\u001b[0m\u001b[0m\n\u001b[1;32m   4091\u001b[0m         \u001b[0;31m# Do we have a (boolean) 1d indexer?\u001b[0m\u001b[0;34m\u001b[0m\u001b[0;34m\u001b[0m\u001b[0m\n\u001b[1;32m   4092\u001b[0m         \u001b[0;32mif\u001b[0m \u001b[0mcom\u001b[0m\u001b[0;34m.\u001b[0m\u001b[0mis_bool_indexer\u001b[0m\u001b[0;34m(\u001b[0m\u001b[0mkey\u001b[0m\u001b[0;34m)\u001b[0m\u001b[0;34m:\u001b[0m\u001b[0;34m\u001b[0m\u001b[0;34m\u001b[0m\u001b[0m\n\u001b[0;32m-> 4093\u001b[0;31m             \u001b[0;32mreturn\u001b[0m \u001b[0mself\u001b[0m\u001b[0;34m.\u001b[0m\u001b[0m_getitem_bool_array\u001b[0m\u001b[0;34m(\u001b[0m\u001b[0mkey\u001b[0m\u001b[0;34m)\u001b[0m\u001b[0;34m\u001b[0m\u001b[0;34m\u001b[0m\u001b[0m\n\u001b[0m\u001b[1;32m   4094\u001b[0m \u001b[0;34m\u001b[0m\u001b[0m\n\u001b[1;32m   4095\u001b[0m         \u001b[0;31m# We are left with two options: a single key, and a collection of keys,\u001b[0m\u001b[0;34m\u001b[0m\u001b[0;34m\u001b[0m\u001b[0m\n\u001b[1;32m   4096\u001b[0m         \u001b[0;31m# We interpret tuples as collections only for non-MultiIndex\u001b[0m\u001b[0;34m\u001b[0m\u001b[0;34m\u001b[0m\u001b[0m\n",
      "\u001b[0;32m~/github/faultiness/.venv/lib/python3.12/site-packages/pandas/core/frame.py\u001b[0m in \u001b[0;36m?\u001b[0;34m(self, key)\u001b[0m\n\u001b[1;32m   4139\u001b[0m                 \u001b[0mUserWarning\u001b[0m\u001b[0;34m,\u001b[0m\u001b[0;34m\u001b[0m\u001b[0;34m\u001b[0m\u001b[0m\n\u001b[1;32m   4140\u001b[0m                 \u001b[0mstacklevel\u001b[0m\u001b[0;34m=\u001b[0m\u001b[0mfind_stack_level\u001b[0m\u001b[0;34m(\u001b[0m\u001b[0;34m)\u001b[0m\u001b[0;34m,\u001b[0m\u001b[0;34m\u001b[0m\u001b[0;34m\u001b[0m\u001b[0m\n\u001b[1;32m   4141\u001b[0m             \u001b[0;34m)\u001b[0m\u001b[0;34m\u001b[0m\u001b[0;34m\u001b[0m\u001b[0m\n\u001b[1;32m   4142\u001b[0m         \u001b[0;32melif\u001b[0m \u001b[0mlen\u001b[0m\u001b[0;34m(\u001b[0m\u001b[0mkey\u001b[0m\u001b[0;34m)\u001b[0m \u001b[0;34m!=\u001b[0m \u001b[0mlen\u001b[0m\u001b[0;34m(\u001b[0m\u001b[0mself\u001b[0m\u001b[0;34m.\u001b[0m\u001b[0mindex\u001b[0m\u001b[0;34m)\u001b[0m\u001b[0;34m:\u001b[0m\u001b[0;34m\u001b[0m\u001b[0;34m\u001b[0m\u001b[0m\n\u001b[0;32m-> 4143\u001b[0;31m             raise ValueError(\n\u001b[0m\u001b[1;32m   4144\u001b[0m                 \u001b[0;34mf\"\u001b[0m\u001b[0;34mItem wrong length \u001b[0m\u001b[0;34m{\u001b[0m\u001b[0mlen\u001b[0m\u001b[0;34m(\u001b[0m\u001b[0mkey\u001b[0m\u001b[0;34m)\u001b[0m\u001b[0;34m}\u001b[0m\u001b[0;34m instead of \u001b[0m\u001b[0;34m{\u001b[0m\u001b[0mlen\u001b[0m\u001b[0;34m(\u001b[0m\u001b[0mself\u001b[0m\u001b[0;34m.\u001b[0m\u001b[0mindex\u001b[0m\u001b[0;34m)\u001b[0m\u001b[0;34m}\u001b[0m\u001b[0;34m.\u001b[0m\u001b[0;34m\"\u001b[0m\u001b[0;34m\u001b[0m\u001b[0;34m\u001b[0m\u001b[0m\n\u001b[1;32m   4145\u001b[0m             \u001b[0;34m)\u001b[0m\u001b[0;34m\u001b[0m\u001b[0;34m\u001b[0m\u001b[0m\n\u001b[1;32m   4146\u001b[0m \u001b[0;34m\u001b[0m\u001b[0m\n",
      "\u001b[0;31mValueError\u001b[0m: Item wrong length 11 instead of 12."
     ]
    }
   ],
   "source": [
    "test[filtered_columns]"
   ]
  },
  {
   "cell_type": "code",
   "execution_count": 158,
   "metadata": {},
   "outputs": [
    {
     "data": {
      "text/html": [
       "<div>\n",
       "<style scoped>\n",
       "    .dataframe tbody tr th:only-of-type {\n",
       "        vertical-align: middle;\n",
       "    }\n",
       "\n",
       "    .dataframe tbody tr th {\n",
       "        vertical-align: top;\n",
       "    }\n",
       "\n",
       "    .dataframe thead th {\n",
       "        text-align: right;\n",
       "    }\n",
       "</style>\n",
       "<table border=\"1\" class=\"dataframe\">\n",
       "  <thead>\n",
       "    <tr style=\"text-align: right;\">\n",
       "      <th></th>\n",
       "      <th>5</th>\n",
       "      <th>8</th>\n",
       "      <th>10</th>\n",
       "    </tr>\n",
       "  </thead>\n",
       "  <tbody>\n",
       "    <tr>\n",
       "      <th>0</th>\n",
       "      <td>1</td>\n",
       "      <td>1</td>\n",
       "      <td>1</td>\n",
       "    </tr>\n",
       "    <tr>\n",
       "      <th>1</th>\n",
       "      <td>2</td>\n",
       "      <td>2</td>\n",
       "      <td>2</td>\n",
       "    </tr>\n",
       "    <tr>\n",
       "      <th>2</th>\n",
       "      <td>1</td>\n",
       "      <td>3</td>\n",
       "      <td>3</td>\n",
       "    </tr>\n",
       "    <tr>\n",
       "      <th>3</th>\n",
       "      <td>3</td>\n",
       "      <td>4</td>\n",
       "      <td>4</td>\n",
       "    </tr>\n",
       "    <tr>\n",
       "      <th>4</th>\n",
       "      <td>3</td>\n",
       "      <td>4</td>\n",
       "      <td>4</td>\n",
       "    </tr>\n",
       "    <tr>\n",
       "      <th>5</th>\n",
       "      <td>4</td>\n",
       "      <td>5</td>\n",
       "      <td>6</td>\n",
       "    </tr>\n",
       "    <tr>\n",
       "      <th>6</th>\n",
       "      <td>5</td>\n",
       "      <td>6</td>\n",
       "      <td>7</td>\n",
       "    </tr>\n",
       "    <tr>\n",
       "      <th>7</th>\n",
       "      <td>5</td>\n",
       "      <td>6</td>\n",
       "      <td>7</td>\n",
       "    </tr>\n",
       "    <tr>\n",
       "      <th>8</th>\n",
       "      <td>1</td>\n",
       "      <td>7</td>\n",
       "      <td>8</td>\n",
       "    </tr>\n",
       "    <tr>\n",
       "      <th>9</th>\n",
       "      <td>1</td>\n",
       "      <td>8</td>\n",
       "      <td>9</td>\n",
       "    </tr>\n",
       "    <tr>\n",
       "      <th>10</th>\n",
       "      <td>6</td>\n",
       "      <td>9</td>\n",
       "      <td>10</td>\n",
       "    </tr>\n",
       "    <tr>\n",
       "      <th>11</th>\n",
       "      <td>4</td>\n",
       "      <td>5</td>\n",
       "      <td>11</td>\n",
       "    </tr>\n",
       "  </tbody>\n",
       "</table>\n",
       "</div>"
      ],
      "text/plain": [
       "    5   8   10\n",
       "0    1   1   1\n",
       "1    2   2   2\n",
       "2    1   3   3\n",
       "3    3   4   4\n",
       "4    3   4   4\n",
       "5    4   5   6\n",
       "6    5   6   7\n",
       "7    5   6   7\n",
       "8    1   7   8\n",
       "9    1   8   9\n",
       "10   6   9  10\n",
       "11   4   5  11"
      ]
     },
     "execution_count": 158,
     "metadata": {},
     "output_type": "execute_result"
    }
   ],
   "source": [
    "average_link_df.iloc[:, 1:].loc[:, filtered_columns]"
   ]
  },
  {
   "cell_type": "code",
   "execution_count": 143,
   "metadata": {},
   "outputs": [
    {
     "data": {
      "text/plain": [
       "array([False, False, False, False,  True, False, False,  True, False,\n",
       "        True, False])"
      ]
     },
     "execution_count": 143,
     "metadata": {},
     "output_type": "execute_result"
    }
   ],
   "source": [
    "filtered_columns"
   ]
  },
  {
   "cell_type": "code",
   "execution_count": 129,
   "metadata": {},
   "outputs": [
    {
     "data": {
      "text/plain": [
       "array([[0, 0, 0, 0, 0, 0, 0, 0, 0],\n",
       "       [0, 0, 0, 0, 0, 0, 0, 0, 0],\n",
       "       [0, 0, 0, 0, 2, 0, 0, 0, 0],\n",
       "       [0, 0, 0, 0, 1, 0, 0, 0, 0],\n",
       "       [0, 0, 0, 0, 1, 0, 0, 0, 0],\n",
       "       [0, 0, 0, 0, 1, 0, 0, 0, 0],\n",
       "       [0, 0, 0, 0, 3, 0, 0, 0, 0],\n",
       "       [0, 0, 0, 0, 3, 0, 0, 0, 0],\n",
       "       [0, 0, 0, 0, 2, 0, 0, 4, 0],\n",
       "       [0, 0, 0, 0, 0, 0, 0, 1, 0],\n",
       "       [0, 0, 0, 0, 0, 0, 0, 1, 0],\n",
       "       [0, 0, 0, 0, 1, 0, 0, 4, 0]])"
      ]
     },
     "execution_count": 129,
     "metadata": {},
     "output_type": "execute_result"
    }
   ],
   "source": [
    "np.abs(average_link[:,1:n_w] - ward_x[:,1:n_w])"
   ]
  },
  {
   "cell_type": "code",
   "execution_count": 141,
   "metadata": {},
   "outputs": [
    {
     "data": {
      "text/plain": [
       "array([[ 1,  1,  1,  1,  1,  1,  1,  1,  1],\n",
       "       [ 2,  2,  2,  2,  2,  2,  2,  2,  2],\n",
       "       [ 1,  1,  1,  1,  1,  3,  3,  3,  3],\n",
       "       [ 1,  1,  3,  3,  3,  4,  4,  4,  4],\n",
       "       [ 1,  1,  3,  3,  3,  4,  4,  4,  4],\n",
       "       [ 1,  3,  4,  4,  4,  5,  5,  5,  5],\n",
       "       [ 2,  2,  2,  2,  5,  6,  6,  6,  6],\n",
       "       [ 2,  2,  2,  2,  5,  6,  6,  6,  6],\n",
       "       [ 1,  1,  1,  1,  1,  3,  3,  7,  7],\n",
       "       [ 1,  1,  1,  1,  1,  1,  7,  8,  8],\n",
       "       [ 1,  3,  4,  5,  6,  7,  8,  9,  9],\n",
       "       [ 1,  3,  4,  4,  4,  5,  5,  5, 10]])"
      ]
     },
     "execution_count": 141,
     "metadata": {},
     "output_type": "execute_result"
    }
   ],
   "source": [
    "average_link[:,1:n_w]"
   ]
  },
  {
   "cell_type": "code",
   "execution_count": 142,
   "metadata": {},
   "outputs": [
    {
     "data": {
      "text/plain": [
       "array([[ 1,  1,  1,  1,  1,  1,  1,  1,  1],\n",
       "       [ 2,  2,  2,  2,  2,  2,  2,  2,  2],\n",
       "       [ 1,  1,  1,  1,  3,  3,  3,  3,  3],\n",
       "       [ 1,  1,  3,  3,  4,  4,  4,  4,  4],\n",
       "       [ 1,  1,  3,  3,  4,  4,  4,  4,  4],\n",
       "       [ 1,  3,  4,  4,  5,  5,  5,  5,  5],\n",
       "       [ 2,  2,  2,  2,  2,  6,  6,  6,  6],\n",
       "       [ 2,  2,  2,  2,  2,  6,  6,  6,  6],\n",
       "       [ 1,  1,  1,  1,  3,  3,  3,  3,  7],\n",
       "       [ 1,  1,  1,  1,  1,  1,  7,  7,  8],\n",
       "       [ 1,  3,  4,  5,  6,  7,  8,  8,  9],\n",
       "       [ 1,  3,  4,  4,  5,  5,  5,  9, 10]])"
      ]
     },
     "execution_count": 142,
     "metadata": {},
     "output_type": "execute_result"
    }
   ],
   "source": [
    "ward_x[:,1:n_w]"
   ]
  },
  {
   "cell_type": "code",
   "execution_count": 128,
   "metadata": {},
   "outputs": [
    {
     "data": {
      "text/plain": [
       "array([[ 2,  2,  2,  2,  2,  2,  2,  2,  2],\n",
       "       [ 1,  1,  1,  1,  1,  3,  3,  3,  3],\n",
       "       [ 1,  1,  3,  3,  3,  4,  4,  4,  4],\n",
       "       [ 1,  1,  3,  3,  3,  4,  4,  4,  4],\n",
       "       [ 1,  3,  4,  4,  4,  5,  5,  5,  5],\n",
       "       [ 2,  2,  2,  2,  5,  6,  6,  6,  6],\n",
       "       [ 2,  2,  2,  2,  5,  6,  6,  6,  6],\n",
       "       [ 1,  1,  1,  1,  1,  3,  3,  7,  7],\n",
       "       [ 1,  1,  1,  1,  1,  1,  7,  8,  8],\n",
       "       [ 1,  3,  4,  5,  6,  7,  8,  9,  9],\n",
       "       [ 1,  3,  4,  4,  4,  5,  5,  5, 10]])"
      ]
     },
     "execution_count": 128,
     "metadata": {},
     "output_type": "execute_result"
    }
   ],
   "source": [
    "average_link[1:,1:n_w]"
   ]
  },
  {
   "cell_type": "code",
   "execution_count": null,
   "metadata": {},
   "outputs": [],
   "source": [
    " groups groups groups groups groups groups groups groups groups groups groups   \n",
    " [1,]      1      1      1      1      1      1      1      1      1      1      1  1\n",
    " [2,]      1      2      2      2      2      2      2      2      2      2      2  2\n",
    " [3,]      1      1      1      1      1      1      3      3      3      3      3  3\n",
    " [4,]      1      1      1      3      3      3      4      4      4      4      4  4\n",
    " [5,]      1      1      1      3      3      3      4      4      4      4      5  5\n",
    " [6,]      1      1      3      4      4      4      5      5      5      5      6  6\n",
    " [7,]      1      2      2      2      2      5      6      6      6      6      7  7\n",
    " [8,]      1      2      2      2      2      5      6      6      6      6      7  8\n",
    " [9,]      1      1      1      1      1      1      3      3      7      7      8  9\n",
    "[10,]      1      1      1      1      1      1      1      7      8      8      9 10\n",
    "[11,]      1      1      3      4      5      6      7      8      9      9     10 11\n",
    "[12,]      1      1      3      4      4      4      5      5      5     10     11 12"
   ]
  },
  {
   "cell_type": "code",
   "execution_count": null,
   "metadata": {},
   "outputs": [],
   "source": [
    "groups groups groups groups groups groups groups groups groups\n",
    " [1,]      1      1      1      1      1      1      1      1      1\n",
    " [2,]      2      2      2      2      2      2      2      2      2\n",
    " [3,]      1      1      1      1      1      3      3      3      3\n",
    " [4,]      1      1      3      3      3      4      4      4      4\n",
    " [5,]      1      1      3      3      3      4      4      4      4\n",
    " [6,]      1      3      4      4      4      5      5      5      5\n",
    " [7,]      2      2      2      2      5      6      6      6      6\n",
    " [8,]      2      2      2      2      5      6      6      6      6\n",
    " [9,]      1      1      1      1      1      3      3      7      7\n",
    "[10,]      1      1      1      1      1      1      7      8      8\n",
    "[11,]      1      3      4      5      6      7      8      9      9\n",
    "[12,]      1      3      4      4      4      5      5      5     10"
   ]
  },
  {
   "cell_type": "code",
   "execution_count": 110,
   "metadata": {},
   "outputs": [
    {
     "data": {
      "text/plain": [
       "array([[1, 1, 2, 2, 3, 4, 0, 0, 0],\n",
       "       [1, 1, 0, 0, 1, 1, 0, 0, 0],\n",
       "       [1, 1, 2, 2, 1, 1, 2, 0, 0],\n",
       "       [1, 1, 2, 2, 2, 2, 1, 0, 0],\n",
       "       [1, 1, 2, 2, 2, 2, 1, 0, 0],\n",
       "       [1, 0, 0, 1, 1, 2, 3, 4, 0],\n",
       "       [1, 1, 0, 0, 1, 3, 2, 1, 0],\n",
       "       [1, 1, 0, 0, 1, 3, 2, 1, 0],\n",
       "       [1, 1, 2, 2, 1, 1, 2, 3, 0],\n",
       "       [1, 1, 2, 2, 3, 4, 1, 0, 0],\n",
       "       [1, 0, 0, 1, 1, 1, 1, 0, 0],\n",
       "       [1, 0, 0, 1, 1, 2, 3, 0, 0]])"
      ]
     },
     "execution_count": 110,
     "metadata": {},
     "output_type": "execute_result"
    }
   ],
   "source": [
    "np.abs(average_link[:, 1:n_w] - ward_x[:, 1:n_w])"
   ]
  },
  {
   "cell_type": "code",
   "execution_count": 105,
   "metadata": {},
   "outputs": [
    {
     "data": {
      "text/plain": [
       "np.True_"
      ]
     },
     "execution_count": 105,
     "metadata": {},
     "output_type": "execute_result"
    }
   ],
   "source": [
    "pd.Series(np.abs(average_link[:, 1:n_w] - ward_x[:, 1:n_w]).sum(axis=0) > 0).sum(axis=0)>0\n",
    "pd.Series(np.abs(average_link[:, 1:n_w] - ward_x[:, 1:n_w]).sum(axis=0) > 0"
   ]
  },
  {
   "cell_type": "code",
   "execution_count": 107,
   "metadata": {},
   "outputs": [
    {
     "data": {
      "text/plain": [
       "0     True\n",
       "1     True\n",
       "2     True\n",
       "3     True\n",
       "4     True\n",
       "5     True\n",
       "6     True\n",
       "7     True\n",
       "8    False\n",
       "dtype: bool"
      ]
     },
     "execution_count": 107,
     "metadata": {},
     "output_type": "execute_result"
    }
   ],
   "source": [
    "pd.Series(np.abs(average_link[:, 1:n_w] - ward_x[:, 1:n_w]).sum(axis=0)) > 0"
   ]
  },
  {
   "cell_type": "code",
   "execution_count": 108,
   "metadata": {},
   "outputs": [
    {
     "name": "stderr",
     "output_type": "stream",
     "text": [
      "/var/folders/9l/1xgvrcy5545b3kwy8sbpb_7h0000gn/T/ipykernel_69756/38066042.py:1: UserWarning: Boolean Series key will be reindexed to match DataFrame index.\n",
      "  a_l = pd.DataFrame(average_link[:, 1:n_w])[\n"
     ]
    },
    {
     "ename": "IndexingError",
     "evalue": "Unalignable boolean Series provided as indexer (index of the boolean Series and of the indexed object do not match).",
     "output_type": "error",
     "traceback": [
      "\u001b[0;31m---------------------------------------------------------------------------\u001b[0m",
      "\u001b[0;31mIndexingError\u001b[0m                             Traceback (most recent call last)",
      "Cell \u001b[0;32mIn[108], line 1\u001b[0m\n\u001b[0;32m----> 1\u001b[0m a_l \u001b[38;5;241m=\u001b[39m \u001b[43mpd\u001b[49m\u001b[38;5;241;43m.\u001b[39;49m\u001b[43mDataFrame\u001b[49m\u001b[43m(\u001b[49m\u001b[43maverage_link\u001b[49m\u001b[43m[\u001b[49m\u001b[43m:\u001b[49m\u001b[43m,\u001b[49m\u001b[43m \u001b[49m\u001b[38;5;241;43m1\u001b[39;49m\u001b[43m:\u001b[49m\u001b[43mn_w\u001b[49m\u001b[43m]\u001b[49m\u001b[43m)\u001b[49m\u001b[43m[\u001b[49m\n\u001b[1;32m      2\u001b[0m \u001b[43m    \u001b[49m\u001b[43mpd\u001b[49m\u001b[38;5;241;43m.\u001b[39;49m\u001b[43mSeries\u001b[49m\u001b[43m(\u001b[49m\u001b[43mnp\u001b[49m\u001b[38;5;241;43m.\u001b[39;49m\u001b[43mabs\u001b[49m\u001b[43m(\u001b[49m\u001b[43maverage_link\u001b[49m\u001b[43m[\u001b[49m\u001b[43m:\u001b[49m\u001b[43m,\u001b[49m\u001b[43m \u001b[49m\u001b[38;5;241;43m1\u001b[39;49m\u001b[43m:\u001b[49m\u001b[43mn_w\u001b[49m\u001b[43m]\u001b[49m\u001b[43m \u001b[49m\u001b[38;5;241;43m-\u001b[39;49m\u001b[43m \u001b[49m\u001b[43mward_x\u001b[49m\u001b[43m[\u001b[49m\u001b[43m:\u001b[49m\u001b[43m,\u001b[49m\u001b[43m \u001b[49m\u001b[38;5;241;43m1\u001b[39;49m\u001b[43m:\u001b[49m\u001b[43mn_w\u001b[49m\u001b[43m]\u001b[49m\u001b[43m)\u001b[49m\u001b[38;5;241;43m.\u001b[39;49m\u001b[43msum\u001b[49m\u001b[43m(\u001b[49m\u001b[43maxis\u001b[49m\u001b[38;5;241;43m=\u001b[39;49m\u001b[38;5;241;43m0\u001b[39;49m\u001b[43m)\u001b[49m\u001b[43m)\u001b[49m\u001b[43m \u001b[49m\u001b[38;5;241;43m>\u001b[39;49m\u001b[43m \u001b[49m\u001b[38;5;241;43m0\u001b[39;49m\n\u001b[1;32m      3\u001b[0m \u001b[43m]\u001b[49m\n",
      "File \u001b[0;32m~/github/faultiness/.venv/lib/python3.12/site-packages/pandas/core/frame.py:4093\u001b[0m, in \u001b[0;36mDataFrame.__getitem__\u001b[0;34m(self, key)\u001b[0m\n\u001b[1;32m   4091\u001b[0m \u001b[38;5;66;03m# Do we have a (boolean) 1d indexer?\u001b[39;00m\n\u001b[1;32m   4092\u001b[0m \u001b[38;5;28;01mif\u001b[39;00m com\u001b[38;5;241m.\u001b[39mis_bool_indexer(key):\n\u001b[0;32m-> 4093\u001b[0m     \u001b[38;5;28;01mreturn\u001b[39;00m \u001b[38;5;28;43mself\u001b[39;49m\u001b[38;5;241;43m.\u001b[39;49m\u001b[43m_getitem_bool_array\u001b[49m\u001b[43m(\u001b[49m\u001b[43mkey\u001b[49m\u001b[43m)\u001b[49m\n\u001b[1;32m   4095\u001b[0m \u001b[38;5;66;03m# We are left with two options: a single key, and a collection of keys,\u001b[39;00m\n\u001b[1;32m   4096\u001b[0m \u001b[38;5;66;03m# We interpret tuples as collections only for non-MultiIndex\u001b[39;00m\n\u001b[1;32m   4097\u001b[0m is_single_key \u001b[38;5;241m=\u001b[39m \u001b[38;5;28misinstance\u001b[39m(key, \u001b[38;5;28mtuple\u001b[39m) \u001b[38;5;129;01mor\u001b[39;00m \u001b[38;5;129;01mnot\u001b[39;00m is_list_like(key)\n",
      "File \u001b[0;32m~/github/faultiness/.venv/lib/python3.12/site-packages/pandas/core/frame.py:4149\u001b[0m, in \u001b[0;36mDataFrame._getitem_bool_array\u001b[0;34m(self, key)\u001b[0m\n\u001b[1;32m   4143\u001b[0m     \u001b[38;5;28;01mraise\u001b[39;00m \u001b[38;5;167;01mValueError\u001b[39;00m(\n\u001b[1;32m   4144\u001b[0m         \u001b[38;5;124mf\u001b[39m\u001b[38;5;124m\"\u001b[39m\u001b[38;5;124mItem wrong length \u001b[39m\u001b[38;5;132;01m{\u001b[39;00m\u001b[38;5;28mlen\u001b[39m(key)\u001b[38;5;132;01m}\u001b[39;00m\u001b[38;5;124m instead of \u001b[39m\u001b[38;5;132;01m{\u001b[39;00m\u001b[38;5;28mlen\u001b[39m(\u001b[38;5;28mself\u001b[39m\u001b[38;5;241m.\u001b[39mindex)\u001b[38;5;132;01m}\u001b[39;00m\u001b[38;5;124m.\u001b[39m\u001b[38;5;124m\"\u001b[39m\n\u001b[1;32m   4145\u001b[0m     )\n\u001b[1;32m   4147\u001b[0m \u001b[38;5;66;03m# check_bool_indexer will throw exception if Series key cannot\u001b[39;00m\n\u001b[1;32m   4148\u001b[0m \u001b[38;5;66;03m# be reindexed to match DataFrame rows\u001b[39;00m\n\u001b[0;32m-> 4149\u001b[0m key \u001b[38;5;241m=\u001b[39m \u001b[43mcheck_bool_indexer\u001b[49m\u001b[43m(\u001b[49m\u001b[38;5;28;43mself\u001b[39;49m\u001b[38;5;241;43m.\u001b[39;49m\u001b[43mindex\u001b[49m\u001b[43m,\u001b[49m\u001b[43m \u001b[49m\u001b[43mkey\u001b[49m\u001b[43m)\u001b[49m\n\u001b[1;32m   4151\u001b[0m \u001b[38;5;28;01mif\u001b[39;00m key\u001b[38;5;241m.\u001b[39mall():\n\u001b[1;32m   4152\u001b[0m     \u001b[38;5;28;01mreturn\u001b[39;00m \u001b[38;5;28mself\u001b[39m\u001b[38;5;241m.\u001b[39mcopy(deep\u001b[38;5;241m=\u001b[39m\u001b[38;5;28;01mNone\u001b[39;00m)\n",
      "File \u001b[0;32m~/github/faultiness/.venv/lib/python3.12/site-packages/pandas/core/indexing.py:2662\u001b[0m, in \u001b[0;36mcheck_bool_indexer\u001b[0;34m(index, key)\u001b[0m\n\u001b[1;32m   2660\u001b[0m indexer \u001b[38;5;241m=\u001b[39m result\u001b[38;5;241m.\u001b[39mindex\u001b[38;5;241m.\u001b[39mget_indexer_for(index)\n\u001b[1;32m   2661\u001b[0m \u001b[38;5;28;01mif\u001b[39;00m \u001b[38;5;241m-\u001b[39m\u001b[38;5;241m1\u001b[39m \u001b[38;5;129;01min\u001b[39;00m indexer:\n\u001b[0;32m-> 2662\u001b[0m     \u001b[38;5;28;01mraise\u001b[39;00m IndexingError(\n\u001b[1;32m   2663\u001b[0m         \u001b[38;5;124m\"\u001b[39m\u001b[38;5;124mUnalignable boolean Series provided as \u001b[39m\u001b[38;5;124m\"\u001b[39m\n\u001b[1;32m   2664\u001b[0m         \u001b[38;5;124m\"\u001b[39m\u001b[38;5;124mindexer (index of the boolean Series and of \u001b[39m\u001b[38;5;124m\"\u001b[39m\n\u001b[1;32m   2665\u001b[0m         \u001b[38;5;124m\"\u001b[39m\u001b[38;5;124mthe indexed object do not match).\u001b[39m\u001b[38;5;124m\"\u001b[39m\n\u001b[1;32m   2666\u001b[0m     )\n\u001b[1;32m   2668\u001b[0m result \u001b[38;5;241m=\u001b[39m result\u001b[38;5;241m.\u001b[39mtake(indexer)\n\u001b[1;32m   2670\u001b[0m \u001b[38;5;66;03m# fall through for boolean\u001b[39;00m\n",
      "\u001b[0;31mIndexingError\u001b[0m: Unalignable boolean Series provided as indexer (index of the boolean Series and of the indexed object do not match)."
     ]
    }
   ],
   "source": [
    "a_l = pd.DataFrame(average_link[:, 1:n_w])[\n",
    "    pd.Series(np.abs(average_link[:, 1:n_w] - ward_x[:, 1:n_w]).sum(axis=0)) > 0\n",
    "]"
   ]
  },
  {
   "cell_type": "code",
   "execution_count": 100,
   "metadata": {},
   "outputs": [
    {
     "ename": "NameError",
     "evalue": "name 'average_link_df' is not defined",
     "output_type": "error",
     "traceback": [
      "\u001b[0;31m---------------------------------------------------------------------------\u001b[0m",
      "\u001b[0;31mNameError\u001b[0m                                 Traceback (most recent call last)",
      "Cell \u001b[0;32mIn[100], line 1\u001b[0m\n\u001b[0;32m----> 1\u001b[0m pd\u001b[38;5;241m.\u001b[39mSeries(np\u001b[38;5;241m.\u001b[39mabs(\u001b[43maverage_link_df\u001b[49m\u001b[38;5;241m.\u001b[39miloc[:, \u001b[38;5;241m1\u001b[39m:n_w]\u001b[38;5;241m.\u001b[39mvalues \u001b[38;5;241m-\u001b[39m ward_x_df\u001b[38;5;241m.\u001b[39miloc[:, \u001b[38;5;241m1\u001b[39m:n_w]\u001b[38;5;241m.\u001b[39mvalues))\u001b[38;5;241m.\u001b[39msum(axis\u001b[38;5;241m=\u001b[39m\u001b[38;5;241m0\u001b[39m) \u001b[38;5;241m>\u001b[39m \u001b[38;5;241m0\u001b[39m\n",
      "\u001b[0;31mNameError\u001b[0m: name 'average_link_df' is not defined"
     ]
    }
   ],
   "source": [
    "pd.Series(np.abs(average_link_df.iloc[:, 1:n_w].values - ward_x_df.iloc[:, 1:n_w].values)).sum(axis=0) > 0"
   ]
  },
  {
   "cell_type": "code",
   "execution_count": 99,
   "metadata": {},
   "outputs": [
    {
     "ename": "ValueError",
     "evalue": "Data must be 1-dimensional, got ndarray of shape (12, 9) instead",
     "output_type": "error",
     "traceback": [
      "\u001b[0;31m---------------------------------------------------------------------------\u001b[0m",
      "\u001b[0;31mValueError\u001b[0m                                Traceback (most recent call last)",
      "Cell \u001b[0;32mIn[99], line 1\u001b[0m\n\u001b[0;32m----> 1\u001b[0m \u001b[43mpd\u001b[49m\u001b[38;5;241;43m.\u001b[39;49m\u001b[43mSeries\u001b[49m\u001b[43m(\u001b[49m\u001b[43mnp\u001b[49m\u001b[38;5;241;43m.\u001b[39;49m\u001b[43mabs\u001b[49m\u001b[43m(\u001b[49m\u001b[43maverage_link\u001b[49m\u001b[43m[\u001b[49m\u001b[43m:\u001b[49m\u001b[43m,\u001b[49m\u001b[43m \u001b[49m\u001b[38;5;241;43m1\u001b[39;49m\u001b[43m:\u001b[49m\u001b[43mn_w\u001b[49m\u001b[43m]\u001b[49m\u001b[43m \u001b[49m\u001b[38;5;241;43m-\u001b[39;49m\u001b[43m \u001b[49m\u001b[43mward_x\u001b[49m\u001b[43m[\u001b[49m\u001b[43m:\u001b[49m\u001b[43m,\u001b[49m\u001b[43m \u001b[49m\u001b[38;5;241;43m1\u001b[39;49m\u001b[43m:\u001b[49m\u001b[43mn_w\u001b[49m\u001b[43m]\u001b[49m\u001b[43m)\u001b[49m\u001b[43m)\u001b[49m\u001b[38;5;241m.\u001b[39msum(axis\u001b[38;5;241m=\u001b[39m\u001b[38;5;241m0\u001b[39m) \u001b[38;5;241m>\u001b[39m \u001b[38;5;241m0\u001b[39m\n",
      "File \u001b[0;32m~/github/faultiness/.venv/lib/python3.12/site-packages/pandas/core/series.py:584\u001b[0m, in \u001b[0;36mSeries.__init__\u001b[0;34m(self, data, index, dtype, name, copy, fastpath)\u001b[0m\n\u001b[1;32m    582\u001b[0m         data \u001b[38;5;241m=\u001b[39m data\u001b[38;5;241m.\u001b[39mcopy()\n\u001b[1;32m    583\u001b[0m \u001b[38;5;28;01melse\u001b[39;00m:\n\u001b[0;32m--> 584\u001b[0m     data \u001b[38;5;241m=\u001b[39m \u001b[43msanitize_array\u001b[49m\u001b[43m(\u001b[49m\u001b[43mdata\u001b[49m\u001b[43m,\u001b[49m\u001b[43m \u001b[49m\u001b[43mindex\u001b[49m\u001b[43m,\u001b[49m\u001b[43m \u001b[49m\u001b[43mdtype\u001b[49m\u001b[43m,\u001b[49m\u001b[43m \u001b[49m\u001b[43mcopy\u001b[49m\u001b[43m)\u001b[49m\n\u001b[1;32m    586\u001b[0m     manager \u001b[38;5;241m=\u001b[39m _get_option(\u001b[38;5;124m\"\u001b[39m\u001b[38;5;124mmode.data_manager\u001b[39m\u001b[38;5;124m\"\u001b[39m, silent\u001b[38;5;241m=\u001b[39m\u001b[38;5;28;01mTrue\u001b[39;00m)\n\u001b[1;32m    587\u001b[0m     \u001b[38;5;28;01mif\u001b[39;00m manager \u001b[38;5;241m==\u001b[39m \u001b[38;5;124m\"\u001b[39m\u001b[38;5;124mblock\u001b[39m\u001b[38;5;124m\"\u001b[39m:\n",
      "File \u001b[0;32m~/github/faultiness/.venv/lib/python3.12/site-packages/pandas/core/construction.py:659\u001b[0m, in \u001b[0;36msanitize_array\u001b[0;34m(data, index, dtype, copy, allow_2d)\u001b[0m\n\u001b[1;32m    656\u001b[0m             subarr \u001b[38;5;241m=\u001b[39m cast(np\u001b[38;5;241m.\u001b[39mndarray, subarr)\n\u001b[1;32m    657\u001b[0m             subarr \u001b[38;5;241m=\u001b[39m maybe_infer_to_datetimelike(subarr)\n\u001b[0;32m--> 659\u001b[0m subarr \u001b[38;5;241m=\u001b[39m \u001b[43m_sanitize_ndim\u001b[49m\u001b[43m(\u001b[49m\u001b[43msubarr\u001b[49m\u001b[43m,\u001b[49m\u001b[43m \u001b[49m\u001b[43mdata\u001b[49m\u001b[43m,\u001b[49m\u001b[43m \u001b[49m\u001b[43mdtype\u001b[49m\u001b[43m,\u001b[49m\u001b[43m \u001b[49m\u001b[43mindex\u001b[49m\u001b[43m,\u001b[49m\u001b[43m \u001b[49m\u001b[43mallow_2d\u001b[49m\u001b[38;5;241;43m=\u001b[39;49m\u001b[43mallow_2d\u001b[49m\u001b[43m)\u001b[49m\n\u001b[1;32m    661\u001b[0m \u001b[38;5;28;01mif\u001b[39;00m \u001b[38;5;28misinstance\u001b[39m(subarr, np\u001b[38;5;241m.\u001b[39mndarray):\n\u001b[1;32m    662\u001b[0m     \u001b[38;5;66;03m# at this point we should have dtype be None or subarr.dtype == dtype\u001b[39;00m\n\u001b[1;32m    663\u001b[0m     dtype \u001b[38;5;241m=\u001b[39m cast(np\u001b[38;5;241m.\u001b[39mdtype, dtype)\n",
      "File \u001b[0;32m~/github/faultiness/.venv/lib/python3.12/site-packages/pandas/core/construction.py:718\u001b[0m, in \u001b[0;36m_sanitize_ndim\u001b[0;34m(result, data, dtype, index, allow_2d)\u001b[0m\n\u001b[1;32m    716\u001b[0m     \u001b[38;5;28;01mif\u001b[39;00m allow_2d:\n\u001b[1;32m    717\u001b[0m         \u001b[38;5;28;01mreturn\u001b[39;00m result\n\u001b[0;32m--> 718\u001b[0m     \u001b[38;5;28;01mraise\u001b[39;00m \u001b[38;5;167;01mValueError\u001b[39;00m(\n\u001b[1;32m    719\u001b[0m         \u001b[38;5;124mf\u001b[39m\u001b[38;5;124m\"\u001b[39m\u001b[38;5;124mData must be 1-dimensional, got ndarray of shape \u001b[39m\u001b[38;5;132;01m{\u001b[39;00mdata\u001b[38;5;241m.\u001b[39mshape\u001b[38;5;132;01m}\u001b[39;00m\u001b[38;5;124m instead\u001b[39m\u001b[38;5;124m\"\u001b[39m\n\u001b[1;32m    720\u001b[0m     )\n\u001b[1;32m    721\u001b[0m \u001b[38;5;28;01mif\u001b[39;00m is_object_dtype(dtype) \u001b[38;5;129;01mand\u001b[39;00m \u001b[38;5;28misinstance\u001b[39m(dtype, ExtensionDtype):\n\u001b[1;32m    722\u001b[0m     \u001b[38;5;66;03m# i.e. NumpyEADtype(\"O\")\u001b[39;00m\n\u001b[1;32m    724\u001b[0m     result \u001b[38;5;241m=\u001b[39m com\u001b[38;5;241m.\u001b[39masarray_tuplesafe(data, dtype\u001b[38;5;241m=\u001b[39mnp\u001b[38;5;241m.\u001b[39mdtype(\u001b[38;5;124m\"\u001b[39m\u001b[38;5;124mobject\u001b[39m\u001b[38;5;124m\"\u001b[39m))\n",
      "\u001b[0;31mValueError\u001b[0m: Data must be 1-dimensional, got ndarray of shape (12, 9) instead"
     ]
    }
   ],
   "source": [
    "pd.Series(np.abs(average_link[:, 1:n_w] - ward_x[:, 1:n_w])).sum(axis=0) > 0"
   ]
  },
  {
   "cell_type": "code",
   "execution_count": null,
   "metadata": {},
   "outputs": [],
   "source": []
  }
 ],
 "metadata": {
  "kernelspec": {
   "display_name": ".venv",
   "language": "python",
   "name": "python3"
  },
  "language_info": {
   "codemirror_mode": {
    "name": "ipython",
    "version": 3
   },
   "file_extension": ".py",
   "mimetype": "text/x-python",
   "name": "python",
   "nbconvert_exporter": "python",
   "pygments_lexer": "ipython3",
   "version": "3.12.3"
  }
 },
 "nbformat": 4,
 "nbformat_minor": 2
}
